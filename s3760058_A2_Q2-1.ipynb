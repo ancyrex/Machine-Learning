{
  "cells": [
    {
      "metadata": {},
      "cell_type": "markdown",
      "source": "# Assignment Honour Code\nI solemnly swear that I have not discussed my assignment solutions with anyone in any way and the solutions I am submitting are my own personal work.\n\nFull Name: Ancy Rex"
    },
    {
      "metadata": {},
      "cell_type": "markdown",
      "source": "# QUESTION 2"
    },
    {
      "metadata": {},
      "cell_type": "markdown",
      "source": "## Loading the data"
    },
    {
      "metadata": {
        "trusted": true
      },
      "cell_type": "code",
      "source": "import warnings\nwarnings.filterwarnings(\"ignore\")\n\nimport numpy as np\nimport pandas as pd\npd.set_option('display.max_columns', None) \nimport requests\n\n# loading the data from data file\ndata_pf = './data/A2_Q2.csv'\ndata2 = pd.read_csv(data_pf)\ndata2=pd.DataFrame(data2)\n# new dataset created for working\ndata2_copy =pd.DataFrame(data2.copy())\ndata2_copy.head(10)",
      "execution_count": 1,
      "outputs": [
        {
          "output_type": "execute_result",
          "execution_count": 1,
          "data": {
            "text/plain": "   ID Target  Score\n0   1  False   0.46\n1   2  False   0.14\n2   3  False   0.48\n3   4   True   0.91\n4   5  False   0.24\n5   6   True   0.79\n6   7  False   0.17\n7   8  False   0.11\n8   9  False   0.54\n9  10   True   0.32",
            "text/html": "<div>\n<table border=\"1\" class=\"dataframe\">\n  <thead>\n    <tr style=\"text-align: right;\">\n      <th></th>\n      <th>ID</th>\n      <th>Target</th>\n      <th>Score</th>\n    </tr>\n  </thead>\n  <tbody>\n    <tr>\n      <th>0</th>\n      <td>1</td>\n      <td>False</td>\n      <td>0.46</td>\n    </tr>\n    <tr>\n      <th>1</th>\n      <td>2</td>\n      <td>False</td>\n      <td>0.14</td>\n    </tr>\n    <tr>\n      <th>2</th>\n      <td>3</td>\n      <td>False</td>\n      <td>0.48</td>\n    </tr>\n    <tr>\n      <th>3</th>\n      <td>4</td>\n      <td>True</td>\n      <td>0.91</td>\n    </tr>\n    <tr>\n      <th>4</th>\n      <td>5</td>\n      <td>False</td>\n      <td>0.24</td>\n    </tr>\n    <tr>\n      <th>5</th>\n      <td>6</td>\n      <td>True</td>\n      <td>0.79</td>\n    </tr>\n    <tr>\n      <th>6</th>\n      <td>7</td>\n      <td>False</td>\n      <td>0.17</td>\n    </tr>\n    <tr>\n      <th>7</th>\n      <td>8</td>\n      <td>False</td>\n      <td>0.11</td>\n    </tr>\n    <tr>\n      <th>8</th>\n      <td>9</td>\n      <td>False</td>\n      <td>0.54</td>\n    </tr>\n    <tr>\n      <th>9</th>\n      <td>10</td>\n      <td>True</td>\n      <td>0.32</td>\n    </tr>\n  </tbody>\n</table>\n</div>"
          },
          "metadata": {}
        }
      ]
    },
    {
      "metadata": {
        "trusted": true
      },
      "cell_type": "markdown",
      "source": "## Part A"
    },
    {
      "metadata": {},
      "cell_type": "markdown",
      "source": "True is considered as the postive target level with score threshold of 0.5. The target column is changed from boolean type to string type for easier access of prediction outcome,which is divided in 4 parts True Positive, False Positive, True Negative ,and False Negative values.\n<br  />True Positive (Target = True, Score >= 0.50)\n<br  />False Negative (Target = True, Score < 0.50)\n<br  />False Positive (Target = False, Score >= 0.50)\n<br  />True Negative (Target = False, Score < 0.50)"
    },
    {
      "metadata": {
        "trusted": true
      },
      "cell_type": "code",
      "source": "# changing boolean to string\ndata2_copy['Target'] = data2_copy['Target'].astype('str')",
      "execution_count": 2,
      "outputs": []
    },
    {
      "metadata": {},
      "cell_type": "markdown",
      "source": "conf_matrix function was used to check each of the values in the dataset with the score threshold values to replace them with TN,TP,FP and FN. The appended values were then put into a list. "
    },
    {
      "metadata": {
        "trusted": true
      },
      "cell_type": "code",
      "source": "# appending prediction outcome values with the help of threshold values\ncolumn1 = []\ndef conf_matrix():\n    for i in range(0,30):\n        if((data2_copy.loc[i,'Target'] == 'True') & (data2_copy.loc[i,'Score'] < 0.50)):\n            column1.append(\"FN\")\n        elif((data2_copy.loc[i,'Target'] == 'True') & (data2_copy.loc[i,'Score'] >= 0.50)):\n            column1.append(\"TP\")\n        elif((data2_copy.loc[i,'Target'] == 'False') & (data2_copy.loc[i,'Score'] < 0.50)):\n            column1.append(\"TN\")\n        elif((data2_copy.loc[i,'Target'] == 'False') & (data2_copy.loc[i,'Score'] >= 0.50)):\n            column1.append(\"FP\")\n        else:\n            print(\"Invalid\")\n    print(column1)\n    \nconf_matrix()",
      "execution_count": 3,
      "outputs": [
        {
          "output_type": "stream",
          "text": "['TN', 'TN', 'TN', 'TP', 'TN', 'TP', 'TN', 'TN', 'FP', 'FN', 'TN', 'TP', 'FN', 'TP', 'FP', 'FN', 'TP', 'TN', 'TN', 'FP', 'TN', 'TP', 'FP', 'FP', 'TP', 'TP', 'FN', 'FP', 'TP', 'TN']\n",
          "name": "stdout"
        }
      ]
    },
    {
      "metadata": {},
      "cell_type": "markdown",
      "source": "The count of each of the 4 values in the list was then displayed to obtain the confusion matrix."
    },
    {
      "metadata": {
        "trusted": true
      },
      "cell_type": "code",
      "source": "#initialising to variables\ntrue_pos = column1.count(\"TP\")\nfalse_pos = column1.count(\"FP\")\ntrue_neg = column1.count(\"TN\")\nfalse_neg = column1.count(\"FN\")\n\nprint(\"True Postive:\",true_pos)\nprint(\"True Negative:\",true_neg)\nprint(\"False Postive:\",false_pos)\nprint(\"False Negative:\",false_neg)",
      "execution_count": 4,
      "outputs": [
        {
          "output_type": "stream",
          "text": "True Postive: 9\nTrue Negative: 11\nFalse Postive: 6\nFalse Negative: 4\n",
          "name": "stdout"
        }
      ]
    },
    {
      "metadata": {},
      "cell_type": "markdown",
      "source": "The confusion matrix was then constructed using the value count of the list."
    },
    {
      "metadata": {
        "trusted": true
      },
      "cell_type": "markdown",
      "source": "### <center>Confusion Matrix</center>\n| Prediction / Target | True | False |\n| --- | --- | --- |\n| True | 9 | 6 |\n| False | 4 | 11 |"
    },
    {
      "metadata": {},
      "cell_type": "markdown",
      "source": "## Part B "
    },
    {
      "metadata": {},
      "cell_type": "markdown",
      "source": "1. Error Rate :\n<center><font size=\"2\">$$\\frac{FP+FN}{TP+TN+FP+FN} $$</font></center>\n\n2. Precision :\n<center><font size=\"2\">$$\\frac{TP}{TP+FP} $$</font></center>\n          \n3. True Positive Rate (TPR) :\n<center><font size=\"2\">$$\\frac{TP}{TP+FN} $$</font></center>\n\n4. F1-Score :\n<center><font size=\"2\">$$2* \\frac{Precision * Recall}{Precision+Recall} $$</font></center>\n\n5. False Positive Rate (FPR) :\n<center><font size=\"2\">$$\\frac{FP}{TN+FP} $$</font></center>"
    },
    {
      "metadata": {
        "trusted": true
      },
      "cell_type": "code",
      "source": "# calculation of the 5 metrics\nerr_rate = (false_pos + false_neg)/(true_pos + false_pos + true_neg + false_neg)\nprecision = true_pos/(true_pos + false_pos)\ntpr = true_pos/(true_pos + false_neg)\nf1_score = 2*((precision * tpr)/(precision + tpr))\nfpr = false_pos/(true_neg + false_pos)",
      "execution_count": 5,
      "outputs": []
    },
    {
      "metadata": {},
      "cell_type": "markdown",
      "source": "## Part C"
    },
    {
      "metadata": {},
      "cell_type": "markdown",
      "source": "Assuming that the score threshold vary from 0.1 to 0.9 with increment of 0.1. A dictionary was created with 9 list in them so as to store the prediction outcomes with different threshold in each of them."
    },
    {
      "metadata": {
        "trusted": true
      },
      "cell_type": "code",
      "source": "# calculation of different prediction outcomes in different threshold\nobj = {}\ncolumn1=[]\nthreshold = [0.1,0.2,0.3,0.4,0.5,0.6,0.7,0.8,0.9]\nlength = len(threshold) \nfor i in range(length):\n    obj['l'+str(i)] = []\ndef conf_matrix():\n    for i in range(0,30):\n       # print(obj)\n        for j in range(length):\n            if((data2_copy.loc[i,'Target'] == 'True') & (data2_copy.loc[i,'Score'] < threshold[j])):\n                obj['l'+str(j)].append(\"FN\")  \n            elif((data2_copy.loc[i,'Target'] == 'True') & (data2_copy.loc[i,'Score'] >=  threshold[j])):\n                obj['l'+str(j)].append(\"TP\")  \n            elif((data2_copy.loc[i,'Target'] == 'False') & (data2_copy.loc[i,'Score'] <  threshold[j])):\n                obj['l'+str(j)].append(\"TN\")  \n            elif((data2_copy.loc[i,'Target'] == 'False') & (data2_copy.loc[i,'Score'] >=  threshold[j])):\n                 obj['l'+str(j)].append(\"FP\")  \n            else:\n                print(\"Invalid\")\n                \n    print(obj)\n    \nconf_matrix()            ",
      "execution_count": 6,
      "outputs": [
        {
          "output_type": "stream",
          "text": "{'l0': ['FP', 'FP', 'FP', 'TP', 'FP', 'TP', 'FP', 'FP', 'FP', 'TP', 'FP', 'TP', 'TP', 'TP', 'FP', 'TP', 'TP', 'FP', 'FP', 'FP', 'TN', 'TP', 'FP', 'FP', 'TP', 'TP', 'TP', 'FP', 'TP', 'FP'], 'l8': ['TN', 'TN', 'TN', 'TP', 'TN', 'FN', 'TN', 'TN', 'TN', 'FN', 'TN', 'FN', 'FN', 'FN', 'TN', 'FN', 'FN', 'TN', 'TN', 'TN', 'TN', 'FN', 'TN', 'TN', 'FN', 'FN', 'FN', 'TN', 'FN', 'TN'], 'l7': ['TN', 'TN', 'TN', 'TP', 'TN', 'FN', 'TN', 'TN', 'TN', 'FN', 'TN', 'FN', 'FN', 'TP', 'TN', 'FN', 'TP', 'TN', 'TN', 'FP', 'TN', 'TP', 'TN', 'TN', 'FN', 'FN', 'FN', 'TN', 'FN', 'TN'], 'l5': ['TN', 'TN', 'TN', 'TP', 'TN', 'TP', 'TN', 'TN', 'TN', 'FN', 'TN', 'FN', 'FN', 'TP', 'TN', 'FN', 'TP', 'TN', 'TN', 'FP', 'TN', 'TP', 'FP', 'FP', 'TP', 'TP', 'FN', 'FP', 'TP', 'TN'], 'l1': ['FP', 'TN', 'FP', 'TP', 'FP', 'TP', 'TN', 'TN', 'FP', 'TP', 'FP', 'TP', 'TP', 'TP', 'FP', 'TP', 'TP', 'FP', 'FP', 'FP', 'TN', 'TP', 'FP', 'FP', 'TP', 'TP', 'TP', 'FP', 'TP', 'TN'], 'l2': ['FP', 'TN', 'FP', 'TP', 'TN', 'TP', 'TN', 'TN', 'FP', 'TP', 'TN', 'TP', 'TP', 'TP', 'FP', 'FN', 'TP', 'FP', 'FP', 'FP', 'TN', 'TP', 'FP', 'FP', 'TP', 'TP', 'TP', 'FP', 'TP', 'TN'], 'l4': ['TN', 'TN', 'TN', 'TP', 'TN', 'TP', 'TN', 'TN', 'FP', 'FN', 'TN', 'TP', 'FN', 'TP', 'FP', 'FN', 'TP', 'TN', 'TN', 'FP', 'TN', 'TP', 'FP', 'FP', 'TP', 'TP', 'FN', 'FP', 'TP', 'TN'], 'l6': ['TN', 'TN', 'TN', 'TP', 'TN', 'TP', 'TN', 'TN', 'TN', 'FN', 'TN', 'FN', 'FN', 'TP', 'TN', 'FN', 'TP', 'TN', 'TN', 'FP', 'TN', 'TP', 'FP', 'TN', 'TP', 'FN', 'FN', 'TN', 'FN', 'TN'], 'l3': ['FP', 'TN', 'FP', 'TP', 'TN', 'TP', 'TN', 'TN', 'FP', 'FN', 'TN', 'TP', 'TP', 'TP', 'FP', 'FN', 'TP', 'TN', 'TN', 'FP', 'TN', 'TP', 'FP', 'FP', 'TP', 'TP', 'TP', 'FP', 'TP', 'TN']}\n",
          "name": "stdout"
        }
      ]
    },
    {
      "metadata": {},
      "cell_type": "markdown",
      "source": "The dictionary was then converted to a dataframe for further working. Each list was turned to a column thus giving us 9 columns in the dataset. "
    },
    {
      "metadata": {
        "trusted": true
      },
      "cell_type": "code",
      "source": "# initialising to dataframe\npred_outcome=pd.DataFrame(obj)",
      "execution_count": 7,
      "outputs": []
    },
    {
      "metadata": {},
      "cell_type": "markdown",
      "source": "The 4 prediction outcomes for each of the threshold was displayed using the value count taken for each of the column."
    },
    {
      "metadata": {
        "trusted": true
      },
      "cell_type": "code",
      "source": "# value count of prediction outcomes\nfor i in range(0,8):\n    print(\"Threshold =\",threshold[i])\n    print(pred_outcome['l'+str(i)].value_counts())",
      "execution_count": 8,
      "outputs": [
        {
          "output_type": "stream",
          "text": "Threshold = 0.1\nFP    16\nTP    13\nTN     1\nName: l0, dtype: int64\nThreshold = 0.2\nTP    13\nFP    12\nTN     5\nName: l1, dtype: int64\nThreshold = 0.3\nTP    12\nFP    10\nTN     7\nFN     1\nName: l2, dtype: int64\nThreshold = 0.4\nTP    11\nTN     9\nFP     8\nFN     2\nName: l3, dtype: int64\nThreshold = 0.5\nTN    11\nTP     9\nFP     6\nFN     4\nName: l4, dtype: int64\nThreshold = 0.6\nTN    13\nTP     8\nFN     5\nFP     4\nName: l5, dtype: int64\nThreshold = 0.7\nTN    15\nFN     7\nTP     6\nFP     2\nName: l6, dtype: int64\nThreshold = 0.8\nTN    16\nFN     9\nTP     4\nFP     1\nName: l7, dtype: int64\n",
          "name": "stdout"
        }
      ]
    },
    {
      "metadata": {},
      "cell_type": "markdown",
      "source": "The TPR and FPR was found for each of the threshold (0.1 - 0.9)using the following formula.\n<br  />True Positive Rate (TPR) :\n<center><font size=\"2\">$$\\frac{TP}{TP+FN} $$</font></center>\n\n<br  />False Positive Rate (FPR) :\n<center><font size=\"2\">$$\\frac{FP}{TN+FP} $$</font></center>\n<br  /> The 9 TPR and FPR values were rounded off to 3 decimal points and appended into lists."
    },
    {
      "metadata": {
        "trusted": true
      },
      "cell_type": "code",
      "source": "# calculating TPR and FPR values and initialising it to lists\nTPR=[]\nFPR=[]\nfor i in range(0,9):\n    true_postive = (pred_outcome['l'+str(i)] == 'TP').sum()\n    true_negative = (pred_outcome['l'+str(i)] == 'TN').sum()\n    false_postive = (pred_outcome['l'+str(i)] == 'FP').sum()\n    false_negative = (pred_outcome['l'+str(i)] == 'FN').sum()\n    TPR.append(round((true_postive/(true_postive+false_negative)),3))\n    FPR.append(round((false_postive/(false_postive+true_negative)),3))\nprint(TPR)\nprint(FPR)",
      "execution_count": 9,
      "outputs": [
        {
          "output_type": "stream",
          "text": "[1.0, 1.0, 0.923, 0.846, 0.692, 0.615, 0.462, 0.308, 0.077]\n[0.941, 0.706, 0.588, 0.471, 0.353, 0.235, 0.118, 0.059, 0.0]\n",
          "name": "stdout"
        }
      ]
    },
    {
      "metadata": {},
      "cell_type": "markdown",
      "source": "## Resulting Datasets"
    },
    {
      "metadata": {},
      "cell_type": "markdown",
      "source": "df_metrics was constructed to hold the values of the Error Rate, Precision, TPR, F1-Score and FPR metrics. It consists of  2 columns with metrics in one and the corresponding value in the value column."
    },
    {
      "metadata": {
        "trusted": true
      },
      "cell_type": "code",
      "source": "#construction of df_metrics dataframe\ndf_metrics = pd.DataFrame(columns=['Metric', 'Value'])\ndf_metrics.loc[len(df_metrics)] = ['Error Rate',round(err_rate,3)]\ndf_metrics.loc[len(df_metrics)] = ['Precision',round(precision,3)]\ndf_metrics.loc[len(df_metrics)] = ['TPR',round(tpr,3)]\ndf_metrics.loc[len(df_metrics)] = ['F1-Score',round(f1_score,3)]\ndf_metrics.loc[len(df_metrics)] = ['FPR',round(fpr,3)]\n\ndf_metrics",
      "execution_count": 10,
      "outputs": [
        {
          "output_type": "execute_result",
          "execution_count": 10,
          "data": {
            "text/plain": "       Metric  Value\n0  Error Rate  0.333\n1   Precision  0.600\n2         TPR  0.692\n3    F1-Score  0.643\n4         FPR  0.353",
            "text/html": "<div>\n<table border=\"1\" class=\"dataframe\">\n  <thead>\n    <tr style=\"text-align: right;\">\n      <th></th>\n      <th>Metric</th>\n      <th>Value</th>\n    </tr>\n  </thead>\n  <tbody>\n    <tr>\n      <th>0</th>\n      <td>Error Rate</td>\n      <td>0.333</td>\n    </tr>\n    <tr>\n      <th>1</th>\n      <td>Precision</td>\n      <td>0.600</td>\n    </tr>\n    <tr>\n      <th>2</th>\n      <td>TPR</td>\n      <td>0.692</td>\n    </tr>\n    <tr>\n      <th>3</th>\n      <td>F1-Score</td>\n      <td>0.643</td>\n    </tr>\n    <tr>\n      <th>4</th>\n      <td>FPR</td>\n      <td>0.353</td>\n    </tr>\n  </tbody>\n</table>\n</div>"
          },
          "metadata": {}
        }
      ]
    },
    {
      "metadata": {},
      "cell_type": "markdown",
      "source": "df_roc was constructed to hold the 9 threshold values with their corresponsding TPR and FPR values. It consists of three columns i.e. Threshold (0.1 - 0.9) and TPR and FPR lists which were converted to columns."
    },
    {
      "metadata": {
        "trusted": true
      },
      "cell_type": "code",
      "source": "#construction of df_roc dataframe\ndf_roc= pd.DataFrame({'Threshold' : threshold, 'TPR': TPR, 'FPR': FPR})\ncolumn_names = [\"Threshold\", \"TPR\", \"FPR\"]\n\ndf_roc = df_roc.reindex(columns=column_names)\ndf_roc",
      "execution_count": 11,
      "outputs": [
        {
          "output_type": "execute_result",
          "execution_count": 11,
          "data": {
            "text/plain": "   Threshold    TPR    FPR\n0        0.1  1.000  0.941\n1        0.2  1.000  0.706\n2        0.3  0.923  0.588\n3        0.4  0.846  0.471\n4        0.5  0.692  0.353\n5        0.6  0.615  0.235\n6        0.7  0.462  0.118\n7        0.8  0.308  0.059\n8        0.9  0.077  0.000",
            "text/html": "<div>\n<table border=\"1\" class=\"dataframe\">\n  <thead>\n    <tr style=\"text-align: right;\">\n      <th></th>\n      <th>Threshold</th>\n      <th>TPR</th>\n      <th>FPR</th>\n    </tr>\n  </thead>\n  <tbody>\n    <tr>\n      <th>0</th>\n      <td>0.1</td>\n      <td>1.000</td>\n      <td>0.941</td>\n    </tr>\n    <tr>\n      <th>1</th>\n      <td>0.2</td>\n      <td>1.000</td>\n      <td>0.706</td>\n    </tr>\n    <tr>\n      <th>2</th>\n      <td>0.3</td>\n      <td>0.923</td>\n      <td>0.588</td>\n    </tr>\n    <tr>\n      <th>3</th>\n      <td>0.4</td>\n      <td>0.846</td>\n      <td>0.471</td>\n    </tr>\n    <tr>\n      <th>4</th>\n      <td>0.5</td>\n      <td>0.692</td>\n      <td>0.353</td>\n    </tr>\n    <tr>\n      <th>5</th>\n      <td>0.6</td>\n      <td>0.615</td>\n      <td>0.235</td>\n    </tr>\n    <tr>\n      <th>6</th>\n      <td>0.7</td>\n      <td>0.462</td>\n      <td>0.118</td>\n    </tr>\n    <tr>\n      <th>7</th>\n      <td>0.8</td>\n      <td>0.308</td>\n      <td>0.059</td>\n    </tr>\n    <tr>\n      <th>8</th>\n      <td>0.9</td>\n      <td>0.077</td>\n      <td>0.000</td>\n    </tr>\n  </tbody>\n</table>\n</div>"
          },
          "metadata": {}
        }
      ]
    },
    {
      "metadata": {},
      "cell_type": "markdown",
      "source": "## Part D"
    },
    {
      "metadata": {},
      "cell_type": "markdown",
      "source": "The ROC curve is when TPR(y axis) is plotted against FPR(x axis). The closer the curve is towards the lefthand-top border of the space, then the test is most accurate with 100% sensitivity, and 100% specificity. If the curve is closer to the diagonal of the space, the test is less accurate. In this case the curve lies closer to the left-hand top space and away from the the diagonal thus making our test most accurate."
    },
    {
      "metadata": {
        "trusted": true
      },
      "cell_type": "code",
      "source": "#Construction of ROC curve\nimport altair as alt\nalt.renderers.enable('notebook')\nbase = alt.Chart(df_roc, \n                 title='ROC Curve'\n                ).properties(width=300)\n\nroc_curve = base.mark_line(point=True).encode(\n    alt.X('FPR', title='False Positive Rate (FPR)',  sort=None),\n    alt.Y('TPR', title='True Positive Rate (TPR) (a.k.a Recall)'),\n)\n\nroc_rule = base.mark_line(color='green').encode(\n    x='FPR',\n    y='FPR',\n    size=alt.value(2)\n)\n\n(roc_curve + roc_rule).interactive()",
      "execution_count": 12,
      "outputs": [
        {
          "output_type": "display_data",
          "data": {
            "application/javascript": "const spec = {\"config\": {\"view\": {\"width\": 400, \"height\": 300}, \"mark\": {\"tooltip\": null}}, \"layer\": [{\"encoding\": {\"x\": {\"field\": \"FPR\", \"sort\": null, \"title\": \"False Positive Rate (FPR)\", \"type\": \"quantitative\"}, \"y\": {\"field\": \"TPR\", \"title\": \"True Positive Rate (TPR) (a.k.a Recall)\", \"type\": \"quantitative\"}}, \"width\": 300, \"selection\": {\"selector001\": {\"encodings\": [\"x\", \"y\"], \"bind\": \"scales\", \"type\": \"interval\"}}, \"mark\": {\"point\": true, \"type\": \"line\"}, \"title\": \"ROC Curve\"}, {\"encoding\": {\"y\": {\"field\": \"FPR\", \"type\": \"quantitative\"}, \"x\": {\"field\": \"FPR\", \"type\": \"quantitative\"}, \"size\": {\"value\": 2}}, \"width\": 300, \"mark\": {\"color\": \"green\", \"type\": \"line\"}, \"title\": \"ROC Curve\"}], \"data\": {\"name\": \"data-a3c135c6969e085cbbcbb4fb676f460e\"}, \"datasets\": {\"data-a3c135c6969e085cbbcbb4fb676f460e\": [{\"Threshold\": 0.1, \"TPR\": 1.0, \"FPR\": 0.941}, {\"Threshold\": 0.2, \"TPR\": 1.0, \"FPR\": 0.706}, {\"Threshold\": 0.3, \"TPR\": 0.923, \"FPR\": 0.588}, {\"Threshold\": 0.4, \"TPR\": 0.846, \"FPR\": 0.471}, {\"Threshold\": 0.5, \"TPR\": 0.692, \"FPR\": 0.353}, {\"Threshold\": 0.6, \"TPR\": 0.615, \"FPR\": 0.235}, {\"Threshold\": 0.7, \"TPR\": 0.462, \"FPR\": 0.118}, {\"Threshold\": 0.8, \"TPR\": 0.308, \"FPR\": 0.059}, {\"Threshold\": 0.9, \"TPR\": 0.077, \"FPR\": 0.0}]}, \"$schema\": \"https://vega.github.io/schema/vega-lite/v3.4.0.json\"};\nconst opt = {};\nconst type = \"vega-lite\";\nconst id = \"9a97727f-8384-4201-8e95-92953e958455\";\n\nconst output_area = this;\n\nrequire([\"nbextensions/jupyter-vega/index\"], function(vega) {\n  const target = document.createElement(\"div\");\n  target.id = id;\n  target.className = \"vega-embed\";\n\n  const style = document.createElement(\"style\");\n  style.textContent = [\n    \".vega-embed .error p {\",\n    \"  color: firebrick;\",\n    \"  font-size: 14px;\",\n    \"}\",\n  ].join(\"\\\\n\");\n\n  // element is a jQuery wrapped DOM element inside the output area\n  // see http://ipython.readthedocs.io/en/stable/api/generated/\\\n  // IPython.display.html#IPython.display.Javascript.__init__\n  element[0].appendChild(target);\n  element[0].appendChild(style);\n\n  vega.render(\"#\" + id, spec, type, opt, output_area);\n}, function (err) {\n  if (err.requireType !== \"scripterror\") {\n    throw(err);\n  }\n});\n",
            "text/plain": "<vega.vegalite.VegaLite at 0x7ff07b307f28>"
          },
          "metadata": {
            "jupyter-vega": "#9a97727f-8384-4201-8e95-92953e958455"
          }
        },
        {
          "output_type": "execute_result",
          "execution_count": 12,
          "data": {
            "text/plain": ""
          },
          "metadata": {}
        },
        {
          "data": {
            "image/png": "[encoded data removed]"
          },
          "metadata": {
            "jupyter-vega": "#9a97727f-8384-4201-8e95-92953e958455"
          },
          "output_type": "display_data"
        }
      ]
    }
  ],
  "metadata": {
    "kernelspec": {
      "name": "python3",
      "display_name": "Python 3",
      "language": "python"
    },
    "language_info": {
      "mimetype": "text/x-python",
      "nbconvert_exporter": "python",
      "name": "python",
      "pygments_lexer": "ipython3",
      "version": "3.5.4",
      "file_extension": ".py",
      "codemirror_mode": {
        "version": 3,
        "name": "ipython"
      }
    }
  },
  "nbformat": 4,
  "nbformat_minor": 2
}