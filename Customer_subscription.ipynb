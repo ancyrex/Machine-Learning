{
 "cells": [
  {
   "cell_type": "markdown",
   "metadata": {},
   "source": [
    "# GROUP 21\n",
    "\n",
    "### Student Name : Ancy Rex [Student ID : S3760058]\n",
    "### Student Name : Anooja Maria Mathew [Student ID : S3767921]\n",
    "### Student Name : Pooja Suresh [Student ID : S3749775]"
   ]
  },
  {
   "cell_type": "markdown",
   "metadata": {
    "collapsed": true
   },
   "source": [
    "# Predicting Customer Subscription"
   ]
  },
  {
   "cell_type": "markdown",
   "metadata": {},
   "source": [
    "## Goal & Objective\n",
    "\n",
    "The goal of our project is to predict if a customer of a Portugese Banking Institute would agree to start a term deposit with the bank, based on a campaign carried out by the bank. To acheive this goal, 5 different modelling techniques, namely, K- Nearest Neighbour, Decision Tree Algorithm, Random Forest Classifier, Logistic Regression & Support Vector Machine algorithms were used on the dataset to forecast and analyse if the marketing strategies used by the bank would prove fruitful in their efforts to get customers subscribe to their term deposit.\n",
    "\n",
    "## Data Description \n",
    "\n",
    "The dataset used was sourced from the UCI Repository and consists of 20 descriptive features pertaining to the personal, social and employment details that can be useful in predicting if the customer would enrol for the term deposit.The dataset has 10 numeric features pertaining such as age of the customer, last call duration to them(in seconds), consumer confidence index etc and 10 categorical features, that are a mix of nominal and ordinal values, such as, the marital status of the customer, if the customer has a housing loan, if the customer has a credit default etc. The target feature \"y\" consists of 2 labels, namely \"yes\" and \"no\" indicating whether the customer has subscribed to the term deposit or not. The dataset composed out of this compaign consists of 41188 observations.\n",
    "\n",
    "#### Source : UCI. (2019). [online] Available at: http://archive.ics.uci.edu/ml/datasets/Bank+Marketing"
   ]
  },
  {
   "cell_type": "markdown",
   "metadata": {},
   "source": [
    "# Table of Contents\n",
    "\n",
    "[Data Preparation](#Data Preparation) <br>\n",
    "[Data Visualization](#Data Visualization) <br>\n",
    "[Preprocessing Categorical Features](#Preprocessing the Categorical Features) <br>\n",
    "[Feature Selection & Ranking](#Feature Selection & Ranking ) <br>\n",
    "[Data Sampling](#Data Sampling) <br>\n",
    "[Model Evaluation](#Model Evaluation) <br>\n",
    "[Hyperparameter Tuning & Visualization](#Hyperparameter Tuning & Visualization) <br>\n",
    "&emsp;[K - Nearest Neighbour](#KNN) <br>\n",
    "&emsp;[Decision Tree](#DT) <br>\n",
    "&emsp;[Logistic Regression](#LR) <br>\n",
    "&emsp;[Random Forest Classifier](#RF) <br>\n",
    "&emsp;[Support Vector Machine](#SVM) <br>\n",
    "[Performance Comparison](#Performance) <br>\n",
    "[Limitations & Proposed Solutions](#Limitations) <br>\n",
    "[Summary & Conclusion](#Summary) <br>\n",
    "[References](#References)"
   ]
  },
  {
   "cell_type": "markdown",
   "metadata": {},
   "source": [
    "<a id=\"Data Preparation\"></a>\n",
    "# Data Preparation"
   ]
  },
  {
   "cell_type": "markdown",
   "metadata": {},
   "source": [
    "## Loading the Data\n",
    "\n",
    "The below code snippet depicts loading the dataset \"bank-additional-full\" and storing it as a DataFrame \"Bank\". The shape of the dataframe are also described."
   ]
  },
  {
   "cell_type": "code",
   "execution_count": 1,
   "metadata": {},
   "outputs": [
    {
     "data": {
      "text/plain": [
       "(41188, 21)"
      ]
     },
     "execution_count": 1,
     "metadata": {},
     "output_type": "execute_result"
    }
   ],
   "source": [
    "import warnings\n",
    "warnings.filterwarnings(\"ignore\")\n",
    "import pandas as pd\n",
    "import numpy as np\n",
    "import matplotlib.pyplot as plt\n",
    "\n",
    "\n",
    "Bank_csv ='s3767921_Data.csv'\n",
    "\n",
    "%matplotlib inline\n",
    "\n",
    "Bank = pd.read_csv(Bank_csv, sep=';',decimal ='.')\n",
    "\n",
    "Bank.shape"
   ]
  },
  {
   "cell_type": "markdown",
   "metadata": {},
   "source": [
    "Describing the shape and data types of the attributes in the dataframe"
   ]
  },
  {
   "cell_type": "code",
   "execution_count": 2,
   "metadata": {},
   "outputs": [
    {
     "data": {
      "text/plain": [
       "age                 int64\n",
       "job                object\n",
       "marital            object\n",
       "education          object\n",
       "default            object\n",
       "housing            object\n",
       "loan               object\n",
       "contact            object\n",
       "month              object\n",
       "day_of_week        object\n",
       "duration            int64\n",
       "campaign            int64\n",
       "pdays               int64\n",
       "previous            int64\n",
       "poutcome           object\n",
       "emp.var.rate      float64\n",
       "cons.price.idx    float64\n",
       "cons.conf.idx     float64\n",
       "euribor3m         float64\n",
       "nr.employed       float64\n",
       "y                  object\n",
       "dtype: object"
      ]
     },
     "execution_count": 2,
     "metadata": {},
     "output_type": "execute_result"
    }
   ],
   "source": [
    "Bank.dtypes"
   ]
  },
  {
   "cell_type": "markdown",
   "metadata": {},
   "source": [
    "# Checking Null & Missing Values\n",
    "\n",
    "Checking for null values in the dataframe using the isnull() function and missing values using the isna() function in pandas."
   ]
  },
  {
   "cell_type": "code",
   "execution_count": 3,
   "metadata": {},
   "outputs": [
    {
     "data": {
      "text/plain": [
       "age               0\n",
       "job               0\n",
       "marital           0\n",
       "education         0\n",
       "default           0\n",
       "housing           0\n",
       "loan              0\n",
       "contact           0\n",
       "month             0\n",
       "day_of_week       0\n",
       "duration          0\n",
       "campaign          0\n",
       "pdays             0\n",
       "previous          0\n",
       "poutcome          0\n",
       "emp.var.rate      0\n",
       "cons.price.idx    0\n",
       "cons.conf.idx     0\n",
       "euribor3m         0\n",
       "nr.employed       0\n",
       "y                 0\n",
       "dtype: int64"
      ]
     },
     "execution_count": 3,
     "metadata": {},
     "output_type": "execute_result"
    }
   ],
   "source": [
    "Bank.isnull().sum()"
   ]
  },
  {
   "cell_type": "code",
   "execution_count": 4,
   "metadata": {},
   "outputs": [
    {
     "data": {
      "text/plain": [
       "age               0\n",
       "job               0\n",
       "marital           0\n",
       "education         0\n",
       "default           0\n",
       "housing           0\n",
       "loan              0\n",
       "contact           0\n",
       "month             0\n",
       "day_of_week       0\n",
       "duration          0\n",
       "campaign          0\n",
       "pdays             0\n",
       "previous          0\n",
       "poutcome          0\n",
       "emp.var.rate      0\n",
       "cons.price.idx    0\n",
       "cons.conf.idx     0\n",
       "euribor3m         0\n",
       "nr.employed       0\n",
       "y                 0\n",
       "dtype: int64"
      ]
     },
     "execution_count": 4,
     "metadata": {},
     "output_type": "execute_result"
    }
   ],
   "source": [
    "Bank.isna().sum()"
   ]
  },
  {
   "cell_type": "markdown",
   "metadata": {},
   "source": [
    "# Dropping irrelevant features\n",
    "\n",
    "Features that do not aid in the predective process have been removed from the dataframe to provide more accurate results. Below is the list of dropped columns : <br>\n",
    "'contact': Last communication type  <br>\n",
    "'month' : last contact month of year <br>\n",
    "'day_of_week' : last contact day of the week <br>\n",
    "'duration' : last contact duration, in seconds <br>\n",
    "'campaign' : number of contacts performed during this campaign and for a client <br>\n",
    "'pdays' : number of days that passed by after a client was last contacted from a previous campaign <br>\n",
    "'previous' : number of contacts performed before this campaign and for a client <br>\n",
    "'cons.price.idx' : consumer price index - monthly indicator <br>\n",
    "'euribor3m' : euribor 3 month rate - daily indicator <br>"
   ]
  },
  {
   "cell_type": "code",
   "execution_count": 5,
   "metadata": {},
   "outputs": [
    {
     "data": {
      "text/html": [
       "<div>\n",
       "<style scoped>\n",
       "    .dataframe tbody tr th:only-of-type {\n",
       "        vertical-align: middle;\n",
       "    }\n",
       "\n",
       "    .dataframe tbody tr th {\n",
       "        vertical-align: top;\n",
       "    }\n",
       "\n",
       "    .dataframe thead th {\n",
       "        text-align: right;\n",
       "    }\n",
       "</style>\n",
       "<table border=\"1\" class=\"dataframe\">\n",
       "  <thead>\n",
       "    <tr style=\"text-align: right;\">\n",
       "      <th></th>\n",
       "      <th>age</th>\n",
       "      <th>job</th>\n",
       "      <th>marital</th>\n",
       "      <th>education</th>\n",
       "      <th>default</th>\n",
       "      <th>housing</th>\n",
       "      <th>loan</th>\n",
       "      <th>poutcome</th>\n",
       "      <th>emp.var.rate</th>\n",
       "      <th>cons.conf.idx</th>\n",
       "      <th>nr.employed</th>\n",
       "      <th>y</th>\n",
       "    </tr>\n",
       "  </thead>\n",
       "  <tbody>\n",
       "    <tr>\n",
       "      <th>0</th>\n",
       "      <td>56</td>\n",
       "      <td>housemaid</td>\n",
       "      <td>married</td>\n",
       "      <td>basic.4y</td>\n",
       "      <td>no</td>\n",
       "      <td>no</td>\n",
       "      <td>no</td>\n",
       "      <td>nonexistent</td>\n",
       "      <td>1.1</td>\n",
       "      <td>-36.4</td>\n",
       "      <td>5191.0</td>\n",
       "      <td>no</td>\n",
       "    </tr>\n",
       "    <tr>\n",
       "      <th>1</th>\n",
       "      <td>57</td>\n",
       "      <td>services</td>\n",
       "      <td>married</td>\n",
       "      <td>high.school</td>\n",
       "      <td>unknown</td>\n",
       "      <td>no</td>\n",
       "      <td>no</td>\n",
       "      <td>nonexistent</td>\n",
       "      <td>1.1</td>\n",
       "      <td>-36.4</td>\n",
       "      <td>5191.0</td>\n",
       "      <td>no</td>\n",
       "    </tr>\n",
       "    <tr>\n",
       "      <th>2</th>\n",
       "      <td>37</td>\n",
       "      <td>services</td>\n",
       "      <td>married</td>\n",
       "      <td>high.school</td>\n",
       "      <td>no</td>\n",
       "      <td>yes</td>\n",
       "      <td>no</td>\n",
       "      <td>nonexistent</td>\n",
       "      <td>1.1</td>\n",
       "      <td>-36.4</td>\n",
       "      <td>5191.0</td>\n",
       "      <td>no</td>\n",
       "    </tr>\n",
       "    <tr>\n",
       "      <th>3</th>\n",
       "      <td>40</td>\n",
       "      <td>admin.</td>\n",
       "      <td>married</td>\n",
       "      <td>basic.6y</td>\n",
       "      <td>no</td>\n",
       "      <td>no</td>\n",
       "      <td>no</td>\n",
       "      <td>nonexistent</td>\n",
       "      <td>1.1</td>\n",
       "      <td>-36.4</td>\n",
       "      <td>5191.0</td>\n",
       "      <td>no</td>\n",
       "    </tr>\n",
       "    <tr>\n",
       "      <th>4</th>\n",
       "      <td>56</td>\n",
       "      <td>services</td>\n",
       "      <td>married</td>\n",
       "      <td>high.school</td>\n",
       "      <td>no</td>\n",
       "      <td>no</td>\n",
       "      <td>yes</td>\n",
       "      <td>nonexistent</td>\n",
       "      <td>1.1</td>\n",
       "      <td>-36.4</td>\n",
       "      <td>5191.0</td>\n",
       "      <td>no</td>\n",
       "    </tr>\n",
       "  </tbody>\n",
       "</table>\n",
       "</div>"
      ],
      "text/plain": [
       "   age        job  marital    education  default housing loan     poutcome  \\\n",
       "0   56  housemaid  married     basic.4y       no      no   no  nonexistent   \n",
       "1   57   services  married  high.school  unknown      no   no  nonexistent   \n",
       "2   37   services  married  high.school       no     yes   no  nonexistent   \n",
       "3   40     admin.  married     basic.6y       no      no   no  nonexistent   \n",
       "4   56   services  married  high.school       no      no  yes  nonexistent   \n",
       "\n",
       "   emp.var.rate  cons.conf.idx  nr.employed   y  \n",
       "0           1.1          -36.4       5191.0  no  \n",
       "1           1.1          -36.4       5191.0  no  \n",
       "2           1.1          -36.4       5191.0  no  \n",
       "3           1.1          -36.4       5191.0  no  \n",
       "4           1.1          -36.4       5191.0  no  "
      ]
     },
     "execution_count": 5,
     "metadata": {},
     "output_type": "execute_result"
    }
   ],
   "source": [
    "Bank_df = Bank.drop(['contact', 'month', 'day_of_week', 'duration', 'campaign', 'pdays', 'previous', 'cons.price.idx', 'euribor3m'], axis=1)\n",
    "Bank_df.head()"
   ]
  },
  {
   "cell_type": "markdown",
   "metadata": {},
   "source": [
    "<a id=\"Data Visualization\"></a>\n",
    "# Data Visualization\n",
    "\n",
    "Visualization of the dataframe with relevant features was carried out based on 3 different categories : Visualizations with 1 feature, Visualizations with 2 features and Visualizations with 3 features."
   ]
  },
  {
   "cell_type": "code",
   "execution_count": 6,
   "metadata": {},
   "outputs": [],
   "source": [
    "import seaborn as sns\n",
    "import matplotlib.pyplot as plt\n",
    "import plotly.express as px"
   ]
  },
  {
   "cell_type": "markdown",
   "metadata": {},
   "source": [
    "## Visualization with 1 feature"
   ]
  },
  {
   "cell_type": "code",
   "execution_count": 7,
   "metadata": {},
   "outputs": [
    {
     "data": {
      "image/png": "[encoded data removed]",
      "text/plain": [
       "<Figure size 432x288 with 1 Axes>"
      ]
     },
     "metadata": {
      "needs_background": "light"
     },
     "output_type": "display_data"
    }
   ],
   "source": [
    "plt.hist(Bank_df['age'], density=False,histtype='bar',orientation='vertical') \n",
    "plt.ylabel('Count of observations')\n",
    "plt.xlabel('Age');\n",
    "plt.title(\"Age Categorisation of the observations\");"
   ]
  },
  {
   "cell_type": "code",
   "execution_count": 8,
   "metadata": {},
   "outputs": [
    {
     "data": {
      "image/png": "[encoded data removed]",
      "text/plain": [
       "<Figure size 432x288 with 1 Axes>"
      ]
     },
     "metadata": {},
     "output_type": "display_data"
    }
   ],
   "source": [
    "Bank_df['marital'].value_counts().plot(kind='pie',autopct='%1.1f%%',textprops={'fontweight':'bold','fontsize': 12},title='Categories of Martial status');"
   ]
  },
  {
   "cell_type": "code",
   "execution_count": 9,
   "metadata": {},
   "outputs": [
    {
     "data": {
      "image/png": "[encoded data removed]",
      "text/plain": [
       "<Figure size 432x288 with 1 Axes>"
      ]
     },
     "metadata": {
      "needs_background": "light"
     },
     "output_type": "display_data"
    }
   ],
   "source": [
    "Bank_df['job'].value_counts().plot(kind='bar',title='Observation count of Job status');"
   ]
  },
  {
   "cell_type": "code",
   "execution_count": 10,
   "metadata": {},
   "outputs": [
    {
     "data": {
      "image/png": "[encoded data removed]",
      "text/plain": [
       "<Figure size 432x288 with 1 Axes>"
      ]
     },
     "metadata": {
      "needs_background": "light"
     },
     "output_type": "display_data"
    }
   ],
   "source": [
    "sns.countplot(y=\"education\", data=Bank_df)\n",
    "plt.title(\"Box Plot of Education Categories\");\n",
    "plt.show()"
   ]
  },
  {
   "cell_type": "markdown",
   "metadata": {},
   "source": [
    "## Visualization with 2 features"
   ]
  },
  {
   "cell_type": "code",
   "execution_count": 11,
   "metadata": {},
   "outputs": [
    {
     "data": {
      "image/png": "[encoded data removed]",
      "text/plain": [
       "<Figure size 720x360 with 1 Axes>"
      ]
     },
     "metadata": {
      "needs_background": "light"
     },
     "output_type": "display_data"
    },
    {
     "data": {
      "image/png": "[encoded data removed]",
      "text/plain": [
       "<Figure size 432x288 with 1 Axes>"
      ]
     },
     "metadata": {
      "needs_background": "light"
     },
     "output_type": "display_data"
    },
    {
     "data": {
      "image/png": "[encoded data removed]",
      "text/plain": [
       "<Figure size 432x288 with 1 Axes>"
      ]
     },
     "metadata": {
      "needs_background": "light"
     },
     "output_type": "display_data"
    },
    {
     "data": {
      "image/png": "[encoded data removed]",
      "text/plain": [
       "<Figure size 360x360 with 1 Axes>"
      ]
     },
     "metadata": {
      "needs_background": "light"
     },
     "output_type": "display_data"
    }
   ],
   "source": [
    "plt.figure(figsize=(10,5))\n",
    "plt.title(\"Bar Plot of Education V/S Housing loan\");\n",
    "sns.countplot(x=\"education\",hue=\"housing\",data=Bank_df);\n",
    "plt.show()\n",
    "\n",
    "sns.barplot(Bank_df['emp.var.rate'],Bank_df['education'])\n",
    "plt.title(\"Box Plot of Education V/S emp.var.rate\");\n",
    "plt.show()\n",
    "\n",
    "sns.barplot(Bank_df['emp.var.rate'],Bank_df['job'])\n",
    "plt.title(\"Box Plot of Job V/S emp.var.rate\");\n",
    "plt.show()\n",
    "\n",
    "sns.relplot(x=\"age\", y=\"emp.var.rate\", kind=\"line\", data=Bank_df);\n",
    "plt.title(\"Line Graph of Age V/S emp.var.rate\");\n",
    "plt.show()"
   ]
  },
  {
   "cell_type": "markdown",
   "metadata": {},
   "source": [
    "## Visualization with 3 features"
   ]
  },
  {
   "cell_type": "markdown",
   "metadata": {},
   "source": [
    "Below is a visualization for comparison between education, age and marital status"
   ]
  },
  {
   "cell_type": "code",
   "execution_count": 12,
   "metadata": {},
   "outputs": [
    {
     "data": {
      "image/png": "[encoded data removed]",
      "text/plain": [
       "<Figure size 945.375x216 with 1 Axes>"
      ]
     },
     "metadata": {
      "needs_background": "light"
     },
     "output_type": "display_data"
    }
   ],
   "source": [
    "sns.catplot(\"education\", \"age\", \"marital\", data=Bank_df, kind=\"box\", saturation=0.8,height=3,aspect=4);\n",
    "plt.title(\"Line Graph of Age V/S emp.var.rate\");\n",
    "plt.show();"
   ]
  },
  {
   "cell_type": "markdown",
   "metadata": {},
   "source": [
    "Below is a visualization for comparison between Age, nr.employed and Loan"
   ]
  },
  {
   "cell_type": "code",
   "execution_count": 13,
   "metadata": {},
   "outputs": [
    {
     "data": {
      "image/png": "[encoded data removed]",
      "text/plain": [
       "<Figure size 945.375x216 with 1 Axes>"
      ]
     },
     "metadata": {
      "needs_background": "light"
     },
     "output_type": "display_data"
    }
   ],
   "source": [
    "sns.relplot(x=\"age\", y=\"nr.employed\", hue=\"loan\", data=Bank_df,height=3,aspect=4);\n",
    "plt.title(\"Comparison of Age, nr.employed and loan of the observations\");\n",
    "plt.show();"
   ]
  },
  {
   "cell_type": "markdown",
   "metadata": {},
   "source": [
    "Below is a visualization for comparison between Default, Housing and Loan"
   ]
  },
  {
   "cell_type": "code",
   "execution_count": 14,
   "metadata": {},
   "outputs": [
    {
     "data": {
      "image/png": "[encoded data removed]",
      "text/plain": [
       "<Figure size 1161.38x360 with 3 Axes>"
      ]
     },
     "metadata": {
      "needs_background": "light"
     },
     "output_type": "display_data"
    }
   ],
   "source": [
    "sns.catplot(x=\"default\", hue=\"housing\", col=\"loan\",kind=\"count\", data=Bank_df);\n",
    "plt.title(\"Comparison of Loan, Housing and Default of the observations\");\n",
    "plt.show();"
   ]
  },
  {
   "cell_type": "markdown",
   "metadata": {},
   "source": [
    "Below is a visualization for comparison between Age, Job and Housing"
   ]
  },
  {
   "cell_type": "code",
   "execution_count": 15,
   "metadata": {},
   "outputs": [
    {
     "data": {
      "image/png": "[encoded data removed]",
      "text/plain": [
       "<Figure size 945.375x216 with 1 Axes>"
      ]
     },
     "metadata": {
      "needs_background": "light"
     },
     "output_type": "display_data"
    }
   ],
   "source": [
    "sns.relplot(x=\"job\", y='age',hue=\"housing\", data=Bank_df,height=3,aspect=4);\n",
    "plt.title(\"Comparison of Housing, Age and Job of the observations\");\n",
    "plt.show();"
   ]
  },
  {
   "cell_type": "markdown",
   "metadata": {},
   "source": [
    "<a id=\"Preprocessing the Categorical Features\"></a>\n",
    "# Preprocessing the Categorical Features\n",
    "\n",
    "The below snippet describes stripping of the categorical features for any extra white spaces using the str.strip() function"
   ]
  },
  {
   "cell_type": "code",
   "execution_count": 16,
   "metadata": {},
   "outputs": [],
   "source": [
    "for col in Bank_df.select_dtypes([np.object]):\n",
    "    Bank_df[col] = Bank_df[col].str.strip()"
   ]
  },
  {
   "cell_type": "markdown",
   "metadata": {},
   "source": [
    "## Finding unique values in the numerical and categorical features\n",
    "The below code snippet is the analyse the unique values in each of the numeric features in the dataframe. This is to help identfy any unusual values present in the dataframe."
   ]
  },
  {
   "cell_type": "code",
   "execution_count": 17,
   "metadata": {},
   "outputs": [
    {
     "name": "stdout",
     "output_type": "stream",
     "text": [
      "Unique values for age\n",
      "[56 57 37 40 45 59 41 24 25 29 35 54 46 50 39 30 55 49 34 52 58 32 38 44\n",
      " 42 60 53 47 51 48 33 31 43 36 28 27 26 22 23 20 21 61 19 18 70 66 76 67\n",
      " 73 88 95 77 68 75 63 80 62 65 72 82 64 71 69 78 85 79 83 81 74 17 87 91\n",
      " 86 98 94 84 92 89]\n",
      "Unique values for emp.var.rate\n",
      "[ 1.1  1.4 -0.1 -0.2 -1.8 -2.9 -3.4 -3.  -1.7 -1.1]\n",
      "Unique values for cons.conf.idx\n",
      "[-36.4 -41.8 -42.7 -36.1 -40.4 -42.  -45.9 -50.  -47.1 -46.2 -40.8 -33.6\n",
      " -31.4 -29.8 -26.9 -30.1 -33.  -34.8 -34.6 -40.  -39.8 -40.3 -38.3 -37.5\n",
      " -49.5 -50.8]\n",
      "Unique values for nr.employed\n",
      "[5191.  5228.1 5195.8 5176.3 5099.1 5076.2 5017.5 5023.5 5008.7 4991.6\n",
      " 4963.6]\n"
     ]
    }
   ],
   "source": [
    "#finding unique values in numerical features\n",
    "numericalColumn = ['age', 'emp.var.rate', 'cons.conf.idx', 'nr.employed']\n",
    "for col in numericalColumn:\n",
    "    print('Unique values for ' + col)\n",
    "    print(Bank_df[col].unique())"
   ]
  },
  {
   "cell_type": "markdown",
   "metadata": {},
   "source": [
    "The below code snippet is the analyse the unique values in each of the categorical features in the dataframe. This is to help identfy any unusual values present in the dataframe."
   ]
  },
  {
   "cell_type": "code",
   "execution_count": 18,
   "metadata": {},
   "outputs": [
    {
     "name": "stdout",
     "output_type": "stream",
     "text": [
      "Unique values for job\n",
      "['housemaid' 'services' 'admin.' 'blue-collar' 'technician' 'retired'\n",
      " 'management' 'unemployed' 'self-employed' 'unknown' 'entrepreneur'\n",
      " 'student']\n",
      "Unique values for marital\n",
      "['married' 'single' 'divorced' 'unknown']\n",
      "Unique values for education\n",
      "['basic.4y' 'high.school' 'basic.6y' 'basic.9y' 'professional.course'\n",
      " 'unknown' 'university.degree' 'illiterate']\n",
      "Unique values for default\n",
      "['no' 'unknown' 'yes']\n",
      "Unique values for housing\n",
      "['no' 'yes' 'unknown']\n",
      "Unique values for loan\n",
      "['no' 'yes' 'unknown']\n",
      "Unique values for poutcome\n",
      "['nonexistent' 'failure' 'success']\n"
     ]
    }
   ],
   "source": [
    "#finding unique values in categorical features before transformation\n",
    "categoricalColumn = ['job', 'marital', 'education', 'default', 'housing', 'loan', 'poutcome']\n",
    "for col in categoricalColumn:\n",
    "    print('Unique values for ' + col)\n",
    "    print(Bank_df[col].unique())"
   ]
  },
  {
   "cell_type": "markdown",
   "metadata": {},
   "source": [
    "## Encoding the target feature"
   ]
  },
  {
   "cell_type": "markdown",
   "metadata": {},
   "source": [
    "The following code snippet is to rename the feature 'y' as \"target\""
   ]
  },
  {
   "cell_type": "code",
   "execution_count": 19,
   "metadata": {},
   "outputs": [
    {
     "name": "stdout",
     "output_type": "stream",
     "text": [
      "Individual value counts of target column : \n",
      "no     36548\n",
      "yes     4640\n",
      "Name: y, dtype: int64\n"
     ]
    }
   ],
   "source": [
    "#renaming y as target\n",
    "target = Bank_df['y']\n",
    "Bank_df.rename(columns = {'y':'target'}, inplace = True)\n",
    "\n",
    "print(\"Individual value counts of target column : \")\n",
    "print(target.value_counts())"
   ]
  },
  {
   "cell_type": "markdown",
   "metadata": {},
   "source": [
    "The below snippet depicts replacing the 'yes' and 'no' levels with 1 and 0 respectively. This is to ensure that the best practices of Data Preprocessing are carried out."
   ]
  },
  {
   "cell_type": "code",
   "execution_count": 20,
   "metadata": {},
   "outputs": [
    {
     "data": {
      "text/html": [
       "<div>\n",
       "<style scoped>\n",
       "    .dataframe tbody tr th:only-of-type {\n",
       "        vertical-align: middle;\n",
       "    }\n",
       "\n",
       "    .dataframe tbody tr th {\n",
       "        vertical-align: top;\n",
       "    }\n",
       "\n",
       "    .dataframe thead th {\n",
       "        text-align: right;\n",
       "    }\n",
       "</style>\n",
       "<table border=\"1\" class=\"dataframe\">\n",
       "  <thead>\n",
       "    <tr style=\"text-align: right;\">\n",
       "      <th></th>\n",
       "      <th>age</th>\n",
       "      <th>job</th>\n",
       "      <th>marital</th>\n",
       "      <th>education</th>\n",
       "      <th>default</th>\n",
       "      <th>housing</th>\n",
       "      <th>loan</th>\n",
       "      <th>poutcome</th>\n",
       "      <th>emp.var.rate</th>\n",
       "      <th>cons.conf.idx</th>\n",
       "      <th>nr.employed</th>\n",
       "      <th>target</th>\n",
       "    </tr>\n",
       "  </thead>\n",
       "  <tbody>\n",
       "    <tr>\n",
       "      <th>0</th>\n",
       "      <td>56</td>\n",
       "      <td>housemaid</td>\n",
       "      <td>married</td>\n",
       "      <td>basic.4y</td>\n",
       "      <td>no</td>\n",
       "      <td>no</td>\n",
       "      <td>no</td>\n",
       "      <td>nonexistent</td>\n",
       "      <td>1.1</td>\n",
       "      <td>-36.4</td>\n",
       "      <td>5191.0</td>\n",
       "      <td>0</td>\n",
       "    </tr>\n",
       "    <tr>\n",
       "      <th>1</th>\n",
       "      <td>57</td>\n",
       "      <td>services</td>\n",
       "      <td>married</td>\n",
       "      <td>high.school</td>\n",
       "      <td>unknown</td>\n",
       "      <td>no</td>\n",
       "      <td>no</td>\n",
       "      <td>nonexistent</td>\n",
       "      <td>1.1</td>\n",
       "      <td>-36.4</td>\n",
       "      <td>5191.0</td>\n",
       "      <td>0</td>\n",
       "    </tr>\n",
       "    <tr>\n",
       "      <th>2</th>\n",
       "      <td>37</td>\n",
       "      <td>services</td>\n",
       "      <td>married</td>\n",
       "      <td>high.school</td>\n",
       "      <td>no</td>\n",
       "      <td>yes</td>\n",
       "      <td>no</td>\n",
       "      <td>nonexistent</td>\n",
       "      <td>1.1</td>\n",
       "      <td>-36.4</td>\n",
       "      <td>5191.0</td>\n",
       "      <td>0</td>\n",
       "    </tr>\n",
       "    <tr>\n",
       "      <th>3</th>\n",
       "      <td>40</td>\n",
       "      <td>admin.</td>\n",
       "      <td>married</td>\n",
       "      <td>basic.6y</td>\n",
       "      <td>no</td>\n",
       "      <td>no</td>\n",
       "      <td>no</td>\n",
       "      <td>nonexistent</td>\n",
       "      <td>1.1</td>\n",
       "      <td>-36.4</td>\n",
       "      <td>5191.0</td>\n",
       "      <td>0</td>\n",
       "    </tr>\n",
       "    <tr>\n",
       "      <th>4</th>\n",
       "      <td>56</td>\n",
       "      <td>services</td>\n",
       "      <td>married</td>\n",
       "      <td>high.school</td>\n",
       "      <td>no</td>\n",
       "      <td>no</td>\n",
       "      <td>yes</td>\n",
       "      <td>nonexistent</td>\n",
       "      <td>1.1</td>\n",
       "      <td>-36.4</td>\n",
       "      <td>5191.0</td>\n",
       "      <td>0</td>\n",
       "    </tr>\n",
       "  </tbody>\n",
       "</table>\n",
       "</div>"
      ],
      "text/plain": [
       "   age        job  marital    education  default housing loan     poutcome  \\\n",
       "0   56  housemaid  married     basic.4y       no      no   no  nonexistent   \n",
       "1   57   services  married  high.school  unknown      no   no  nonexistent   \n",
       "2   37   services  married  high.school       no     yes   no  nonexistent   \n",
       "3   40     admin.  married     basic.6y       no      no   no  nonexistent   \n",
       "4   56   services  married  high.school       no      no  yes  nonexistent   \n",
       "\n",
       "   emp.var.rate  cons.conf.idx  nr.employed  target  \n",
       "0           1.1          -36.4       5191.0       0  \n",
       "1           1.1          -36.4       5191.0       0  \n",
       "2           1.1          -36.4       5191.0       0  \n",
       "3           1.1          -36.4       5191.0       0  \n",
       "4           1.1          -36.4       5191.0       0  "
      ]
     },
     "execution_count": 20,
     "metadata": {},
     "output_type": "execute_result"
    }
   ],
   "source": [
    "#replacing values in target column\n",
    "Bank_df['target'].replace('yes', 1, inplace=True)\n",
    "Bank_df['target'].replace('no', 0, inplace=True)\n",
    "\n",
    "target = Bank_df['target']\n",
    "\n",
    "Bank_df.head()"
   ]
  },
  {
   "cell_type": "markdown",
   "metadata": {},
   "source": [
    "## Replacing unusual values in the Categorical Features\n",
    "The following code snippet describes how the unusual value of \"unknown\" in the categorical features is being replaced as NAN(Not A Number)."
   ]
  },
  {
   "cell_type": "code",
   "execution_count": 21,
   "metadata": {},
   "outputs": [
    {
     "name": "stdout",
     "output_type": "stream",
     "text": [
      "Sum of nan values dataframe after replacing unusual values in the categorical features: \n",
      "age                 0\n",
      "job               330\n",
      "marital            80\n",
      "education        1731\n",
      "default          8597\n",
      "housing           990\n",
      "loan              990\n",
      "poutcome            0\n",
      "emp.var.rate        0\n",
      "cons.conf.idx       0\n",
      "nr.employed         0\n",
      "target              0\n",
      "dtype: int64\n"
     ]
    }
   ],
   "source": [
    "#replacing unknown in all categorical values with nan\n",
    "Bank_df['job'].replace('unknown', np.nan, inplace=True)\n",
    "Bank_df['marital'].replace('unknown', np.nan, inplace=True)\n",
    "Bank_df['education'].replace('unknown', np.nan, inplace=True)\n",
    "Bank_df['default'].replace('unknown', np.nan, inplace=True)\n",
    "Bank_df['housing'].replace('unknown', np.nan, inplace=True)\n",
    "Bank_df['loan'].replace('unknown', np.nan, inplace=True)\n",
    "\n",
    "print(\"Sum of nan values dataframe after replacing unusual values in the categorical features: \")\n",
    "print(Bank_df.isna().sum())"
   ]
  },
  {
   "cell_type": "markdown",
   "metadata": {},
   "source": [
    "The below snippet describes the NAN values in the categorical features being replaced by calculating the Mode of the respective feature and assigning it to the NAN."
   ]
  },
  {
   "cell_type": "code",
   "execution_count": 22,
   "metadata": {},
   "outputs": [],
   "source": [
    "#replacing nan in job with mode of column\n",
    "Bank_df['job'] = Bank_df['job'].fillna(Bank_df['job'].mode()[0])\n",
    "\n",
    "#replacing nan in marital with mode of column\n",
    "Bank_df['marital'] = Bank_df['marital'].fillna(Bank_df['marital'].mode()[0])\n",
    "\n",
    "#replacing nan in education with mode of column\n",
    "Bank_df['education'] = Bank_df['education'].fillna(Bank_df['education'].mode()[0])\n",
    "\n",
    "#replacing nan in default with mode of column\n",
    "Bank_df['default'] = Bank_df['default'].fillna(Bank_df['default'].mode()[0])\n",
    "\n",
    "#replacing nan in housing with mode of column\n",
    "Bank_df['housing'] = Bank_df['housing'].fillna(Bank_df['housing'].mode()[0])\n",
    "\n",
    "#replacing nan in loan with mode of column\n",
    "Bank_df['loan'] = Bank_df['loan'].fillna(Bank_df['loan'].mode()[0])"
   ]
  },
  {
   "cell_type": "markdown",
   "metadata": {},
   "source": [
    "Printing the sum of NAN values in the dataframe after replacing nan values in all the features"
   ]
  },
  {
   "cell_type": "code",
   "execution_count": 23,
   "metadata": {},
   "outputs": [
    {
     "name": "stdout",
     "output_type": "stream",
     "text": [
      "Sum of nan values dataframe after replacing nan values in the categorical features: \n",
      "age              0\n",
      "job              0\n",
      "marital          0\n",
      "education        0\n",
      "default          0\n",
      "housing          0\n",
      "loan             0\n",
      "poutcome         0\n",
      "emp.var.rate     0\n",
      "cons.conf.idx    0\n",
      "nr.employed      0\n",
      "target           0\n",
      "dtype: int64\n"
     ]
    }
   ],
   "source": [
    "print(\"Sum of nan values dataframe after replacing nan values in the categorical features: \")\n",
    "print(Bank_df.isna().sum())"
   ]
  },
  {
   "cell_type": "markdown",
   "metadata": {},
   "source": [
    "# Encoding of Numeric and Categorical features\n",
    "## Integer Encoding of Numeric Feature 'education'\n",
    "Performing Integer Encoding for the feature education. The seven levels illiterate, basic.4y, basic.6y, basic.9y, high.school, professional.course and university.degree are encoded to the corresponding levels 0, 1, 2, 3, 4, 5, 6 respectively."
   ]
  },
  {
   "cell_type": "code",
   "execution_count": 24,
   "metadata": {},
   "outputs": [
    {
     "data": {
      "text/html": [
       "<div>\n",
       "<style scoped>\n",
       "    .dataframe tbody tr th:only-of-type {\n",
       "        vertical-align: middle;\n",
       "    }\n",
       "\n",
       "    .dataframe tbody tr th {\n",
       "        vertical-align: top;\n",
       "    }\n",
       "\n",
       "    .dataframe thead th {\n",
       "        text-align: right;\n",
       "    }\n",
       "</style>\n",
       "<table border=\"1\" class=\"dataframe\">\n",
       "  <thead>\n",
       "    <tr style=\"text-align: right;\">\n",
       "      <th></th>\n",
       "      <th>age</th>\n",
       "      <th>job</th>\n",
       "      <th>marital</th>\n",
       "      <th>education</th>\n",
       "      <th>default</th>\n",
       "      <th>housing</th>\n",
       "      <th>loan</th>\n",
       "      <th>poutcome</th>\n",
       "      <th>emp.var.rate</th>\n",
       "      <th>cons.conf.idx</th>\n",
       "      <th>nr.employed</th>\n",
       "      <th>target</th>\n",
       "    </tr>\n",
       "  </thead>\n",
       "  <tbody>\n",
       "    <tr>\n",
       "      <th>0</th>\n",
       "      <td>56</td>\n",
       "      <td>housemaid</td>\n",
       "      <td>married</td>\n",
       "      <td>1</td>\n",
       "      <td>no</td>\n",
       "      <td>no</td>\n",
       "      <td>no</td>\n",
       "      <td>nonexistent</td>\n",
       "      <td>1.1</td>\n",
       "      <td>-36.4</td>\n",
       "      <td>5191.0</td>\n",
       "      <td>0</td>\n",
       "    </tr>\n",
       "    <tr>\n",
       "      <th>1</th>\n",
       "      <td>57</td>\n",
       "      <td>services</td>\n",
       "      <td>married</td>\n",
       "      <td>4</td>\n",
       "      <td>no</td>\n",
       "      <td>no</td>\n",
       "      <td>no</td>\n",
       "      <td>nonexistent</td>\n",
       "      <td>1.1</td>\n",
       "      <td>-36.4</td>\n",
       "      <td>5191.0</td>\n",
       "      <td>0</td>\n",
       "    </tr>\n",
       "    <tr>\n",
       "      <th>2</th>\n",
       "      <td>37</td>\n",
       "      <td>services</td>\n",
       "      <td>married</td>\n",
       "      <td>4</td>\n",
       "      <td>no</td>\n",
       "      <td>yes</td>\n",
       "      <td>no</td>\n",
       "      <td>nonexistent</td>\n",
       "      <td>1.1</td>\n",
       "      <td>-36.4</td>\n",
       "      <td>5191.0</td>\n",
       "      <td>0</td>\n",
       "    </tr>\n",
       "    <tr>\n",
       "      <th>3</th>\n",
       "      <td>40</td>\n",
       "      <td>admin.</td>\n",
       "      <td>married</td>\n",
       "      <td>2</td>\n",
       "      <td>no</td>\n",
       "      <td>no</td>\n",
       "      <td>no</td>\n",
       "      <td>nonexistent</td>\n",
       "      <td>1.1</td>\n",
       "      <td>-36.4</td>\n",
       "      <td>5191.0</td>\n",
       "      <td>0</td>\n",
       "    </tr>\n",
       "    <tr>\n",
       "      <th>4</th>\n",
       "      <td>56</td>\n",
       "      <td>services</td>\n",
       "      <td>married</td>\n",
       "      <td>4</td>\n",
       "      <td>no</td>\n",
       "      <td>no</td>\n",
       "      <td>yes</td>\n",
       "      <td>nonexistent</td>\n",
       "      <td>1.1</td>\n",
       "      <td>-36.4</td>\n",
       "      <td>5191.0</td>\n",
       "      <td>0</td>\n",
       "    </tr>\n",
       "  </tbody>\n",
       "</table>\n",
       "</div>"
      ],
      "text/plain": [
       "   age        job  marital  education default housing loan     poutcome  \\\n",
       "0   56  housemaid  married          1      no      no   no  nonexistent   \n",
       "1   57   services  married          4      no      no   no  nonexistent   \n",
       "2   37   services  married          4      no     yes   no  nonexistent   \n",
       "3   40     admin.  married          2      no      no   no  nonexistent   \n",
       "4   56   services  married          4      no      no  yes  nonexistent   \n",
       "\n",
       "   emp.var.rate  cons.conf.idx  nr.employed  target  \n",
       "0           1.1          -36.4       5191.0       0  \n",
       "1           1.1          -36.4       5191.0       0  \n",
       "2           1.1          -36.4       5191.0       0  \n",
       "3           1.1          -36.4       5191.0       0  \n",
       "4           1.1          -36.4       5191.0       0  "
      ]
     },
     "execution_count": 24,
     "metadata": {},
     "output_type": "execute_result"
    }
   ],
   "source": [
    "level_mapping = {'illiterate': 0, 'basic.4y': 1, 'basic.6y': 2, 'basic.9y': 3, 'high.school': 4, 'professional.course': 5, 'university.degree': 6}\n",
    "\n",
    "#replacing the feature education in the dataframe with the encoded, mapped values\n",
    "Bank_df['education'] = Bank_df['education'].replace(level_mapping)\n",
    "\n",
    "Bank_df.head(5)"
   ]
  },
  {
   "cell_type": "markdown",
   "metadata": {},
   "source": [
    "Checking type of the feature after integer encoding"
   ]
  },
  {
   "cell_type": "code",
   "execution_count": 25,
   "metadata": {},
   "outputs": [
    {
     "data": {
      "text/plain": [
       "dtype('int64')"
      ]
     },
     "execution_count": 25,
     "metadata": {},
     "output_type": "execute_result"
    }
   ],
   "source": [
    "Bank_df['education'].dtypes"
   ]
  },
  {
   "cell_type": "markdown",
   "metadata": {},
   "source": [
    "## One - Hot Encoding of Categorical Features\n",
    "The following code snippets describe how One-Hot encoding is being carried out for all the categorical features in the dataframe. The \"target\" feature is being dropped from the dataframe as after performing One-Hot encoding we continue to scale the dataframe. It is not desirable to scale the target feature and thus we drop it from the dataframe before the process."
   ]
  },
  {
   "cell_type": "code",
   "execution_count": 26,
   "metadata": {},
   "outputs": [],
   "source": [
    "#dropping target column before encoding\n",
    "Bank_df = Bank_df.drop(['target'], axis=1)"
   ]
  },
  {
   "cell_type": "code",
   "execution_count": 27,
   "metadata": {},
   "outputs": [
    {
     "name": "stdout",
     "output_type": "stream",
     "text": [
      "Dataframe after performing One-Hot encoding: \n"
     ]
    },
    {
     "data": {
      "text/html": [
       "<div>\n",
       "<style scoped>\n",
       "    .dataframe tbody tr th:only-of-type {\n",
       "        vertical-align: middle;\n",
       "    }\n",
       "\n",
       "    .dataframe tbody tr th {\n",
       "        vertical-align: top;\n",
       "    }\n",
       "\n",
       "    .dataframe thead th {\n",
       "        text-align: right;\n",
       "    }\n",
       "</style>\n",
       "<table border=\"1\" class=\"dataframe\">\n",
       "  <thead>\n",
       "    <tr style=\"text-align: right;\">\n",
       "      <th></th>\n",
       "      <th>age</th>\n",
       "      <th>education</th>\n",
       "      <th>default</th>\n",
       "      <th>housing</th>\n",
       "      <th>loan</th>\n",
       "      <th>emp.var.rate</th>\n",
       "      <th>cons.conf.idx</th>\n",
       "      <th>nr.employed</th>\n",
       "      <th>job_admin.</th>\n",
       "      <th>job_blue-collar</th>\n",
       "      <th>...</th>\n",
       "      <th>job_services</th>\n",
       "      <th>job_student</th>\n",
       "      <th>job_technician</th>\n",
       "      <th>job_unemployed</th>\n",
       "      <th>marital_divorced</th>\n",
       "      <th>marital_married</th>\n",
       "      <th>marital_single</th>\n",
       "      <th>poutcome_failure</th>\n",
       "      <th>poutcome_nonexistent</th>\n",
       "      <th>poutcome_success</th>\n",
       "    </tr>\n",
       "  </thead>\n",
       "  <tbody>\n",
       "    <tr>\n",
       "      <th>0</th>\n",
       "      <td>56</td>\n",
       "      <td>1</td>\n",
       "      <td>0</td>\n",
       "      <td>0</td>\n",
       "      <td>0</td>\n",
       "      <td>1.1</td>\n",
       "      <td>-36.4</td>\n",
       "      <td>5191.0</td>\n",
       "      <td>0</td>\n",
       "      <td>0</td>\n",
       "      <td>...</td>\n",
       "      <td>0</td>\n",
       "      <td>0</td>\n",
       "      <td>0</td>\n",
       "      <td>0</td>\n",
       "      <td>0</td>\n",
       "      <td>1</td>\n",
       "      <td>0</td>\n",
       "      <td>0</td>\n",
       "      <td>1</td>\n",
       "      <td>0</td>\n",
       "    </tr>\n",
       "    <tr>\n",
       "      <th>1</th>\n",
       "      <td>57</td>\n",
       "      <td>4</td>\n",
       "      <td>0</td>\n",
       "      <td>0</td>\n",
       "      <td>0</td>\n",
       "      <td>1.1</td>\n",
       "      <td>-36.4</td>\n",
       "      <td>5191.0</td>\n",
       "      <td>0</td>\n",
       "      <td>0</td>\n",
       "      <td>...</td>\n",
       "      <td>1</td>\n",
       "      <td>0</td>\n",
       "      <td>0</td>\n",
       "      <td>0</td>\n",
       "      <td>0</td>\n",
       "      <td>1</td>\n",
       "      <td>0</td>\n",
       "      <td>0</td>\n",
       "      <td>1</td>\n",
       "      <td>0</td>\n",
       "    </tr>\n",
       "    <tr>\n",
       "      <th>2</th>\n",
       "      <td>37</td>\n",
       "      <td>4</td>\n",
       "      <td>0</td>\n",
       "      <td>1</td>\n",
       "      <td>0</td>\n",
       "      <td>1.1</td>\n",
       "      <td>-36.4</td>\n",
       "      <td>5191.0</td>\n",
       "      <td>0</td>\n",
       "      <td>0</td>\n",
       "      <td>...</td>\n",
       "      <td>1</td>\n",
       "      <td>0</td>\n",
       "      <td>0</td>\n",
       "      <td>0</td>\n",
       "      <td>0</td>\n",
       "      <td>1</td>\n",
       "      <td>0</td>\n",
       "      <td>0</td>\n",
       "      <td>1</td>\n",
       "      <td>0</td>\n",
       "    </tr>\n",
       "    <tr>\n",
       "      <th>3</th>\n",
       "      <td>40</td>\n",
       "      <td>2</td>\n",
       "      <td>0</td>\n",
       "      <td>0</td>\n",
       "      <td>0</td>\n",
       "      <td>1.1</td>\n",
       "      <td>-36.4</td>\n",
       "      <td>5191.0</td>\n",
       "      <td>1</td>\n",
       "      <td>0</td>\n",
       "      <td>...</td>\n",
       "      <td>0</td>\n",
       "      <td>0</td>\n",
       "      <td>0</td>\n",
       "      <td>0</td>\n",
       "      <td>0</td>\n",
       "      <td>1</td>\n",
       "      <td>0</td>\n",
       "      <td>0</td>\n",
       "      <td>1</td>\n",
       "      <td>0</td>\n",
       "    </tr>\n",
       "    <tr>\n",
       "      <th>4</th>\n",
       "      <td>56</td>\n",
       "      <td>4</td>\n",
       "      <td>0</td>\n",
       "      <td>0</td>\n",
       "      <td>1</td>\n",
       "      <td>1.1</td>\n",
       "      <td>-36.4</td>\n",
       "      <td>5191.0</td>\n",
       "      <td>0</td>\n",
       "      <td>0</td>\n",
       "      <td>...</td>\n",
       "      <td>1</td>\n",
       "      <td>0</td>\n",
       "      <td>0</td>\n",
       "      <td>0</td>\n",
       "      <td>0</td>\n",
       "      <td>1</td>\n",
       "      <td>0</td>\n",
       "      <td>0</td>\n",
       "      <td>1</td>\n",
       "      <td>0</td>\n",
       "    </tr>\n",
       "  </tbody>\n",
       "</table>\n",
       "<p>5 rows × 25 columns</p>\n",
       "</div>"
      ],
      "text/plain": [
       "   age  education  default  housing  loan  emp.var.rate  cons.conf.idx  \\\n",
       "0   56          1        0        0     0           1.1          -36.4   \n",
       "1   57          4        0        0     0           1.1          -36.4   \n",
       "2   37          4        0        1     0           1.1          -36.4   \n",
       "3   40          2        0        0     0           1.1          -36.4   \n",
       "4   56          4        0        0     1           1.1          -36.4   \n",
       "\n",
       "   nr.employed  job_admin.  job_blue-collar  ...  job_services  job_student  \\\n",
       "0       5191.0           0                0  ...             0            0   \n",
       "1       5191.0           0                0  ...             1            0   \n",
       "2       5191.0           0                0  ...             1            0   \n",
       "3       5191.0           1                0  ...             0            0   \n",
       "4       5191.0           0                0  ...             1            0   \n",
       "\n",
       "   job_technician  job_unemployed  marital_divorced  marital_married  \\\n",
       "0               0               0                 0                1   \n",
       "1               0               0                 0                1   \n",
       "2               0               0                 0                1   \n",
       "3               0               0                 0                1   \n",
       "4               0               0                 0                1   \n",
       "\n",
       "   marital_single  poutcome_failure  poutcome_nonexistent  poutcome_success  \n",
       "0               0                 0                     1                 0  \n",
       "1               0                 0                     1                 0  \n",
       "2               0                 0                     1                 0  \n",
       "3               0                 0                     1                 0  \n",
       "4               0                 0                     1                 0  \n",
       "\n",
       "[5 rows x 25 columns]"
      ]
     },
     "execution_count": 27,
     "metadata": {},
     "output_type": "execute_result"
    }
   ],
   "source": [
    "# get the list of categorical descriptive features\n",
    "categorical_cols = Bank_df.columns[Bank_df.dtypes==object].tolist()\n",
    "\n",
    "# if a categorical descriptive feature has only 2 levels,\n",
    "# define only one binary variable\n",
    "for col in categorical_cols:\n",
    "    n = len(Bank_df[col].unique())\n",
    "    if (n == 2):\n",
    "        Bank_df[col] = pd.get_dummies(Bank_df[col], drop_first=True)\n",
    "\n",
    "# for other categorical features (with > 2 levels), \n",
    "# use regular one-hot-encoding \n",
    "# if a feature is numeric, it will be untouched\n",
    "Bank_df = pd.get_dummies(Bank_df)\n",
    "\n",
    "print(\"Dataframe after performing One-Hot encoding: \")\n",
    "Bank_df.head()"
   ]
  },
  {
   "cell_type": "markdown",
   "metadata": {},
   "source": [
    "Extracting the feature names and storing in a variable before performing scaling"
   ]
  },
  {
   "cell_type": "code",
   "execution_count": 28,
   "metadata": {},
   "outputs": [],
   "source": [
    "attributeNames_new = Bank_df.columns\n",
    "attributeNames_new = attributeNames_new.tolist()\n",
    "attributeNames_new.append(\"target\")"
   ]
  },
  {
   "cell_type": "markdown",
   "metadata": {},
   "source": [
    "# Scaling the Dataframe\n",
    "The below code snippet depicts Scaling for the dataframe. The Min-Max Scaling procedure is carried out on the dataframe, such that each feature has values ranging between 0 and 1."
   ]
  },
  {
   "cell_type": "code",
   "execution_count": 29,
   "metadata": {},
   "outputs": [
    {
     "data": {
      "text/html": [
       "<div>\n",
       "<style scoped>\n",
       "    .dataframe tbody tr th:only-of-type {\n",
       "        vertical-align: middle;\n",
       "    }\n",
       "\n",
       "    .dataframe tbody tr th {\n",
       "        vertical-align: top;\n",
       "    }\n",
       "\n",
       "    .dataframe thead th {\n",
       "        text-align: right;\n",
       "    }\n",
       "</style>\n",
       "<table border=\"1\" class=\"dataframe\">\n",
       "  <thead>\n",
       "    <tr style=\"text-align: right;\">\n",
       "      <th></th>\n",
       "      <th>0</th>\n",
       "      <th>1</th>\n",
       "      <th>2</th>\n",
       "      <th>3</th>\n",
       "      <th>4</th>\n",
       "      <th>5</th>\n",
       "      <th>6</th>\n",
       "      <th>7</th>\n",
       "      <th>8</th>\n",
       "      <th>9</th>\n",
       "      <th>...</th>\n",
       "      <th>15</th>\n",
       "      <th>16</th>\n",
       "      <th>17</th>\n",
       "      <th>18</th>\n",
       "      <th>19</th>\n",
       "      <th>20</th>\n",
       "      <th>21</th>\n",
       "      <th>22</th>\n",
       "      <th>23</th>\n",
       "      <th>24</th>\n",
       "    </tr>\n",
       "  </thead>\n",
       "  <tbody>\n",
       "    <tr>\n",
       "      <th>0</th>\n",
       "      <td>0.481481</td>\n",
       "      <td>0.166667</td>\n",
       "      <td>0.0</td>\n",
       "      <td>0.0</td>\n",
       "      <td>0.0</td>\n",
       "      <td>0.9375</td>\n",
       "      <td>0.60251</td>\n",
       "      <td>0.859735</td>\n",
       "      <td>0.0</td>\n",
       "      <td>0.0</td>\n",
       "      <td>...</td>\n",
       "      <td>0.0</td>\n",
       "      <td>0.0</td>\n",
       "      <td>0.0</td>\n",
       "      <td>0.0</td>\n",
       "      <td>0.0</td>\n",
       "      <td>1.0</td>\n",
       "      <td>0.0</td>\n",
       "      <td>0.0</td>\n",
       "      <td>1.0</td>\n",
       "      <td>0.0</td>\n",
       "    </tr>\n",
       "    <tr>\n",
       "      <th>1</th>\n",
       "      <td>0.493827</td>\n",
       "      <td>0.666667</td>\n",
       "      <td>0.0</td>\n",
       "      <td>0.0</td>\n",
       "      <td>0.0</td>\n",
       "      <td>0.9375</td>\n",
       "      <td>0.60251</td>\n",
       "      <td>0.859735</td>\n",
       "      <td>0.0</td>\n",
       "      <td>0.0</td>\n",
       "      <td>...</td>\n",
       "      <td>1.0</td>\n",
       "      <td>0.0</td>\n",
       "      <td>0.0</td>\n",
       "      <td>0.0</td>\n",
       "      <td>0.0</td>\n",
       "      <td>1.0</td>\n",
       "      <td>0.0</td>\n",
       "      <td>0.0</td>\n",
       "      <td>1.0</td>\n",
       "      <td>0.0</td>\n",
       "    </tr>\n",
       "    <tr>\n",
       "      <th>2</th>\n",
       "      <td>0.246914</td>\n",
       "      <td>0.666667</td>\n",
       "      <td>0.0</td>\n",
       "      <td>1.0</td>\n",
       "      <td>0.0</td>\n",
       "      <td>0.9375</td>\n",
       "      <td>0.60251</td>\n",
       "      <td>0.859735</td>\n",
       "      <td>0.0</td>\n",
       "      <td>0.0</td>\n",
       "      <td>...</td>\n",
       "      <td>1.0</td>\n",
       "      <td>0.0</td>\n",
       "      <td>0.0</td>\n",
       "      <td>0.0</td>\n",
       "      <td>0.0</td>\n",
       "      <td>1.0</td>\n",
       "      <td>0.0</td>\n",
       "      <td>0.0</td>\n",
       "      <td>1.0</td>\n",
       "      <td>0.0</td>\n",
       "    </tr>\n",
       "    <tr>\n",
       "      <th>3</th>\n",
       "      <td>0.283951</td>\n",
       "      <td>0.333333</td>\n",
       "      <td>0.0</td>\n",
       "      <td>0.0</td>\n",
       "      <td>0.0</td>\n",
       "      <td>0.9375</td>\n",
       "      <td>0.60251</td>\n",
       "      <td>0.859735</td>\n",
       "      <td>1.0</td>\n",
       "      <td>0.0</td>\n",
       "      <td>...</td>\n",
       "      <td>0.0</td>\n",
       "      <td>0.0</td>\n",
       "      <td>0.0</td>\n",
       "      <td>0.0</td>\n",
       "      <td>0.0</td>\n",
       "      <td>1.0</td>\n",
       "      <td>0.0</td>\n",
       "      <td>0.0</td>\n",
       "      <td>1.0</td>\n",
       "      <td>0.0</td>\n",
       "    </tr>\n",
       "    <tr>\n",
       "      <th>4</th>\n",
       "      <td>0.481481</td>\n",
       "      <td>0.666667</td>\n",
       "      <td>0.0</td>\n",
       "      <td>0.0</td>\n",
       "      <td>1.0</td>\n",
       "      <td>0.9375</td>\n",
       "      <td>0.60251</td>\n",
       "      <td>0.859735</td>\n",
       "      <td>0.0</td>\n",
       "      <td>0.0</td>\n",
       "      <td>...</td>\n",
       "      <td>1.0</td>\n",
       "      <td>0.0</td>\n",
       "      <td>0.0</td>\n",
       "      <td>0.0</td>\n",
       "      <td>0.0</td>\n",
       "      <td>1.0</td>\n",
       "      <td>0.0</td>\n",
       "      <td>0.0</td>\n",
       "      <td>1.0</td>\n",
       "      <td>0.0</td>\n",
       "    </tr>\n",
       "  </tbody>\n",
       "</table>\n",
       "<p>5 rows × 25 columns</p>\n",
       "</div>"
      ],
      "text/plain": [
       "         0         1    2    3    4       5        6         7    8    9   \\\n",
       "0  0.481481  0.166667  0.0  0.0  0.0  0.9375  0.60251  0.859735  0.0  0.0   \n",
       "1  0.493827  0.666667  0.0  0.0  0.0  0.9375  0.60251  0.859735  0.0  0.0   \n",
       "2  0.246914  0.666667  0.0  1.0  0.0  0.9375  0.60251  0.859735  0.0  0.0   \n",
       "3  0.283951  0.333333  0.0  0.0  0.0  0.9375  0.60251  0.859735  1.0  0.0   \n",
       "4  0.481481  0.666667  0.0  0.0  1.0  0.9375  0.60251  0.859735  0.0  0.0   \n",
       "\n",
       "   ...   15   16   17   18   19   20   21   22   23   24  \n",
       "0  ...  0.0  0.0  0.0  0.0  0.0  1.0  0.0  0.0  1.0  0.0  \n",
       "1  ...  1.0  0.0  0.0  0.0  0.0  1.0  0.0  0.0  1.0  0.0  \n",
       "2  ...  1.0  0.0  0.0  0.0  0.0  1.0  0.0  0.0  1.0  0.0  \n",
       "3  ...  0.0  0.0  0.0  0.0  0.0  1.0  0.0  0.0  1.0  0.0  \n",
       "4  ...  1.0  0.0  0.0  0.0  0.0  1.0  0.0  0.0  1.0  0.0  \n",
       "\n",
       "[5 rows x 25 columns]"
      ]
     },
     "execution_count": 29,
     "metadata": {},
     "output_type": "execute_result"
    }
   ],
   "source": [
    "#scaling the dataframe\n",
    "from sklearn import preprocessing\n",
    "import warnings\n",
    "warnings.filterwarnings(\"ignore\")\n",
    "\n",
    "Bank_scaled_df = preprocessing.MinMaxScaler().fit_transform(Bank_df)\n",
    "Bank_df_new = pd.DataFrame(data = Bank_scaled_df)\n",
    "Bank_df_new.head()"
   ]
  },
  {
   "cell_type": "markdown",
   "metadata": {},
   "source": [
    "The target column is added back into the scaled dataframe. The below code snippet also shows creation of a clean dataframe with columns names assigned to the names prior to scaling."
   ]
  },
  {
   "cell_type": "code",
   "execution_count": 30,
   "metadata": {},
   "outputs": [],
   "source": [
    "Bank_df_new['target'] = target \n",
    "\n",
    "#creating a new, clean csv\n",
    "Bank_clean = Bank_df_new\n",
    "Bank_clean.columns = attributeNames_new"
   ]
  },
  {
   "cell_type": "markdown",
   "metadata": {},
   "source": [
    "Printing shape of the dataframe"
   ]
  },
  {
   "cell_type": "code",
   "execution_count": 31,
   "metadata": {},
   "outputs": [
    {
     "data": {
      "text/plain": [
       "(41188, 26)"
      ]
     },
     "execution_count": 31,
     "metadata": {},
     "output_type": "execute_result"
    }
   ],
   "source": [
    "Bank_clean.shape"
   ]
  },
  {
   "cell_type": "markdown",
   "metadata": {},
   "source": [
    "Summary of the dataframe"
   ]
  },
  {
   "cell_type": "code",
   "execution_count": 32,
   "metadata": {},
   "outputs": [
    {
     "data": {
      "text/html": [
       "<div>\n",
       "<style scoped>\n",
       "    .dataframe tbody tr th:only-of-type {\n",
       "        vertical-align: middle;\n",
       "    }\n",
       "\n",
       "    .dataframe tbody tr th {\n",
       "        vertical-align: top;\n",
       "    }\n",
       "\n",
       "    .dataframe thead th {\n",
       "        text-align: right;\n",
       "    }\n",
       "</style>\n",
       "<table border=\"1\" class=\"dataframe\">\n",
       "  <thead>\n",
       "    <tr style=\"text-align: right;\">\n",
       "      <th></th>\n",
       "      <th>age</th>\n",
       "      <th>education</th>\n",
       "      <th>default</th>\n",
       "      <th>housing</th>\n",
       "      <th>loan</th>\n",
       "      <th>emp.var.rate</th>\n",
       "      <th>cons.conf.idx</th>\n",
       "      <th>nr.employed</th>\n",
       "      <th>job_admin.</th>\n",
       "      <th>job_blue-collar</th>\n",
       "      <th>...</th>\n",
       "      <th>job_student</th>\n",
       "      <th>job_technician</th>\n",
       "      <th>job_unemployed</th>\n",
       "      <th>marital_divorced</th>\n",
       "      <th>marital_married</th>\n",
       "      <th>marital_single</th>\n",
       "      <th>poutcome_failure</th>\n",
       "      <th>poutcome_nonexistent</th>\n",
       "      <th>poutcome_success</th>\n",
       "      <th>target</th>\n",
       "    </tr>\n",
       "  </thead>\n",
       "  <tbody>\n",
       "    <tr>\n",
       "      <th>count</th>\n",
       "      <td>41188.000</td>\n",
       "      <td>41188.000</td>\n",
       "      <td>41188.000</td>\n",
       "      <td>41188.000</td>\n",
       "      <td>41188.000</td>\n",
       "      <td>41188.000</td>\n",
       "      <td>41188.000</td>\n",
       "      <td>41188.000</td>\n",
       "      <td>41188.000</td>\n",
       "      <td>41188.000</td>\n",
       "      <td>...</td>\n",
       "      <td>41188.000</td>\n",
       "      <td>41188.000</td>\n",
       "      <td>41188.000</td>\n",
       "      <td>41188.000</td>\n",
       "      <td>41188.000</td>\n",
       "      <td>41188.000</td>\n",
       "      <td>41188.000</td>\n",
       "      <td>41188.000</td>\n",
       "      <td>41188.000</td>\n",
       "      <td>41188.000</td>\n",
       "    </tr>\n",
       "    <tr>\n",
       "      <th>mean</th>\n",
       "      <td>0.284</td>\n",
       "      <td>0.706</td>\n",
       "      <td>0.000</td>\n",
       "      <td>0.548</td>\n",
       "      <td>0.152</td>\n",
       "      <td>0.725</td>\n",
       "      <td>0.431</td>\n",
       "      <td>0.769</td>\n",
       "      <td>0.261</td>\n",
       "      <td>0.225</td>\n",
       "      <td>...</td>\n",
       "      <td>0.021</td>\n",
       "      <td>0.164</td>\n",
       "      <td>0.025</td>\n",
       "      <td>0.112</td>\n",
       "      <td>0.607</td>\n",
       "      <td>0.281</td>\n",
       "      <td>0.103</td>\n",
       "      <td>0.863</td>\n",
       "      <td>0.033</td>\n",
       "      <td>0.113</td>\n",
       "    </tr>\n",
       "    <tr>\n",
       "      <th>std</th>\n",
       "      <td>0.129</td>\n",
       "      <td>0.274</td>\n",
       "      <td>0.009</td>\n",
       "      <td>0.498</td>\n",
       "      <td>0.359</td>\n",
       "      <td>0.327</td>\n",
       "      <td>0.194</td>\n",
       "      <td>0.273</td>\n",
       "      <td>0.439</td>\n",
       "      <td>0.417</td>\n",
       "      <td>...</td>\n",
       "      <td>0.144</td>\n",
       "      <td>0.370</td>\n",
       "      <td>0.155</td>\n",
       "      <td>0.315</td>\n",
       "      <td>0.488</td>\n",
       "      <td>0.449</td>\n",
       "      <td>0.304</td>\n",
       "      <td>0.343</td>\n",
       "      <td>0.180</td>\n",
       "      <td>0.316</td>\n",
       "    </tr>\n",
       "    <tr>\n",
       "      <th>min</th>\n",
       "      <td>0.000</td>\n",
       "      <td>0.000</td>\n",
       "      <td>0.000</td>\n",
       "      <td>0.000</td>\n",
       "      <td>0.000</td>\n",
       "      <td>0.000</td>\n",
       "      <td>0.000</td>\n",
       "      <td>0.000</td>\n",
       "      <td>0.000</td>\n",
       "      <td>0.000</td>\n",
       "      <td>...</td>\n",
       "      <td>0.000</td>\n",
       "      <td>0.000</td>\n",
       "      <td>0.000</td>\n",
       "      <td>0.000</td>\n",
       "      <td>0.000</td>\n",
       "      <td>0.000</td>\n",
       "      <td>0.000</td>\n",
       "      <td>0.000</td>\n",
       "      <td>0.000</td>\n",
       "      <td>0.000</td>\n",
       "    </tr>\n",
       "    <tr>\n",
       "      <th>25%</th>\n",
       "      <td>0.185</td>\n",
       "      <td>0.500</td>\n",
       "      <td>0.000</td>\n",
       "      <td>0.000</td>\n",
       "      <td>0.000</td>\n",
       "      <td>0.333</td>\n",
       "      <td>0.339</td>\n",
       "      <td>0.512</td>\n",
       "      <td>0.000</td>\n",
       "      <td>0.000</td>\n",
       "      <td>...</td>\n",
       "      <td>0.000</td>\n",
       "      <td>0.000</td>\n",
       "      <td>0.000</td>\n",
       "      <td>0.000</td>\n",
       "      <td>0.000</td>\n",
       "      <td>0.000</td>\n",
       "      <td>0.000</td>\n",
       "      <td>1.000</td>\n",
       "      <td>0.000</td>\n",
       "      <td>0.000</td>\n",
       "    </tr>\n",
       "    <tr>\n",
       "      <th>50%</th>\n",
       "      <td>0.259</td>\n",
       "      <td>0.667</td>\n",
       "      <td>0.000</td>\n",
       "      <td>1.000</td>\n",
       "      <td>0.000</td>\n",
       "      <td>0.938</td>\n",
       "      <td>0.377</td>\n",
       "      <td>0.860</td>\n",
       "      <td>0.000</td>\n",
       "      <td>0.000</td>\n",
       "      <td>...</td>\n",
       "      <td>0.000</td>\n",
       "      <td>0.000</td>\n",
       "      <td>0.000</td>\n",
       "      <td>0.000</td>\n",
       "      <td>1.000</td>\n",
       "      <td>0.000</td>\n",
       "      <td>0.000</td>\n",
       "      <td>1.000</td>\n",
       "      <td>0.000</td>\n",
       "      <td>0.000</td>\n",
       "    </tr>\n",
       "    <tr>\n",
       "      <th>75%</th>\n",
       "      <td>0.370</td>\n",
       "      <td>1.000</td>\n",
       "      <td>0.000</td>\n",
       "      <td>1.000</td>\n",
       "      <td>0.000</td>\n",
       "      <td>1.000</td>\n",
       "      <td>0.603</td>\n",
       "      <td>1.000</td>\n",
       "      <td>1.000</td>\n",
       "      <td>0.000</td>\n",
       "      <td>...</td>\n",
       "      <td>0.000</td>\n",
       "      <td>0.000</td>\n",
       "      <td>0.000</td>\n",
       "      <td>0.000</td>\n",
       "      <td>1.000</td>\n",
       "      <td>1.000</td>\n",
       "      <td>0.000</td>\n",
       "      <td>1.000</td>\n",
       "      <td>0.000</td>\n",
       "      <td>0.000</td>\n",
       "    </tr>\n",
       "    <tr>\n",
       "      <th>max</th>\n",
       "      <td>1.000</td>\n",
       "      <td>1.000</td>\n",
       "      <td>1.000</td>\n",
       "      <td>1.000</td>\n",
       "      <td>1.000</td>\n",
       "      <td>1.000</td>\n",
       "      <td>1.000</td>\n",
       "      <td>1.000</td>\n",
       "      <td>1.000</td>\n",
       "      <td>1.000</td>\n",
       "      <td>...</td>\n",
       "      <td>1.000</td>\n",
       "      <td>1.000</td>\n",
       "      <td>1.000</td>\n",
       "      <td>1.000</td>\n",
       "      <td>1.000</td>\n",
       "      <td>1.000</td>\n",
       "      <td>1.000</td>\n",
       "      <td>1.000</td>\n",
       "      <td>1.000</td>\n",
       "      <td>1.000</td>\n",
       "    </tr>\n",
       "  </tbody>\n",
       "</table>\n",
       "<p>8 rows × 26 columns</p>\n",
       "</div>"
      ],
      "text/plain": [
       "             age  education    default    housing       loan  emp.var.rate  \\\n",
       "count  41188.000  41188.000  41188.000  41188.000  41188.000     41188.000   \n",
       "mean       0.284      0.706      0.000      0.548      0.152         0.725   \n",
       "std        0.129      0.274      0.009      0.498      0.359         0.327   \n",
       "min        0.000      0.000      0.000      0.000      0.000         0.000   \n",
       "25%        0.185      0.500      0.000      0.000      0.000         0.333   \n",
       "50%        0.259      0.667      0.000      1.000      0.000         0.938   \n",
       "75%        0.370      1.000      0.000      1.000      0.000         1.000   \n",
       "max        1.000      1.000      1.000      1.000      1.000         1.000   \n",
       "\n",
       "       cons.conf.idx  nr.employed  job_admin.  job_blue-collar  ...  \\\n",
       "count      41188.000    41188.000   41188.000        41188.000  ...   \n",
       "mean           0.431        0.769       0.261            0.225  ...   \n",
       "std            0.194        0.273       0.439            0.417  ...   \n",
       "min            0.000        0.000       0.000            0.000  ...   \n",
       "25%            0.339        0.512       0.000            0.000  ...   \n",
       "50%            0.377        0.860       0.000            0.000  ...   \n",
       "75%            0.603        1.000       1.000            0.000  ...   \n",
       "max            1.000        1.000       1.000            1.000  ...   \n",
       "\n",
       "       job_student  job_technician  job_unemployed  marital_divorced  \\\n",
       "count    41188.000       41188.000       41188.000         41188.000   \n",
       "mean         0.021           0.164           0.025             0.112   \n",
       "std          0.144           0.370           0.155             0.315   \n",
       "min          0.000           0.000           0.000             0.000   \n",
       "25%          0.000           0.000           0.000             0.000   \n",
       "50%          0.000           0.000           0.000             0.000   \n",
       "75%          0.000           0.000           0.000             0.000   \n",
       "max          1.000           1.000           1.000             1.000   \n",
       "\n",
       "       marital_married  marital_single  poutcome_failure  \\\n",
       "count        41188.000       41188.000         41188.000   \n",
       "mean             0.607           0.281             0.103   \n",
       "std              0.488           0.449             0.304   \n",
       "min              0.000           0.000             0.000   \n",
       "25%              0.000           0.000             0.000   \n",
       "50%              1.000           0.000             0.000   \n",
       "75%              1.000           1.000             0.000   \n",
       "max              1.000           1.000             1.000   \n",
       "\n",
       "       poutcome_nonexistent  poutcome_success     target  \n",
       "count             41188.000         41188.000  41188.000  \n",
       "mean                  0.863             0.033      0.113  \n",
       "std                   0.343             0.180      0.316  \n",
       "min                   0.000             0.000      0.000  \n",
       "25%                   1.000             0.000      0.000  \n",
       "50%                   1.000             0.000      0.000  \n",
       "75%                   1.000             0.000      0.000  \n",
       "max                   1.000             1.000      1.000  \n",
       "\n",
       "[8 rows x 26 columns]"
      ]
     },
     "execution_count": 32,
     "metadata": {},
     "output_type": "execute_result"
    }
   ],
   "source": [
    "Bank_clean.describe(include='all').round(3) "
   ]
  },
  {
   "cell_type": "markdown",
   "metadata": {},
   "source": [
    "Displaying the dataframe"
   ]
  },
  {
   "cell_type": "code",
   "execution_count": 33,
   "metadata": {},
   "outputs": [
    {
     "data": {
      "text/html": [
       "<div>\n",
       "<style scoped>\n",
       "    .dataframe tbody tr th:only-of-type {\n",
       "        vertical-align: middle;\n",
       "    }\n",
       "\n",
       "    .dataframe tbody tr th {\n",
       "        vertical-align: top;\n",
       "    }\n",
       "\n",
       "    .dataframe thead th {\n",
       "        text-align: right;\n",
       "    }\n",
       "</style>\n",
       "<table border=\"1\" class=\"dataframe\">\n",
       "  <thead>\n",
       "    <tr style=\"text-align: right;\">\n",
       "      <th></th>\n",
       "      <th>age</th>\n",
       "      <th>education</th>\n",
       "      <th>default</th>\n",
       "      <th>housing</th>\n",
       "      <th>loan</th>\n",
       "      <th>emp.var.rate</th>\n",
       "      <th>cons.conf.idx</th>\n",
       "      <th>nr.employed</th>\n",
       "      <th>job_admin.</th>\n",
       "      <th>job_blue-collar</th>\n",
       "      <th>...</th>\n",
       "      <th>job_student</th>\n",
       "      <th>job_technician</th>\n",
       "      <th>job_unemployed</th>\n",
       "      <th>marital_divorced</th>\n",
       "      <th>marital_married</th>\n",
       "      <th>marital_single</th>\n",
       "      <th>poutcome_failure</th>\n",
       "      <th>poutcome_nonexistent</th>\n",
       "      <th>poutcome_success</th>\n",
       "      <th>target</th>\n",
       "    </tr>\n",
       "  </thead>\n",
       "  <tbody>\n",
       "    <tr>\n",
       "      <th>0</th>\n",
       "      <td>0.481481</td>\n",
       "      <td>0.166667</td>\n",
       "      <td>0.0</td>\n",
       "      <td>0.0</td>\n",
       "      <td>0.0</td>\n",
       "      <td>0.9375</td>\n",
       "      <td>0.60251</td>\n",
       "      <td>0.859735</td>\n",
       "      <td>0.0</td>\n",
       "      <td>0.0</td>\n",
       "      <td>...</td>\n",
       "      <td>0.0</td>\n",
       "      <td>0.0</td>\n",
       "      <td>0.0</td>\n",
       "      <td>0.0</td>\n",
       "      <td>1.0</td>\n",
       "      <td>0.0</td>\n",
       "      <td>0.0</td>\n",
       "      <td>1.0</td>\n",
       "      <td>0.0</td>\n",
       "      <td>0</td>\n",
       "    </tr>\n",
       "    <tr>\n",
       "      <th>1</th>\n",
       "      <td>0.493827</td>\n",
       "      <td>0.666667</td>\n",
       "      <td>0.0</td>\n",
       "      <td>0.0</td>\n",
       "      <td>0.0</td>\n",
       "      <td>0.9375</td>\n",
       "      <td>0.60251</td>\n",
       "      <td>0.859735</td>\n",
       "      <td>0.0</td>\n",
       "      <td>0.0</td>\n",
       "      <td>...</td>\n",
       "      <td>0.0</td>\n",
       "      <td>0.0</td>\n",
       "      <td>0.0</td>\n",
       "      <td>0.0</td>\n",
       "      <td>1.0</td>\n",
       "      <td>0.0</td>\n",
       "      <td>0.0</td>\n",
       "      <td>1.0</td>\n",
       "      <td>0.0</td>\n",
       "      <td>0</td>\n",
       "    </tr>\n",
       "    <tr>\n",
       "      <th>2</th>\n",
       "      <td>0.246914</td>\n",
       "      <td>0.666667</td>\n",
       "      <td>0.0</td>\n",
       "      <td>1.0</td>\n",
       "      <td>0.0</td>\n",
       "      <td>0.9375</td>\n",
       "      <td>0.60251</td>\n",
       "      <td>0.859735</td>\n",
       "      <td>0.0</td>\n",
       "      <td>0.0</td>\n",
       "      <td>...</td>\n",
       "      <td>0.0</td>\n",
       "      <td>0.0</td>\n",
       "      <td>0.0</td>\n",
       "      <td>0.0</td>\n",
       "      <td>1.0</td>\n",
       "      <td>0.0</td>\n",
       "      <td>0.0</td>\n",
       "      <td>1.0</td>\n",
       "      <td>0.0</td>\n",
       "      <td>0</td>\n",
       "    </tr>\n",
       "    <tr>\n",
       "      <th>3</th>\n",
       "      <td>0.283951</td>\n",
       "      <td>0.333333</td>\n",
       "      <td>0.0</td>\n",
       "      <td>0.0</td>\n",
       "      <td>0.0</td>\n",
       "      <td>0.9375</td>\n",
       "      <td>0.60251</td>\n",
       "      <td>0.859735</td>\n",
       "      <td>1.0</td>\n",
       "      <td>0.0</td>\n",
       "      <td>...</td>\n",
       "      <td>0.0</td>\n",
       "      <td>0.0</td>\n",
       "      <td>0.0</td>\n",
       "      <td>0.0</td>\n",
       "      <td>1.0</td>\n",
       "      <td>0.0</td>\n",
       "      <td>0.0</td>\n",
       "      <td>1.0</td>\n",
       "      <td>0.0</td>\n",
       "      <td>0</td>\n",
       "    </tr>\n",
       "    <tr>\n",
       "      <th>4</th>\n",
       "      <td>0.481481</td>\n",
       "      <td>0.666667</td>\n",
       "      <td>0.0</td>\n",
       "      <td>0.0</td>\n",
       "      <td>1.0</td>\n",
       "      <td>0.9375</td>\n",
       "      <td>0.60251</td>\n",
       "      <td>0.859735</td>\n",
       "      <td>0.0</td>\n",
       "      <td>0.0</td>\n",
       "      <td>...</td>\n",
       "      <td>0.0</td>\n",
       "      <td>0.0</td>\n",
       "      <td>0.0</td>\n",
       "      <td>0.0</td>\n",
       "      <td>1.0</td>\n",
       "      <td>0.0</td>\n",
       "      <td>0.0</td>\n",
       "      <td>1.0</td>\n",
       "      <td>0.0</td>\n",
       "      <td>0</td>\n",
       "    </tr>\n",
       "  </tbody>\n",
       "</table>\n",
       "<p>5 rows × 26 columns</p>\n",
       "</div>"
      ],
      "text/plain": [
       "        age  education  default  housing  loan  emp.var.rate  cons.conf.idx  \\\n",
       "0  0.481481   0.166667      0.0      0.0   0.0        0.9375        0.60251   \n",
       "1  0.493827   0.666667      0.0      0.0   0.0        0.9375        0.60251   \n",
       "2  0.246914   0.666667      0.0      1.0   0.0        0.9375        0.60251   \n",
       "3  0.283951   0.333333      0.0      0.0   0.0        0.9375        0.60251   \n",
       "4  0.481481   0.666667      0.0      0.0   1.0        0.9375        0.60251   \n",
       "\n",
       "   nr.employed  job_admin.  job_blue-collar  ...  job_student  job_technician  \\\n",
       "0     0.859735         0.0              0.0  ...          0.0             0.0   \n",
       "1     0.859735         0.0              0.0  ...          0.0             0.0   \n",
       "2     0.859735         0.0              0.0  ...          0.0             0.0   \n",
       "3     0.859735         1.0              0.0  ...          0.0             0.0   \n",
       "4     0.859735         0.0              0.0  ...          0.0             0.0   \n",
       "\n",
       "   job_unemployed  marital_divorced  marital_married  marital_single  \\\n",
       "0             0.0               0.0              1.0             0.0   \n",
       "1             0.0               0.0              1.0             0.0   \n",
       "2             0.0               0.0              1.0             0.0   \n",
       "3             0.0               0.0              1.0             0.0   \n",
       "4             0.0               0.0              1.0             0.0   \n",
       "\n",
       "   poutcome_failure  poutcome_nonexistent  poutcome_success  target  \n",
       "0               0.0                   1.0               0.0       0  \n",
       "1               0.0                   1.0               0.0       0  \n",
       "2               0.0                   1.0               0.0       0  \n",
       "3               0.0                   1.0               0.0       0  \n",
       "4               0.0                   1.0               0.0       0  \n",
       "\n",
       "[5 rows x 26 columns]"
      ]
     },
     "execution_count": 33,
     "metadata": {},
     "output_type": "execute_result"
    }
   ],
   "source": [
    "Bank_clean.head(5)"
   ]
  },
  {
   "cell_type": "markdown",
   "metadata": {},
   "source": [
    "<a id=\"Feature Selection & Ranking\"></a>\n",
    "# Feature Selection & Ranking "
   ]
  },
  {
   "cell_type": "markdown",
   "metadata": {},
   "source": [
    "The Random Forest Importance(RFI) was used to determine the most important features out of the selected relevant features from the Bank_clean dataframe. This helps in understanding which features are going to be useful for the predetive modelling and will aslso be used in the modelling phase for predictions."
   ]
  },
  {
   "cell_type": "code",
   "execution_count": 34,
   "metadata": {},
   "outputs": [],
   "source": [
    "import altair as alt"
   ]
  },
  {
   "cell_type": "code",
   "execution_count": 35,
   "metadata": {},
   "outputs": [
    {
     "data": {
      "text/plain": [
       "RendererRegistry.enable('default')"
      ]
     },
     "execution_count": 35,
     "metadata": {},
     "output_type": "execute_result"
    }
   ],
   "source": [
    "alt.renderers.enable('default')"
   ]
  },
  {
   "cell_type": "code",
   "execution_count": 36,
   "metadata": {},
   "outputs": [
    {
     "data": {
      "text/plain": [
       "array(['age', 'cons.conf.idx', 'education', 'nr.employed',\n",
       "       'poutcome_success', 'emp.var.rate', 'housing', 'loan',\n",
       "       'job_admin.', 'poutcome_failure'], dtype=object)"
      ]
     },
     "execution_count": 36,
     "metadata": {},
     "output_type": "execute_result"
    }
   ],
   "source": [
    "from sklearn.ensemble import RandomForestClassifier\n",
    "\n",
    "X = Bank_clean.drop('target',axis=1)\n",
    "y = Bank_clean['target']\n",
    "\n",
    "number_of_features = 10\n",
    "model_rfi = RandomForestClassifier(n_estimators=100)\n",
    "model_rfi.fit(X, Bank_clean['target'])\n",
    "fs_indices = np.argsort(model_rfi.feature_importances_)[::-1][0:number_of_features]\n",
    "\n",
    "best_features = Bank_clean.columns[fs_indices].values\n",
    "best_features"
   ]
  },
  {
   "cell_type": "code",
   "execution_count": 37,
   "metadata": {},
   "outputs": [
    {
     "data": {
      "text/plain": [
       "array([0.36650651, 0.1071895 , 0.09424504, 0.09173699, 0.05927491,\n",
       "       0.05252811, 0.04627524, 0.03254444, 0.0145786 , 0.01289533])"
      ]
     },
     "execution_count": 37,
     "metadata": {},
     "output_type": "execute_result"
    }
   ],
   "source": [
    "feature_importances = model_rfi.feature_importances_[fs_indices]\n",
    "feature_importances"
   ]
  },
  {
   "cell_type": "markdown",
   "metadata": {},
   "source": [
    "The below snippet depicts a function to visualize the important features against the best features obtained from the Random Forest Importance algorithm."
   ]
  },
  {
   "cell_type": "code",
   "execution_count": 38,
   "metadata": {},
   "outputs": [
    {
     "data": {
      "text/html": [
       "\n",
       "<div id=\"altair-viz-72eae23575f849e084cd9439d8acb424\"></div>\n",
       "<script type=\"text/javascript\">\n",
       "  (function(spec, embedOpt){\n",
       "    let outputDiv = document.currentScript.previousElementSibling;\n",
       "    if (outputDiv.id !== \"altair-viz-72eae23575f849e084cd9439d8acb424\") {\n",
       "      outputDiv = document.getElementById(\"altair-viz-72eae23575f849e084cd9439d8acb424\");\n",
       "    }\n",
       "    const paths = {\n",
       "      \"vega\": \"https://cdn.jsdelivr.net/npm//vega@5?noext\",\n",
       "      \"vega-lib\": \"https://cdn.jsdelivr.net/npm//vega-lib?noext\",\n",
       "      \"vega-lite\": \"https://cdn.jsdelivr.net/npm//vega-lite@4.8.1?noext\",\n",
       "      \"vega-embed\": \"https://cdn.jsdelivr.net/npm//vega-embed@6?noext\",\n",
       "    };\n",
       "\n",
       "    function loadScript(lib) {\n",
       "      return new Promise(function(resolve, reject) {\n",
       "        var s = document.createElement('script');\n",
       "        s.src = paths[lib];\n",
       "        s.async = true;\n",
       "        s.onload = () => resolve(paths[lib]);\n",
       "        s.onerror = () => reject(`Error loading script: ${paths[lib]}`);\n",
       "        document.getElementsByTagName(\"head\")[0].appendChild(s);\n",
       "      });\n",
       "    }\n",
       "\n",
       "    function showError(err) {\n",
       "      outputDiv.innerHTML = `<div class=\"error\" style=\"color:red;\">${err}</div>`;\n",
       "      throw err;\n",
       "    }\n",
       "\n",
       "    function displayChart(vegaEmbed) {\n",
       "      vegaEmbed(outputDiv, spec, embedOpt)\n",
       "        .catch(err => showError(`Javascript Error: ${err.message}<br>This usually means there's a typo in your chart specification. See the javascript console for the full traceback.`));\n",
       "    }\n",
       "\n",
       "    if(typeof define === \"function\" && define.amd) {\n",
       "      requirejs.config({paths});\n",
       "      require([\"vega-embed\"], displayChart, err => showError(`Error loading script: ${err.message}`));\n",
       "    } else if (typeof vegaEmbed === \"function\") {\n",
       "      displayChart(vegaEmbed);\n",
       "    } else {\n",
       "      loadScript(\"vega\")\n",
       "        .then(() => loadScript(\"vega-lite\"))\n",
       "        .then(() => loadScript(\"vega-embed\"))\n",
       "        .catch(showError)\n",
       "        .then(() => displayChart(vegaEmbed));\n",
       "    }\n",
       "  })({\"config\": {\"view\": {\"continuousWidth\": 400, \"continuousHeight\": 300}}, \"data\": {\"name\": \"data-285379723e407a06048ae751cf737402\"}, \"mark\": {\"type\": \"bar\", \"color\": \"teal\", \"opacity\": 0.75}, \"encoding\": {\"x\": {\"type\": \"nominal\", \"axis\": {\"labelAngle\": 45}, \"field\": \"features\", \"sort\": null, \"title\": \"Feature\"}, \"y\": {\"type\": \"quantitative\", \"field\": \"importances\", \"title\": \"Importance\"}}, \"title\": \"Random Forest Feature Importances\", \"width\": 500, \"$schema\": \"https://vega.github.io/schema/vega-lite/v4.8.1.json\", \"datasets\": {\"data-285379723e407a06048ae751cf737402\": [{\"features\": \"age\", \"importances\": 0.36650651274414153}, {\"features\": \"cons.conf.idx\", \"importances\": 0.10718949936788315}, {\"features\": \"education\", \"importances\": 0.09424504466659726}, {\"features\": \"nr.employed\", \"importances\": 0.09173698711947079}, {\"features\": \"poutcome_success\", \"importances\": 0.059274905643395756}, {\"features\": \"emp.var.rate\", \"importances\": 0.05252810528227101}, {\"features\": \"housing\", \"importances\": 0.04627524245944694}, {\"features\": \"loan\", \"importances\": 0.032544436093627394}, {\"features\": \"job_admin.\", \"importances\": 0.014578603479365517}, {\"features\": \"poutcome_failure\", \"importances\": 0.01289532956535439}]}}, {\"mode\": \"vega-lite\"});\n",
       "</script>"
      ],
      "text/plain": [
       "alt.Chart(...)"
      ]
     },
     "execution_count": 38,
     "metadata": {},
     "output_type": "execute_result"
    }
   ],
   "source": [
    "def plot_imp(best_features, scores, method_name, color):\n",
    "    \n",
    "    df = pd.DataFrame({'features': best_features, \n",
    "                       'importances': scores})\n",
    "    \n",
    "    chart = alt.Chart(df, \n",
    "                      width=500, \n",
    "                      title=method_name + ' Feature Importances'\n",
    "                     ).mark_bar(opacity=0.75, \n",
    "                                color=color).encode(\n",
    "        alt.X('features', title='Feature', sort=None, axis=alt.AxisConfig(labelAngle=45)),\n",
    "        alt.Y('importances', title='Importance')\n",
    "    )\n",
    "    \n",
    "    return chart\n",
    "\n",
    "plot_imp(best_features, feature_importances, 'Random Forest', 'teal')"
   ]
  },
  {
   "cell_type": "markdown",
   "metadata": {},
   "source": [
    "<a id=\"Data Sampling\"></a>\n",
    "# Data Sampling"
   ]
  },
  {
   "cell_type": "markdown",
   "metadata": {},
   "source": [
    "The Bank dataset consists of 41188 columns, out of which we will be using 5000 columns for modelling. The below snippet depicts randomly selecting 5000 values from the \"Bank_clean\" dataframe and assigning it to a new dataframe \"Bank_model\". The \"Bank_model_target\" dataframe stores the \"target\" feature. This sample split will be used for Decision Tree, Logistic Regression & Random Forest Classifier. The number of samples for K- Nearest Neighbour and Support Vector Machine have been reduced to 1000 to cut down on run-time of the cross validation technique."
   ]
  },
  {
   "cell_type": "code",
   "execution_count": 39,
   "metadata": {
    "scrolled": true
   },
   "outputs": [
    {
     "name": "stdout",
     "output_type": "stream",
     "text": [
      "(5000, 25)\n",
      "(5000, 1)\n"
     ]
    },
    {
     "data": {
      "text/plain": [
       "{0: 4431, 1: 569}"
      ]
     },
     "execution_count": 39,
     "metadata": {},
     "output_type": "execute_result"
    }
   ],
   "source": [
    "n_samples = 5000\n",
    "\n",
    "Bank_model = Bank_clean.drop(['target'], axis=1)\n",
    "Bank_model= Bank_model.iloc[:,0:25].values\n",
    "Bank_model_target= Bank_clean.iloc[:,[-1]].values\n",
    "\n",
    "Bank_sample = pd.DataFrame(Bank_model).sample(n=n_samples, random_state=8).values\n",
    "Bank_target_sample = pd.DataFrame(Bank_model_target).sample(n=n_samples, random_state=8).values\n",
    "\n",
    "print(Bank_sample.shape)\n",
    "print(Bank_target_sample.shape)\n",
    "\n",
    "unique, counts = np.unique(Bank_target_sample, return_counts=True)\n",
    "dict(zip(unique, counts))"
   ]
  },
  {
   "cell_type": "code",
   "execution_count": 40,
   "metadata": {},
   "outputs": [
    {
     "data": {
      "text/plain": [
       "array([0, 0, 0, ..., 0, 0, 0], dtype=int64)"
      ]
     },
     "execution_count": 40,
     "metadata": {},
     "output_type": "execute_result"
    }
   ],
   "source": [
    "Bank_target_sample.flatten()"
   ]
  },
  {
   "cell_type": "code",
   "execution_count": 41,
   "metadata": {},
   "outputs": [
    {
     "data": {
      "text/plain": [
       "array([[0.39506173, 0.16666667, 0.        , ..., 0.        , 1.        ,\n",
       "        0.        ],\n",
       "       [0.19753086, 0.83333333, 0.        , ..., 0.        , 1.        ,\n",
       "        0.        ],\n",
       "       [0.14814815, 1.        , 0.        , ..., 0.        , 1.        ,\n",
       "        0.        ],\n",
       "       ...,\n",
       "       [0.33333333, 0.33333333, 0.        , ..., 0.        , 1.        ,\n",
       "        0.        ],\n",
       "       [0.30864198, 0.66666667, 0.        , ..., 0.        , 1.        ,\n",
       "        0.        ],\n",
       "       [0.30864198, 0.33333333, 0.        , ..., 0.        , 1.        ,\n",
       "        0.        ]])"
      ]
     },
     "execution_count": 41,
     "metadata": {},
     "output_type": "execute_result"
    }
   ],
   "source": [
    "Bank_sample"
   ]
  },
  {
   "cell_type": "markdown",
   "metadata": {},
   "source": [
    "<a id=\"Model Evaluation\"></a>\n",
    "# Model Evaluation\n",
    "\n",
    "The goal of predicting customer suscription will be done using the 5 modelling algorithms:<br>K- Nearest Neighbour <br>Decision Tree <br>Logistic Regression <br>Random Forest Classifier <br>Support Vector Machine"
   ]
  },
  {
   "cell_type": "markdown",
   "metadata": {},
   "source": [
    "<a id=\"Hyperparameter Tuning & Visualization\"></a>\n",
    "# Hyperparameter Tuning & Visualization\n",
    "Hyperparameter tuning is specified for the different algorithms to get a detailed understanding of which technique and parameters work best for the dataset. The results are also visualized in different plots to get a better understanding."
   ]
  },
  {
   "cell_type": "markdown",
   "metadata": {},
   "source": [
    "<a id=\"KNN\"></a>\n",
    "## K- Nearest Neighbour\n",
    "\n",
    "The K- Nearest Neighbours algorithm is tuned with parameters \"n_neighbours\", ranging for 1 to 10 and \"p\" metric, which specifies the distance metric (Euclidean, Manhattan or Minkowski). The algorithm is carried out with the scoring parameter set to \"accuracy\", giving us an idea of the performance of the algorithm based on the Accuracy score of the model. We define 3- fold cross validation. The below snippet depicts splitting the \"Bank_model\" dataframe as a 70 : 30 split, with 70% training data and 30% test data. Our dataset now consists of 3500 training observations and 1500 test observations.\n",
    "\n",
    "This number of samples for the KNN algorithm is taken as 1000 in order to reduce the run-time of the cross-validation."
   ]
  },
  {
   "cell_type": "code",
   "execution_count": 42,
   "metadata": {},
   "outputs": [
    {
     "name": "stdout",
     "output_type": "stream",
     "text": [
      "Fitting 30 folds for each of 30 candidates, totalling 900 fits\n"
     ]
    },
    {
     "name": "stderr",
     "output_type": "stream",
     "text": [
      "[Parallel(n_jobs=1)]: Using backend SequentialBackend with 1 concurrent workers.\n",
      "[Parallel(n_jobs=1)]: Done 900 out of 900 | elapsed:  1.9min finished\n"
     ]
    }
   ],
   "source": [
    "n_samples1 = 1000\n",
    "\n",
    "Bank_sample1 = pd.DataFrame(Bank_model).sample(n=n_samples1, random_state=8).values\n",
    "Bank_target_sample1 = pd.DataFrame(Bank_model_target).sample(n=n_samples1, random_state=8).values\n",
    "\n",
    "from sklearn.model_selection import train_test_split\n",
    "\n",
    "X_train, X_test, Y_train, Y_test = train_test_split(Bank_sample1,Bank_target_sample1, test_size = 0.30, random_state = 8);\n",
    "\n",
    "from sklearn.neighbors import KNeighborsClassifier\n",
    "from sklearn.model_selection import RepeatedStratifiedKFold, GridSearchCV\n",
    "\n",
    "parameters_KNN = {'n_neighbors': [1, 2, 3, 4, 5, 6, 7, 8, 9, 10], \n",
    "              'p': [1, 2, 5]}\n",
    "\n",
    "cv_method = RepeatedStratifiedKFold(n_splits=3,  \n",
    "                                    random_state=8)\n",
    "\n",
    "grid_KNN = GridSearchCV(estimator=KNeighborsClassifier(), \n",
    "                      param_grid=parameters_KNN, \n",
    "                      cv=cv_method,\n",
    "                      verbose=1,  # verbose: the higher, the more messages\n",
    "                      scoring='accuracy', \n",
    "                      return_train_score=True)\n",
    "\n",
    "grid_KNN.fit(X_train, Y_train.ravel());"
   ]
  },
  {
   "cell_type": "code",
   "execution_count": 43,
   "metadata": {},
   "outputs": [
    {
     "data": {
      "text/plain": [
       "{'n_neighbors': 7, 'p': 1}"
      ]
     },
     "execution_count": 43,
     "metadata": {},
     "output_type": "execute_result"
    }
   ],
   "source": [
    "grid_KNN.best_params_"
   ]
  },
  {
   "cell_type": "code",
   "execution_count": 44,
   "metadata": {},
   "outputs": [
    {
     "data": {
      "text/plain": [
       "0.9191451768704986"
      ]
     },
     "execution_count": 44,
     "metadata": {},
     "output_type": "execute_result"
    }
   ],
   "source": [
    "grid_KNN.best_score_"
   ]
  },
  {
   "cell_type": "code",
   "execution_count": 45,
   "metadata": {},
   "outputs": [
    {
     "data": {
      "text/plain": [
       "array([0.88314442, 0.87785848, 0.87657215, 0.91329249, 0.91143331,\n",
       "       0.9098633 , 0.91229045, 0.90842901, 0.90757431, 0.91543169,\n",
       "       0.91271719, 0.91357495, 0.91885967, 0.91371434, 0.91328577,\n",
       "       0.91700598, 0.91442965, 0.9135725 , 0.91914518, 0.91514312,\n",
       "       0.91299842, 0.91571904, 0.91171821, 0.91043126, 0.91514618,\n",
       "       0.91186249, 0.90928922, 0.91171821, 0.9062892 , 0.90557512])"
      ]
     },
     "execution_count": 45,
     "metadata": {},
     "output_type": "execute_result"
    }
   ],
   "source": [
    "grid_KNN.cv_results_['mean_test_score']"
   ]
  },
  {
   "cell_type": "code",
   "execution_count": 46,
   "metadata": {},
   "outputs": [
    {
     "data": {
      "text/html": [
       "<div>\n",
       "<style scoped>\n",
       "    .dataframe tbody tr th:only-of-type {\n",
       "        vertical-align: middle;\n",
       "    }\n",
       "\n",
       "    .dataframe tbody tr th {\n",
       "        vertical-align: top;\n",
       "    }\n",
       "\n",
       "    .dataframe thead th {\n",
       "        text-align: right;\n",
       "    }\n",
       "</style>\n",
       "<table border=\"1\" class=\"dataframe\">\n",
       "  <thead>\n",
       "    <tr style=\"text-align: right;\">\n",
       "      <th></th>\n",
       "      <th>n_neighbors</th>\n",
       "      <th>p</th>\n",
       "      <th>test_score</th>\n",
       "      <th>metric</th>\n",
       "    </tr>\n",
       "  </thead>\n",
       "  <tbody>\n",
       "    <tr>\n",
       "      <th>0</th>\n",
       "      <td>1</td>\n",
       "      <td>1</td>\n",
       "      <td>0.883144</td>\n",
       "      <td>Manhattan</td>\n",
       "    </tr>\n",
       "    <tr>\n",
       "      <th>1</th>\n",
       "      <td>1</td>\n",
       "      <td>2</td>\n",
       "      <td>0.877858</td>\n",
       "      <td>Euclidean</td>\n",
       "    </tr>\n",
       "    <tr>\n",
       "      <th>2</th>\n",
       "      <td>1</td>\n",
       "      <td>5</td>\n",
       "      <td>0.876572</td>\n",
       "      <td>Minkowski</td>\n",
       "    </tr>\n",
       "    <tr>\n",
       "      <th>3</th>\n",
       "      <td>2</td>\n",
       "      <td>1</td>\n",
       "      <td>0.913292</td>\n",
       "      <td>Manhattan</td>\n",
       "    </tr>\n",
       "    <tr>\n",
       "      <th>4</th>\n",
       "      <td>2</td>\n",
       "      <td>2</td>\n",
       "      <td>0.911433</td>\n",
       "      <td>Euclidean</td>\n",
       "    </tr>\n",
       "  </tbody>\n",
       "</table>\n",
       "</div>"
      ],
      "text/plain": [
       "   n_neighbors  p  test_score     metric\n",
       "0            1  1    0.883144  Manhattan\n",
       "1            1  2    0.877858  Euclidean\n",
       "2            1  5    0.876572  Minkowski\n",
       "3            2  1    0.913292  Manhattan\n",
       "4            2  2    0.911433  Euclidean"
      ]
     },
     "execution_count": 46,
     "metadata": {},
     "output_type": "execute_result"
    }
   ],
   "source": [
    "results_KNN = pd.DataFrame(grid_KNN.cv_results_['params'])\n",
    "results_KNN['test_score'] = grid_KNN.cv_results_['mean_test_score']\n",
    "results_KNN['metric'] = results_KNN['p'].replace([1,2,5], [\"Manhattan\", \"Euclidean\", \"Minkowski\"])\n",
    "results_KNN.head()"
   ]
  },
  {
   "cell_type": "markdown",
   "metadata": {},
   "source": [
    "From the results of the tuned KNN model, we observe an accuracy score of 0.92, with the best results coming from 7 neighbours and distance metric p = 1, which is the Manhattan Distance. The results of the test are stored in a dataframe \"results_KNN\", with features including number of neighbours, the distance metric(p) value and the test scores obtained. \n",
    "\n",
    "Below is the visualization of the \"results_KNN\" dataframe, plotted with the number of neighbours on the x-axis and the test scores on the y-axis."
   ]
  },
  {
   "cell_type": "code",
   "execution_count": 47,
   "metadata": {},
   "outputs": [
    {
     "data": {
      "text/html": [
       "\n",
       "<div id=\"altair-viz-1eb02c9313da479589bc0010921ddf9f\"></div>\n",
       "<script type=\"text/javascript\">\n",
       "  (function(spec, embedOpt){\n",
       "    let outputDiv = document.currentScript.previousElementSibling;\n",
       "    if (outputDiv.id !== \"altair-viz-1eb02c9313da479589bc0010921ddf9f\") {\n",
       "      outputDiv = document.getElementById(\"altair-viz-1eb02c9313da479589bc0010921ddf9f\");\n",
       "    }\n",
       "    const paths = {\n",
       "      \"vega\": \"https://cdn.jsdelivr.net/npm//vega@5?noext\",\n",
       "      \"vega-lib\": \"https://cdn.jsdelivr.net/npm//vega-lib?noext\",\n",
       "      \"vega-lite\": \"https://cdn.jsdelivr.net/npm//vega-lite@4.8.1?noext\",\n",
       "      \"vega-embed\": \"https://cdn.jsdelivr.net/npm//vega-embed@6?noext\",\n",
       "    };\n",
       "\n",
       "    function loadScript(lib) {\n",
       "      return new Promise(function(resolve, reject) {\n",
       "        var s = document.createElement('script');\n",
       "        s.src = paths[lib];\n",
       "        s.async = true;\n",
       "        s.onload = () => resolve(paths[lib]);\n",
       "        s.onerror = () => reject(`Error loading script: ${paths[lib]}`);\n",
       "        document.getElementsByTagName(\"head\")[0].appendChild(s);\n",
       "      });\n",
       "    }\n",
       "\n",
       "    function showError(err) {\n",
       "      outputDiv.innerHTML = `<div class=\"error\" style=\"color:red;\">${err}</div>`;\n",
       "      throw err;\n",
       "    }\n",
       "\n",
       "    function displayChart(vegaEmbed) {\n",
       "      vegaEmbed(outputDiv, spec, embedOpt)\n",
       "        .catch(err => showError(`Javascript Error: ${err.message}<br>This usually means there's a typo in your chart specification. See the javascript console for the full traceback.`));\n",
       "    }\n",
       "\n",
       "    if(typeof define === \"function\" && define.amd) {\n",
       "      requirejs.config({paths});\n",
       "      require([\"vega-embed\"], displayChart, err => showError(`Error loading script: ${err.message}`));\n",
       "    } else if (typeof vegaEmbed === \"function\") {\n",
       "      displayChart(vegaEmbed);\n",
       "    } else {\n",
       "      loadScript(\"vega\")\n",
       "        .then(() => loadScript(\"vega-lite\"))\n",
       "        .then(() => loadScript(\"vega-embed\"))\n",
       "        .catch(showError)\n",
       "        .then(() => displayChart(vegaEmbed));\n",
       "    }\n",
       "  })({\"config\": {\"view\": {\"continuousWidth\": 400, \"continuousHeight\": 300}}, \"data\": {\"name\": \"data-264ca50b7ed964041c8e1866fbc9552f\"}, \"mark\": {\"type\": \"line\", \"point\": true}, \"encoding\": {\"color\": {\"type\": \"nominal\", \"field\": \"metric\"}, \"x\": {\"type\": \"quantitative\", \"field\": \"n_neighbors\", \"title\": \"Number of Neighbors\"}, \"y\": {\"type\": \"quantitative\", \"field\": \"test_score\", \"scale\": {\"zero\": false}, \"title\": \"Mean CV Score\"}}, \"title\": \"KNN Performance Comparison\", \"$schema\": \"https://vega.github.io/schema/vega-lite/v4.8.1.json\", \"datasets\": {\"data-264ca50b7ed964041c8e1866fbc9552f\": [{\"n_neighbors\": 1, \"p\": 1, \"test_score\": 0.8831444187667363, \"metric\": \"Manhattan\"}, {\"n_neighbors\": 1, \"p\": 2, \"test_score\": 0.8778584791460328, \"metric\": \"Euclidean\"}, {\"n_neighbors\": 1, \"p\": 5, \"test_score\": 0.876572148245968, \"metric\": \"Minkowski\"}, {\"n_neighbors\": 2, \"p\": 1, \"test_score\": 0.9132924935500043, \"metric\": \"Manhattan\"}, {\"n_neighbors\": 2, \"p\": 2, \"test_score\": 0.9114333052101294, \"metric\": \"Euclidean\"}, {\"n_neighbors\": 2, \"p\": 5, \"test_score\": 0.9098632967731681, \"metric\": \"Minkowski\"}, {\"n_neighbors\": 3, \"p\": 1, \"test_score\": 0.9122904515608378, \"metric\": \"Manhattan\"}, {\"n_neighbors\": 3, \"p\": 2, \"test_score\": 0.9084290133646357, \"metric\": \"Euclidean\"}, {\"n_neighbors\": 3, \"p\": 5, \"test_score\": 0.9075743125099348, \"metric\": \"Minkowski\"}, {\"n_neighbors\": 4, \"p\": 1, \"test_score\": 0.9154316911827642, \"metric\": \"Manhattan\"}, {\"n_neighbors\": 4, \"p\": 2, \"test_score\": 0.9127171906141863, \"metric\": \"Euclidean\"}, {\"n_neighbors\": 4, \"p\": 5, \"test_score\": 0.9135749483388967, \"metric\": \"Minkowski\"}, {\"n_neighbors\": 5, \"p\": 1, \"test_score\": 0.9188596652115966, \"metric\": \"Manhattan\"}, {\"n_neighbors\": 5, \"p\": 2, \"test_score\": 0.9137143416113372, \"metric\": \"Euclidean\"}, {\"n_neighbors\": 5, \"p\": 5, \"test_score\": 0.9132857684359831, \"metric\": \"Minkowski\"}, {\"n_neighbors\": 6, \"p\": 1, \"test_score\": 0.9170059792377389, \"metric\": \"Manhattan\"}, {\"n_neighbors\": 6, \"p\": 2, \"test_score\": 0.9144296491935978, \"metric\": \"Euclidean\"}, {\"n_neighbors\": 6, \"p\": 5, \"test_score\": 0.913572502842889, \"metric\": \"Minkowski\"}, {\"n_neighbors\": 7, \"p\": 1, \"test_score\": 0.9191451768704986, \"metric\": \"Manhattan\"}, {\"n_neighbors\": 7, \"p\": 2, \"test_score\": 0.9151431226538522, \"metric\": \"Euclidean\"}, {\"n_neighbors\": 7, \"p\": 5, \"test_score\": 0.912998422655075, \"metric\": \"Minkowski\"}, {\"n_neighbors\": 8, \"p\": 1, \"test_score\": 0.9157190369636721, \"metric\": \"Manhattan\"}, {\"n_neighbors\": 8, \"p\": 2, \"test_score\": 0.9117182054950295, \"metric\": \"Euclidean\"}, {\"n_neighbors\": 8, \"p\": 5, \"test_score\": 0.9104312632209628, \"metric\": \"Minkowski\"}, {\"n_neighbors\": 9, \"p\": 1, \"test_score\": 0.915146179523862, \"metric\": \"Manhattan\"}, {\"n_neighbors\": 9, \"p\": 2, \"test_score\": 0.9118624897594856, \"metric\": \"Euclidean\"}, {\"n_neighbors\": 9, \"p\": 5, \"test_score\": 0.909289216585354, \"metric\": \"Minkowski\"}, {\"n_neighbors\": 10, \"p\": 1, \"test_score\": 0.9117182054950294, \"metric\": \"Manhattan\"}, {\"n_neighbors\": 10, \"p\": 2, \"test_score\": 0.9062892043578737, \"metric\": \"Euclidean\"}, {\"n_neighbors\": 10, \"p\": 5, \"test_score\": 0.9055751195236172, \"metric\": \"Minkowski\"}]}}, {\"mode\": \"vega-lite\"});\n",
       "</script>"
      ],
      "text/plain": [
       "alt.Chart(...)"
      ]
     },
     "execution_count": 47,
     "metadata": {},
     "output_type": "execute_result"
    }
   ],
   "source": [
    "alt.Chart(results_KNN, \n",
    "          title='KNN Performance Comparison'\n",
    "         ).mark_line(point=True).encode(\n",
    "    alt.X('n_neighbors', title='Number of Neighbors'),\n",
    "    alt.Y('test_score', title='Mean CV Score', scale=alt.Scale(zero=False)),\n",
    "    color='metric'\n",
    ")"
   ]
  },
  {
   "cell_type": "markdown",
   "metadata": {},
   "source": [
    "<a id=\"DT\"></a>\n",
    "## Decision Tree \n",
    "\n",
    "The Decision algorithm is tuned with critirion \"gini and \"entropy\", Maximum Depth (max_depth) ranging from 1 to 11 and Minimum Sample Split (min_samples_split) between 2 and 3. The algorithm is carried out with the scoring parameter set to \"accuracy\", giving us an idea of the performance of the algorithm based on the Accuracy score of the model."
   ]
  },
  {
   "cell_type": "code",
   "execution_count": 48,
   "metadata": {},
   "outputs": [
    {
     "name": "stdout",
     "output_type": "stream",
     "text": [
      "Fitting 30 folds for each of 44 candidates, totalling 1320 fits\n"
     ]
    },
    {
     "name": "stderr",
     "output_type": "stream",
     "text": [
      "[Parallel(n_jobs=1)]: Using backend SequentialBackend with 1 concurrent workers.\n",
      "[Parallel(n_jobs=1)]: Done 1320 out of 1320 | elapsed:   15.0s finished\n"
     ]
    }
   ],
   "source": [
    "from sklearn.tree import DecisionTreeClassifier\n",
    "\n",
    "X_train, X_test, Y_train, Y_test = train_test_split(Bank_sample,Bank_target_sample, test_size = 0.30, random_state = 0);\n",
    "\n",
    "df_classifier = DecisionTreeClassifier(random_state=0)\n",
    "\n",
    "params_DT = {'criterion': ['gini', 'entropy'],\n",
    "             'max_depth': [1, 2, 3, 4, 5, 6, 7, 8,9,10,11],\n",
    "             'min_samples_split': [2, 3]}\n",
    "\n",
    "grid_DT = GridSearchCV(estimator=df_classifier, \n",
    "                     param_grid=params_DT, \n",
    "                     cv=cv_method,\n",
    "                     verbose=1, \n",
    "                     scoring='accuracy')\n",
    "\n",
    "grid_DT.fit(X_train, Y_train);\n"
   ]
  },
  {
   "cell_type": "code",
   "execution_count": 49,
   "metadata": {},
   "outputs": [
    {
     "data": {
      "text/plain": [
       "{'criterion': 'entropy', 'max_depth': 3, 'min_samples_split': 2}"
      ]
     },
     "execution_count": 49,
     "metadata": {},
     "output_type": "execute_result"
    }
   ],
   "source": [
    "grid_DT.best_params_"
   ]
  },
  {
   "cell_type": "code",
   "execution_count": 50,
   "metadata": {},
   "outputs": [
    {
     "data": {
      "text/plain": [
       "0.8868003407994676"
      ]
     },
     "execution_count": 50,
     "metadata": {},
     "output_type": "execute_result"
    }
   ],
   "source": [
    "grid_DT.best_score_"
   ]
  },
  {
   "cell_type": "markdown",
   "metadata": {},
   "source": [
    "From the results of the tuned Decision Tree model, we observe an accuracy score of 0.88, with the best results coming from criterion \"gini\", maximum depth of 3 and minimum samples split of 2. The results of the test are stored in a dataframe \"results_DT\", with features including criterion, maximum depth, minimum samples split and the corressponding test scores obtained. \n",
    "\n",
    "Below is the visualization of the \"results_DT\" dataframe, plotted with the maximum depth on the x-axis and the test scores on the y-axis."
   ]
  },
  {
   "cell_type": "code",
   "execution_count": 51,
   "metadata": {},
   "outputs": [
    {
     "data": {
      "text/html": [
       "<div>\n",
       "<style scoped>\n",
       "    .dataframe tbody tr th:only-of-type {\n",
       "        vertical-align: middle;\n",
       "    }\n",
       "\n",
       "    .dataframe tbody tr th {\n",
       "        vertical-align: top;\n",
       "    }\n",
       "\n",
       "    .dataframe thead th {\n",
       "        text-align: right;\n",
       "    }\n",
       "</style>\n",
       "<table border=\"1\" class=\"dataframe\">\n",
       "  <thead>\n",
       "    <tr style=\"text-align: right;\">\n",
       "      <th></th>\n",
       "      <th>criterion</th>\n",
       "      <th>max_depth</th>\n",
       "      <th>min_samples_split</th>\n",
       "      <th>test_score</th>\n",
       "    </tr>\n",
       "  </thead>\n",
       "  <tbody>\n",
       "    <tr>\n",
       "      <th>0</th>\n",
       "      <td>gini</td>\n",
       "      <td>1</td>\n",
       "      <td>2</td>\n",
       "      <td>0.880286</td>\n",
       "    </tr>\n",
       "    <tr>\n",
       "      <th>1</th>\n",
       "      <td>gini</td>\n",
       "      <td>1</td>\n",
       "      <td>3</td>\n",
       "      <td>0.880286</td>\n",
       "    </tr>\n",
       "    <tr>\n",
       "      <th>2</th>\n",
       "      <td>gini</td>\n",
       "      <td>2</td>\n",
       "      <td>2</td>\n",
       "      <td>0.885428</td>\n",
       "    </tr>\n",
       "    <tr>\n",
       "      <th>3</th>\n",
       "      <td>gini</td>\n",
       "      <td>2</td>\n",
       "      <td>3</td>\n",
       "      <td>0.885428</td>\n",
       "    </tr>\n",
       "    <tr>\n",
       "      <th>4</th>\n",
       "      <td>gini</td>\n",
       "      <td>3</td>\n",
       "      <td>2</td>\n",
       "      <td>0.886457</td>\n",
       "    </tr>\n",
       "  </tbody>\n",
       "</table>\n",
       "</div>"
      ],
      "text/plain": [
       "  criterion  max_depth  min_samples_split  test_score\n",
       "0      gini          1                  2    0.880286\n",
       "1      gini          1                  3    0.880286\n",
       "2      gini          2                  2    0.885428\n",
       "3      gini          2                  3    0.885428\n",
       "4      gini          3                  2    0.886457"
      ]
     },
     "execution_count": 51,
     "metadata": {},
     "output_type": "execute_result"
    }
   ],
   "source": [
    "results_DT = pd.DataFrame(grid_DT.cv_results_['params'])\n",
    "results_DT['test_score'] = grid_DT.cv_results_['mean_test_score']\n",
    "results_DT.head()"
   ]
  },
  {
   "cell_type": "code",
   "execution_count": 52,
   "metadata": {},
   "outputs": [
    {
     "data": {
      "text/html": [
       "\n",
       "<div id=\"altair-viz-20395f8756074756bfd9bf37bf7ede11\"></div>\n",
       "<script type=\"text/javascript\">\n",
       "  (function(spec, embedOpt){\n",
       "    let outputDiv = document.currentScript.previousElementSibling;\n",
       "    if (outputDiv.id !== \"altair-viz-20395f8756074756bfd9bf37bf7ede11\") {\n",
       "      outputDiv = document.getElementById(\"altair-viz-20395f8756074756bfd9bf37bf7ede11\");\n",
       "    }\n",
       "    const paths = {\n",
       "      \"vega\": \"https://cdn.jsdelivr.net/npm//vega@5?noext\",\n",
       "      \"vega-lib\": \"https://cdn.jsdelivr.net/npm//vega-lib?noext\",\n",
       "      \"vega-lite\": \"https://cdn.jsdelivr.net/npm//vega-lite@4.8.1?noext\",\n",
       "      \"vega-embed\": \"https://cdn.jsdelivr.net/npm//vega-embed@6?noext\",\n",
       "    };\n",
       "\n",
       "    function loadScript(lib) {\n",
       "      return new Promise(function(resolve, reject) {\n",
       "        var s = document.createElement('script');\n",
       "        s.src = paths[lib];\n",
       "        s.async = true;\n",
       "        s.onload = () => resolve(paths[lib]);\n",
       "        s.onerror = () => reject(`Error loading script: ${paths[lib]}`);\n",
       "        document.getElementsByTagName(\"head\")[0].appendChild(s);\n",
       "      });\n",
       "    }\n",
       "\n",
       "    function showError(err) {\n",
       "      outputDiv.innerHTML = `<div class=\"error\" style=\"color:red;\">${err}</div>`;\n",
       "      throw err;\n",
       "    }\n",
       "\n",
       "    function displayChart(vegaEmbed) {\n",
       "      vegaEmbed(outputDiv, spec, embedOpt)\n",
       "        .catch(err => showError(`Javascript Error: ${err.message}<br>This usually means there's a typo in your chart specification. See the javascript console for the full traceback.`));\n",
       "    }\n",
       "\n",
       "    if(typeof define === \"function\" && define.amd) {\n",
       "      requirejs.config({paths});\n",
       "      require([\"vega-embed\"], displayChart, err => showError(`Error loading script: ${err.message}`));\n",
       "    } else if (typeof vegaEmbed === \"function\") {\n",
       "      displayChart(vegaEmbed);\n",
       "    } else {\n",
       "      loadScript(\"vega\")\n",
       "        .then(() => loadScript(\"vega-lite\"))\n",
       "        .then(() => loadScript(\"vega-embed\"))\n",
       "        .catch(showError)\n",
       "        .then(() => displayChart(vegaEmbed));\n",
       "    }\n",
       "  })({\"config\": {\"view\": {\"continuousWidth\": 400, \"continuousHeight\": 300}}, \"data\": {\"name\": \"data-72203a57347510ba13eddff70505152d\"}, \"mark\": {\"type\": \"line\", \"point\": true}, \"encoding\": {\"color\": {\"type\": \"nominal\", \"field\": \"criterion\"}, \"x\": {\"type\": \"quantitative\", \"field\": \"max_depth\", \"title\": \"Maximum Depth\"}, \"y\": {\"type\": \"quantitative\", \"aggregate\": \"average\", \"field\": \"test_score\", \"scale\": {\"zero\": false}, \"title\": \"Mean CV Score\"}}, \"title\": \"DT Performance Comparison\", \"$schema\": \"https://vega.github.io/schema/vega-lite/v4.8.1.json\", \"datasets\": {\"data-72203a57347510ba13eddff70505152d\": [{\"criterion\": \"gini\", \"max_depth\": 1, \"min_samples_split\": 2, \"test_score\": 0.8802858580469288}, {\"criterion\": \"gini\", \"max_depth\": 1, \"min_samples_split\": 3, \"test_score\": 0.8802858580469288}, {\"criterion\": \"gini\", \"max_depth\": 2, \"min_samples_split\": 2, \"test_score\": 0.8854281281065003}, {\"criterion\": \"gini\", \"max_depth\": 2, \"min_samples_split\": 3, \"test_score\": 0.8854281281065003}, {\"criterion\": \"gini\", \"max_depth\": 3, \"min_samples_split\": 2, \"test_score\": 0.8864573366198237}, {\"criterion\": \"gini\", \"max_depth\": 3, \"min_samples_split\": 3, \"test_score\": 0.8864573366198237}, {\"criterion\": \"gini\", \"max_depth\": 4, \"min_samples_split\": 2, \"test_score\": 0.8843144546302135}, {\"criterion\": \"gini\", \"max_depth\": 4, \"min_samples_split\": 3, \"test_score\": 0.8843144546302135}, {\"criterion\": \"gini\", \"max_depth\": 5, \"min_samples_split\": 2, \"test_score\": 0.8821437197801363}, {\"criterion\": \"gini\", \"max_depth\": 5, \"min_samples_split\": 3, \"test_score\": 0.8821722830477741}, {\"criterion\": \"gini\", \"max_depth\": 6, \"min_samples_split\": 2, \"test_score\": 0.8807151399526624}, {\"criterion\": \"gini\", \"max_depth\": 6, \"min_samples_split\": 3, \"test_score\": 0.8804007480342544}, {\"criterion\": \"gini\", \"max_depth\": 7, \"min_samples_split\": 2, \"test_score\": 0.8795437765147228}, {\"criterion\": \"gini\", \"max_depth\": 7, \"min_samples_split\": 3, \"test_score\": 0.8791436947934013}, {\"criterion\": \"gini\", \"max_depth\": 8, \"min_samples_split\": 2, \"test_score\": 0.8763434167057391}, {\"criterion\": \"gini\", \"max_depth\": 8, \"min_samples_split\": 3, \"test_score\": 0.8766862494077898}, {\"criterion\": \"gini\", \"max_depth\": 9, \"min_samples_split\": 2, \"test_score\": 0.8734010571838577}, {\"criterion\": \"gini\", \"max_depth\": 9, \"min_samples_split\": 3, \"test_score\": 0.8744298982451962}, {\"criterion\": \"gini\", \"max_depth\": 10, \"min_samples_split\": 2, \"test_score\": 0.8694867381679235}, {\"criterion\": \"gini\", \"max_depth\": 10, \"min_samples_split\": 3, \"test_score\": 0.8713155466975131}, {\"criterion\": \"gini\", \"max_depth\": 11, \"min_samples_split\": 2, \"test_score\": 0.8666579703030204}, {\"criterion\": \"gini\", \"max_depth\": 11, \"min_samples_split\": 3, \"test_score\": 0.8684582400617712}, {\"criterion\": \"entropy\", \"max_depth\": 1, \"min_samples_split\": 2, \"test_score\": 0.8802858580469288}, {\"criterion\": \"entropy\", \"max_depth\": 1, \"min_samples_split\": 3, \"test_score\": 0.8802858580469288}, {\"criterion\": \"entropy\", \"max_depth\": 2, \"min_samples_split\": 2, \"test_score\": 0.8856851975152407}, {\"criterion\": \"entropy\", \"max_depth\": 2, \"min_samples_split\": 3, \"test_score\": 0.8856851975152407}, {\"criterion\": \"entropy\", \"max_depth\": 3, \"min_samples_split\": 2, \"test_score\": 0.8868003407994676}, {\"criterion\": \"entropy\", \"max_depth\": 3, \"min_samples_split\": 3, \"test_score\": 0.8868003407994676}, {\"criterion\": \"entropy\", \"max_depth\": 4, \"min_samples_split\": 2, \"test_score\": 0.8844857852424423}, {\"criterion\": \"entropy\", \"max_depth\": 4, \"min_samples_split\": 3, \"test_score\": 0.8844857852424423}, {\"criterion\": \"entropy\", \"max_depth\": 5, \"min_samples_split\": 2, \"test_score\": 0.884228936304893}, {\"criterion\": \"entropy\", \"max_depth\": 5, \"min_samples_split\": 3, \"test_score\": 0.884228936304893}, {\"criterion\": \"entropy\", \"max_depth\": 6, \"min_samples_split\": 2, \"test_score\": 0.8817435890652169}, {\"criterion\": \"entropy\", \"max_depth\": 6, \"min_samples_split\": 3, \"test_score\": 0.8816578012751074}, {\"criterion\": \"entropy\", \"max_depth\": 7, \"min_samples_split\": 2, \"test_score\": 0.8811147317380038}, {\"criterion\": \"entropy\", \"max_depth\": 7, \"min_samples_split\": 3, \"test_score\": 0.8812575970697909}, {\"criterion\": \"entropy\", \"max_depth\": 8, \"min_samples_split\": 2, \"test_score\": 0.8779718904130799}, {\"criterion\": \"entropy\", \"max_depth\": 8, \"min_samples_split\": 3, \"test_score\": 0.877914714884206}, {\"criterion\": \"entropy\", \"max_depth\": 9, \"min_samples_split\": 2, \"test_score\": 0.8750292124328115}, {\"criterion\": \"entropy\", \"max_depth\": 9, \"min_samples_split\": 3, \"test_score\": 0.8751436369809558}, {\"criterion\": \"entropy\", \"max_depth\": 10, \"min_samples_split\": 2, \"test_score\": 0.8720573342681311}, {\"criterion\": \"entropy\", \"max_depth\": 10, \"min_samples_split\": 3, \"test_score\": 0.8726291140536665}, {\"criterion\": \"entropy\", \"max_depth\": 11, \"min_samples_split\": 2, \"test_score\": 0.8689150808663831}, {\"criterion\": \"entropy\", \"max_depth\": 11, \"min_samples_split\": 3, \"test_score\": 0.871143432187716}]}}, {\"mode\": \"vega-lite\"});\n",
       "</script>"
      ],
      "text/plain": [
       "alt.Chart(...)"
      ]
     },
     "execution_count": 52,
     "metadata": {},
     "output_type": "execute_result"
    }
   ],
   "source": [
    "alt.Chart(results_DT, \n",
    "          title='DT Performance Comparison'\n",
    "         ).mark_line(point=True).encode(\n",
    "    alt.X('max_depth', title='Maximum Depth'),\n",
    "    alt.Y('test_score', title='Mean CV Score', aggregate='average', scale=alt.Scale(zero=False)),\n",
    "    color='criterion'\n",
    ")"
   ]
  },
  {
   "cell_type": "markdown",
   "metadata": {},
   "source": [
    "<a id=\"LR\"></a>\n",
    "## Logistic Regression"
   ]
  },
  {
   "cell_type": "markdown",
   "metadata": {},
   "source": [
    "In Logistic Regression we are using 5000 samples. The Bank_sample and Bank_target_sample are the dataset that will be used for training and testing the data."
   ]
  },
  {
   "cell_type": "code",
   "execution_count": 53,
   "metadata": {},
   "outputs": [
    {
     "name": "stdout",
     "output_type": "stream",
     "text": [
      "(5000, 25)\n",
      "(5000, 1)\n"
     ]
    },
    {
     "data": {
      "text/plain": [
       "{0: 4431, 1: 569}"
      ]
     },
     "execution_count": 53,
     "metadata": {},
     "output_type": "execute_result"
    }
   ],
   "source": [
    "n_samples = 5000\n",
    "\n",
    "Bank_model = Bank_clean.drop(['target'], axis=1)\n",
    "Bank_model= Bank_model.iloc[:,0:25].values\n",
    "Bank_model_target= Bank_clean.iloc[:,[-1]].values\n",
    "\n",
    "Bank_sample = pd.DataFrame(Bank_model).sample(n=n_samples, random_state=8)\n",
    "Bank_target_sample = pd.DataFrame(Bank_model_target).sample(n=n_samples, random_state=8)\n",
    "\n",
    "print(Bank_sample.shape)\n",
    "print(Bank_target_sample.shape)\n",
    "\n",
    "unique, counts = np.unique(Bank_target_sample, return_counts=True)\n",
    "dict(zip(unique, counts))"
   ]
  },
  {
   "cell_type": "markdown",
   "metadata": {},
   "source": [
    "The Bank_model_target dataset"
   ]
  },
  {
   "cell_type": "code",
   "execution_count": 54,
   "metadata": {},
   "outputs": [
    {
     "data": {
      "text/plain": [
       "array([0, 0, 0, ..., 0, 1, 0], dtype=int64)"
      ]
     },
     "execution_count": 54,
     "metadata": {},
     "output_type": "execute_result"
    }
   ],
   "source": [
    "Bank_model_target.flatten()"
   ]
  },
  {
   "cell_type": "markdown",
   "metadata": {},
   "source": [
    "The Bank_model dataset"
   ]
  },
  {
   "cell_type": "code",
   "execution_count": 55,
   "metadata": {},
   "outputs": [
    {
     "data": {
      "text/plain": [
       "array([[0.48148148, 0.16666667, 0.        , ..., 0.        , 1.        ,\n",
       "        0.        ],\n",
       "       [0.49382716, 0.66666667, 0.        , ..., 0.        , 1.        ,\n",
       "        0.        ],\n",
       "       [0.24691358, 0.66666667, 0.        , ..., 0.        , 1.        ,\n",
       "        0.        ],\n",
       "       ...,\n",
       "       [0.48148148, 1.        , 0.        , ..., 0.        , 1.        ,\n",
       "        0.        ],\n",
       "       [0.33333333, 0.83333333, 0.        , ..., 0.        , 1.        ,\n",
       "        0.        ],\n",
       "       [0.7037037 , 0.83333333, 0.        , ..., 1.        , 0.        ,\n",
       "        0.        ]])"
      ]
     },
     "execution_count": 55,
     "metadata": {},
     "output_type": "execute_result"
    }
   ],
   "source": [
    "Bank_model"
   ]
  },
  {
   "cell_type": "markdown",
   "metadata": {},
   "source": [
    "In logistic regression we have divided the descriptive features and the target feature into a training set and a test set by a ratio of 70:30. 70 % of the data to build a classifier and evaluate its performance on the test set was used. We have used 101 random samples for this fitting."
   ]
  },
  {
   "cell_type": "code",
   "execution_count": 56,
   "metadata": {},
   "outputs": [],
   "source": [
    "from sklearn.model_selection import train_test_split\n",
    "\n",
    "X_train, X_test, Y_train, Y_test = train_test_split(Bank_sample, Bank_target_sample, test_size = 0.30, random_state=101);"
   ]
  },
  {
   "cell_type": "code",
   "execution_count": 57,
   "metadata": {},
   "outputs": [],
   "source": [
    "from sklearn.linear_model import LogisticRegression\n",
    "from sklearn.model_selection import train_test_split\n",
    "from sklearn.metrics import classification_report\n",
    "from sklearn.metrics import confusion_matrix\n",
    "from sklearn.metrics import f1_score\n",
    "from sklearn.model_selection import cross_val_score\n",
    "from sklearn.metrics import roc_auc_score\n",
    "import statsmodels.api as sm\n",
    "from sklearn.metrics import accuracy_score\n",
    "from sklearn.model_selection import GridSearchCV"
   ]
  },
  {
   "cell_type": "code",
   "execution_count": 58,
   "metadata": {},
   "outputs": [],
   "source": [
    "import warnings\n",
    "warnings.filterwarnings(\"ignore\")\n",
    "\n",
    "lr = LogisticRegression(random_state=101)\n",
    "lr.fit(X_train,Y_train)\n",
    "Y_pred = lr.predict(X_test)"
   ]
  },
  {
   "cell_type": "markdown",
   "metadata": {},
   "source": [
    "The metrics \n",
    "1. Accuracy\n",
    "2. Precision\n",
    "3. Recall\n",
    "4. F1 Score (the harmonic average of precision and recall)\n",
    "5. Confusion Matrix\n",
    "were considered to evaluate models which were based on the test set:"
   ]
  },
  {
   "cell_type": "code",
   "execution_count": 59,
   "metadata": {},
   "outputs": [
    {
     "name": "stdout",
     "output_type": "stream",
     "text": [
      "\n",
      "Classification report for Logistic Regression\n",
      "Report:\n",
      "               precision    recall  f1-score   support\n",
      "\n",
      "           0       0.90      0.99      0.94      1319\n",
      "           1       0.73      0.18      0.29       181\n",
      "\n",
      "    accuracy                           0.89      1500\n",
      "   macro avg       0.82      0.59      0.62      1500\n",
      "weighted avg       0.88      0.89      0.86      1500\n",
      "\n",
      "F1 Score: 0.2920353982300885\n",
      "confusion Matrix:\n",
      " [[1307  148]\n",
      " [  12   33]]\n",
      "cross validation: [0.8873513  0.8873513  0.88820102 0.88940148 0.66771883]\n"
     ]
    }
   ],
   "source": [
    "print(\"\\nClassification report for Logistic Regression\") \n",
    "print('Report:\\n',classification_report(Y_test, Y_pred))\n",
    "print(\"F1 Score:\",f1_score(Y_pred,Y_test))\n",
    "print('confusion Matrix:\\n',confusion_matrix(Y_pred,Y_test))\n",
    "print('cross validation:',cross_val_score(lr, X, y, cv=5))"
   ]
  },
  {
   "cell_type": "markdown",
   "metadata": {},
   "source": [
    "The confusion matrix for Logistic Regression without RFE was shown in the report with F1 score of 0.29 "
   ]
  },
  {
   "cell_type": "markdown",
   "metadata": {},
   "source": [
    "The 10 most important features were used to train and fit the model. Assuming to obtain a better precision and accuracy. Fitting was done using the 10 best features with the 101 random samples."
   ]
  },
  {
   "cell_type": "code",
   "execution_count": 60,
   "metadata": {},
   "outputs": [
    {
     "data": {
      "text/plain": [
       "RFE(estimator=LogisticRegression(C=1.0, class_weight=None, dual=False,\n",
       "                                 fit_intercept=True, intercept_scaling=1,\n",
       "                                 l1_ratio=None, max_iter=100,\n",
       "                                 multi_class='auto', n_jobs=None, penalty='l2',\n",
       "                                 random_state=101, solver='lbfgs', tol=0.0001,\n",
       "                                 verbose=0, warm_start=False),\n",
       "    n_features_to_select=10, step=1, verbose=0)"
      ]
     },
     "execution_count": 60,
     "metadata": {},
     "output_type": "execute_result"
    }
   ],
   "source": [
    "import warnings\n",
    "warnings.filterwarnings(\"ignore\")\n",
    "\n",
    "from sklearn.feature_selection import RFE\n",
    "rfe = RFE(lr, 10)\n",
    "rfe.fit(X_train,Y_train)"
   ]
  },
  {
   "cell_type": "code",
   "execution_count": 61,
   "metadata": {},
   "outputs": [],
   "source": [
    "#print(X_train.columns[rfe.support_])\n",
    "import warnings\n",
    "warnings.filterwarnings(\"ignore\")\n",
    "\n",
    "cols = X_train.columns[rfe.support_]\n",
    "lr.fit(X_train[cols],Y_train)\n",
    "Y_pred2 = lr.predict(X_test[cols])"
   ]
  },
  {
   "cell_type": "code",
   "execution_count": 62,
   "metadata": {},
   "outputs": [],
   "source": [
    "def logReggResult():\n",
    "    print(\"F1 Score:\",f1_score(Y_pred2,Y_test))\n",
    "    print('AUC score:',roc_auc_score(Y_test,Y_pred2))\n",
    "    print('confusion Matrix:\\n',confusion_matrix(Y_pred2,Y_test))\n",
    "    print('kfold cross validation:\\n',cross_val_score(lr, X, y, cv=5))\n",
    "    print(\"Acurracy :\",accuracy_score(Y_pred2,Y_test))\n"
   ]
  },
  {
   "cell_type": "code",
   "execution_count": 63,
   "metadata": {},
   "outputs": [
    {
     "name": "stdout",
     "output_type": "stream",
     "text": [
      "F1 Score: 0.2857142857142857\n",
      "AUC score: 0.5842279644297748\n",
      "confusion Matrix:\n",
      " [[1308  149]\n",
      " [  11   32]]\n",
      "kfold cross validation:\n",
      " [0.8873513  0.8873513  0.88820102 0.88940148 0.66771883]\n",
      "Acurracy : 0.8933333333333333\n"
     ]
    }
   ],
   "source": [
    "logReggResult()"
   ]
  },
  {
   "cell_type": "markdown",
   "metadata": {},
   "source": [
    "By using Logistic Regression using RFE we have found the accuracy of the model to be 0.89. The confusion matrix have not changed much when compared to the model without using RFE."
   ]
  },
  {
   "cell_type": "markdown",
   "metadata": {},
   "source": [
    "Tuning of any critical parameters is not necessary when it comes to logistic regression.\n",
    "\n",
    "Convergence with different solvers are used with values ‘newton-cg’, ‘lbfgs’, ‘liblinear’. Penalty used for tuning Logistic Regression is l2.\n",
    "\n",
    "The C parameter used are 100, 10, 1.0, 0.1, 0.01 which is effective and helps to controls the penality strength."
   ]
  },
  {
   "cell_type": "code",
   "execution_count": 64,
   "metadata": {},
   "outputs": [
    {
     "name": "stdout",
     "output_type": "stream",
     "text": [
      "Best: 0.898951 using {'C': 0.01, 'penalty': 'l2', 'solver': 'liblinear'}\n",
      "0.898360 (0.002355) with: {'C': 100, 'penalty': 'l2', 'solver': 'newton-cg'}\n",
      "0.898352 (0.002353) with: {'C': 100, 'penalty': 'l2', 'solver': 'lbfgs'}\n",
      "0.898360 (0.002355) with: {'C': 100, 'penalty': 'l2', 'solver': 'liblinear'}\n",
      "0.898352 (0.002363) with: {'C': 10, 'penalty': 'l2', 'solver': 'newton-cg'}\n",
      "0.898352 (0.002363) with: {'C': 10, 'penalty': 'l2', 'solver': 'lbfgs'}\n",
      "0.898352 (0.002363) with: {'C': 10, 'penalty': 'l2', 'solver': 'liblinear'}\n",
      "0.898377 (0.002350) with: {'C': 1.0, 'penalty': 'l2', 'solver': 'newton-cg'}\n",
      "0.898377 (0.002350) with: {'C': 1.0, 'penalty': 'l2', 'solver': 'lbfgs'}\n",
      "0.898377 (0.002350) with: {'C': 1.0, 'penalty': 'l2', 'solver': 'liblinear'}\n",
      "0.898538 (0.002314) with: {'C': 0.1, 'penalty': 'l2', 'solver': 'newton-cg'}\n",
      "0.898538 (0.002314) with: {'C': 0.1, 'penalty': 'l2', 'solver': 'lbfgs'}\n",
      "0.898538 (0.002314) with: {'C': 0.1, 'penalty': 'l2', 'solver': 'liblinear'}\n",
      "0.898943 (0.002031) with: {'C': 0.01, 'penalty': 'l2', 'solver': 'newton-cg'}\n",
      "0.898943 (0.002031) with: {'C': 0.01, 'penalty': 'l2', 'solver': 'lbfgs'}\n",
      "0.898951 (0.002091) with: {'C': 0.01, 'penalty': 'l2', 'solver': 'liblinear'}\n"
     ]
    }
   ],
   "source": [
    "from sklearn.model_selection import RepeatedStratifiedKFold\n",
    "\n",
    "\n",
    "# define models and parameters\n",
    "model = LogisticRegression()\n",
    "solvers = ['newton-cg', 'lbfgs', 'liblinear']\n",
    "penalty = ['l2']\n",
    "c_values = [100, 10, 1.0, 0.1, 0.01]\n",
    "# define grid search\n",
    "grid = dict(solver=solvers,penalty=penalty,C=c_values)\n",
    "cv = RepeatedStratifiedKFold(n_splits=10, n_repeats=3, random_state=100)\n",
    "grid_search_LR = GridSearchCV(estimator=model, param_grid=grid, n_jobs=-1, cv=cv, scoring='accuracy',error_score=0)\n",
    "grid_result_LR = grid_search_LR.fit(X, y)\n",
    "# summarize results\n",
    "print(\"Best: %f using %s\" % (grid_result_LR.best_score_, grid_result_LR.best_params_))\n",
    "means = grid_result_LR.cv_results_['mean_test_score']\n",
    "stds = grid_result_LR.cv_results_['std_test_score']\n",
    "params = grid_result_LR.cv_results_['params']\n",
    "for mean, stdev, param in zip(means, stds, params):\n",
    "    print(\"%f (%f) with: %r\" % (mean, stdev, param))"
   ]
  },
  {
   "cell_type": "markdown",
   "metadata": {},
   "source": [
    "The result was made into a dataframe to be accesssed easily and thus taking the column values for plotting a graph."
   ]
  },
  {
   "cell_type": "code",
   "execution_count": 65,
   "metadata": {},
   "outputs": [],
   "source": [
    "results_LR = pd.DataFrame(grid_result_LR.cv_results_['params'])"
   ]
  },
  {
   "cell_type": "code",
   "execution_count": 66,
   "metadata": {},
   "outputs": [],
   "source": [
    "results_LR['test_score'] = grid_result_LR.cv_results_['mean_test_score']"
   ]
  },
  {
   "cell_type": "code",
   "execution_count": 67,
   "metadata": {},
   "outputs": [
    {
     "data": {
      "text/plain": [
       "Index(['C', 'penalty', 'solver', 'test_score'], dtype='object')"
      ]
     },
     "execution_count": 67,
     "metadata": {},
     "output_type": "execute_result"
    }
   ],
   "source": [
    "results_LR.columns"
   ]
  },
  {
   "cell_type": "code",
   "execution_count": 68,
   "metadata": {},
   "outputs": [
    {
     "data": {
      "text/html": [
       "\n",
       "<div id=\"altair-viz-9d25b2e94a1b49179bfab1a7445db6b3\"></div>\n",
       "<script type=\"text/javascript\">\n",
       "  (function(spec, embedOpt){\n",
       "    let outputDiv = document.currentScript.previousElementSibling;\n",
       "    if (outputDiv.id !== \"altair-viz-9d25b2e94a1b49179bfab1a7445db6b3\") {\n",
       "      outputDiv = document.getElementById(\"altair-viz-9d25b2e94a1b49179bfab1a7445db6b3\");\n",
       "    }\n",
       "    const paths = {\n",
       "      \"vega\": \"https://cdn.jsdelivr.net/npm//vega@5?noext\",\n",
       "      \"vega-lib\": \"https://cdn.jsdelivr.net/npm//vega-lib?noext\",\n",
       "      \"vega-lite\": \"https://cdn.jsdelivr.net/npm//vega-lite@4.8.1?noext\",\n",
       "      \"vega-embed\": \"https://cdn.jsdelivr.net/npm//vega-embed@6?noext\",\n",
       "    };\n",
       "\n",
       "    function loadScript(lib) {\n",
       "      return new Promise(function(resolve, reject) {\n",
       "        var s = document.createElement('script');\n",
       "        s.src = paths[lib];\n",
       "        s.async = true;\n",
       "        s.onload = () => resolve(paths[lib]);\n",
       "        s.onerror = () => reject(`Error loading script: ${paths[lib]}`);\n",
       "        document.getElementsByTagName(\"head\")[0].appendChild(s);\n",
       "      });\n",
       "    }\n",
       "\n",
       "    function showError(err) {\n",
       "      outputDiv.innerHTML = `<div class=\"error\" style=\"color:red;\">${err}</div>`;\n",
       "      throw err;\n",
       "    }\n",
       "\n",
       "    function displayChart(vegaEmbed) {\n",
       "      vegaEmbed(outputDiv, spec, embedOpt)\n",
       "        .catch(err => showError(`Javascript Error: ${err.message}<br>This usually means there's a typo in your chart specification. See the javascript console for the full traceback.`));\n",
       "    }\n",
       "\n",
       "    if(typeof define === \"function\" && define.amd) {\n",
       "      requirejs.config({paths});\n",
       "      require([\"vega-embed\"], displayChart, err => showError(`Error loading script: ${err.message}`));\n",
       "    } else if (typeof vegaEmbed === \"function\") {\n",
       "      displayChart(vegaEmbed);\n",
       "    } else {\n",
       "      loadScript(\"vega\")\n",
       "        .then(() => loadScript(\"vega-lite\"))\n",
       "        .then(() => loadScript(\"vega-embed\"))\n",
       "        .catch(showError)\n",
       "        .then(() => displayChart(vegaEmbed));\n",
       "    }\n",
       "  })({\"config\": {\"view\": {\"continuousWidth\": 400, \"continuousHeight\": 300}}, \"data\": {\"name\": \"data-7b4034351848b191c0c5a1f00e5fb246\"}, \"mark\": {\"type\": \"line\", \"point\": true}, \"encoding\": {\"color\": {\"type\": \"nominal\", \"field\": \"solver\"}, \"x\": {\"type\": \"quantitative\", \"field\": \"C\", \"title\": \"C values\"}, \"y\": {\"type\": \"quantitative\", \"field\": \"test_score\", \"scale\": {\"zero\": false}, \"title\": \"Mean Score\"}}, \"title\": \"LR Performance Comparison\", \"$schema\": \"https://vega.github.io/schema/vega-lite/v4.8.1.json\", \"datasets\": {\"data-7b4034351848b191c0c5a1f00e5fb246\": [{\"C\": 100.0, \"penalty\": \"l2\", \"solver\": \"newton-cg\", \"test_score\": 0.8983603605430682}, {\"C\": 100.0, \"penalty\": \"l2\", \"solver\": \"lbfgs\", \"test_score\": 0.8983522659987913}, {\"C\": 100.0, \"penalty\": \"l2\", \"solver\": \"liblinear\", \"test_score\": 0.8983603605430682}, {\"C\": 10.0, \"penalty\": \"l2\", \"solver\": \"newton-cg\", \"test_score\": 0.8983522679639633}, {\"C\": 10.0, \"penalty\": \"l2\", \"solver\": \"lbfgs\", \"test_score\": 0.8983522679639633}, {\"C\": 10.0, \"penalty\": \"l2\", \"solver\": \"liblinear\", \"test_score\": 0.8983522679639633}, {\"C\": 1.0, \"penalty\": \"l2\", \"solver\": \"newton-cg\", \"test_score\": 0.8983765476664504}, {\"C\": 1.0, \"penalty\": \"l2\", \"solver\": \"lbfgs\", \"test_score\": 0.8983765476664504}, {\"C\": 1.0, \"penalty\": \"l2\", \"solver\": \"liblinear\", \"test_score\": 0.8983765476664504}, {\"C\": 0.1, \"penalty\": \"l2\", \"solver\": \"newton-cg\", \"test_score\": 0.8985384090744107}, {\"C\": 0.1, \"penalty\": \"l2\", \"solver\": \"lbfgs\", \"test_score\": 0.8985384090744107}, {\"C\": 0.1, \"penalty\": \"l2\", \"solver\": \"liblinear\", \"test_score\": 0.8985384090744107}, {\"C\": 0.01, \"penalty\": \"l2\", \"solver\": \"newton-cg\", \"test_score\": 0.8989430596465527}, {\"C\": 0.01, \"penalty\": \"l2\", \"solver\": \"lbfgs\", \"test_score\": 0.8989430596465527}, {\"C\": 0.01, \"penalty\": \"l2\", \"solver\": \"liblinear\", \"test_score\": 0.8989511541908298}]}}, {\"mode\": \"vega-lite\"});\n",
       "</script>"
      ],
      "text/plain": [
       "alt.Chart(...)"
      ]
     },
     "execution_count": 68,
     "metadata": {},
     "output_type": "execute_result"
    }
   ],
   "source": [
    "import altair as alt\n",
    "\n",
    "alt.Chart(results_LR, \n",
    "          title='LR Performance Comparison'\n",
    "         ).mark_line(point=True).encode(\n",
    "    alt.X('C', title='C values'),\n",
    "    alt.Y('test_score', title='Mean Score', scale=alt.Scale(zero=False)),\n",
    "    color='solver'\n",
    ")"
   ]
  },
  {
   "cell_type": "markdown",
   "metadata": {},
   "source": [
    "<a id=\"RF\"></a>\n",
    "## Random Forest Classifier"
   ]
  },
  {
   "cell_type": "markdown",
   "metadata": {},
   "source": [
    "Random Forest algorithm was also implemented using 5000 samples. The Bank_sample and Bank_target_sample are the dataset that will be used for training and testing the data."
   ]
  },
  {
   "cell_type": "code",
   "execution_count": 69,
   "metadata": {},
   "outputs": [],
   "source": [
    "from sklearn.ensemble import RandomForestClassifier\n",
    "import warnings\n",
    "warnings.filterwarnings(\"ignore\")\n",
    "rfc_value = RandomForestClassifier(n_estimators=50,max_depth=5, random_state=100,max_leaf_nodes=50)\n",
    "rfc_value.fit(X_train,Y_train)\n",
    "Y_pred1 = rfc_value.predict(X_test)"
   ]
  },
  {
   "cell_type": "markdown",
   "metadata": {},
   "source": [
    "The X_train columns were taken as the feature names and target was considered to be the class name . Using precision as 2 we have constructed a tree image for random forest model."
   ]
  },
  {
   "cell_type": "code",
   "execution_count": 70,
   "metadata": {},
   "outputs": [],
   "source": [
    "from sklearn.tree import export_graphviz\n",
    "estimator = rfc_value.estimators_[5]\n",
    "# Export as dot file\n",
    "export_graphviz(estimator, \n",
    "                out_file='tree1.dot', \n",
    "                feature_names = X_train.columns,\n",
    "                class_names = 'target',\n",
    "                rounded = True, proportion = False, \n",
    "                precision = 2, filled = True)"
   ]
  },
  {
   "cell_type": "code",
   "execution_count": 71,
   "metadata": {},
   "outputs": [],
   "source": [
    "def RF():\n",
    "    print('Report:\\n',classification_report(Y_test, Y_pred1))\n",
    "    print(\"F1 Score:\",f1_score(Y_pred1,Y_test))\n",
    "    print('confusion Matrix:\\n',confusion_matrix(Y_pred1,Y_test))\n",
    "    print('cross validation:',cross_val_score(rfc_value, X, y, cv=5))\n",
    "    print('AUC score:',roc_auc_score(Y_test,Y_pred))\n",
    "    print(\"Acurracy :::>\",accuracy_score(Y_pred,Y_test))\n",
    "    \n"
   ]
  },
  {
   "cell_type": "code",
   "execution_count": 72,
   "metadata": {},
   "outputs": [
    {
     "name": "stdout",
     "output_type": "stream",
     "text": [
      "Report:\n",
      "               precision    recall  f1-score   support\n",
      "\n",
      "           0       0.90      0.99      0.94      1319\n",
      "           1       0.79      0.17      0.28       181\n",
      "\n",
      "    accuracy                           0.89      1500\n",
      "   macro avg       0.85      0.58      0.61      1500\n",
      "weighted avg       0.88      0.89      0.86      1500\n",
      "\n",
      "F1 Score: 0.2818181818181818\n",
      "confusion Matrix:\n",
      " [[1311  150]\n",
      " [   8   31]]\n",
      "cross validation: [0.8873513  0.8873513  0.8873513  0.47796528 0.65873498]\n",
      "AUC score: 0.5866113203121401\n",
      "Acurracy :::> 0.8933333333333333\n"
     ]
    }
   ],
   "source": [
    "RF()"
   ]
  },
  {
   "cell_type": "markdown",
   "metadata": {},
   "source": [
    "The random forest model gives us an accuracy of 0.89 with F1-score of 0.30. We have also obtained a confusion matrix. Compared to that of Logistic Regression confusion matrix, random forest tends to give better metrics values."
   ]
  },
  {
   "cell_type": "markdown",
   "metadata": {},
   "source": [
    "Max feature is the most important parameter where we have given the values sqrt,log2 values. Integer values such as 1 to 20 or 1 to 1/2 input features. The other parameter for random forest is n_estimators with values such as 10,100,1000. Even if the values are increased no further improvement will be seen in the model."
   ]
  },
  {
   "cell_type": "code",
   "execution_count": 73,
   "metadata": {},
   "outputs": [
    {
     "name": "stdout",
     "output_type": "stream",
     "text": [
      "Best: 0.879399 using {'max_features': 'sqrt', 'n_estimators': 1000}\n",
      "0.875889 (0.001672) with: {'max_features': 'sqrt', 'n_estimators': 10}\n",
      "0.878251 (0.001561) with: {'max_features': 'sqrt', 'n_estimators': 100}\n",
      "0.879399 (0.001781) with: {'max_features': 'sqrt', 'n_estimators': 1000}\n",
      "0.876163 (0.002298) with: {'max_features': 'log2', 'n_estimators': 10}\n",
      "0.877926 (0.001662) with: {'max_features': 'log2', 'n_estimators': 100}\n",
      "0.878894 (0.001596) with: {'max_features': 'log2', 'n_estimators': 1000}\n"
     ]
    }
   ],
   "source": [
    "model = RandomForestClassifier()\n",
    "n_estimators = [10, 100, 1000]\n",
    "max_features = ['sqrt', 'log2']\n",
    "# define grid search\n",
    "grid = dict(n_estimators=n_estimators,max_features=max_features)\n",
    "cv = RepeatedStratifiedKFold(n_splits=3, random_state=8)\n",
    "grid_search_RF = GridSearchCV(estimator=model, param_grid=grid, n_jobs=-1, cv=cv, scoring='accuracy',error_score=0)\n",
    "grid_result_RF = grid_search_RF.fit(X, y)\n",
    "# summarize results\n",
    "print(\"Best: %f using %s\" % (grid_result_RF.best_score_, grid_result_RF.best_params_))\n",
    "means = grid_result_RF.cv_results_['mean_test_score']\n",
    "stds = grid_result_RF.cv_results_['std_test_score']\n",
    "params = grid_result_RF.cv_results_['params']\n",
    "for mean, stdev, param in zip(means, stds, params):\n",
    "    print(\"%f (%f) with: %r\" % (mean, stdev, param))"
   ]
  },
  {
   "cell_type": "markdown",
   "metadata": {},
   "source": [
    "It was made into a dataframe to be accesssed easily and thus taking the column values for plotting a graph."
   ]
  },
  {
   "cell_type": "code",
   "execution_count": 74,
   "metadata": {},
   "outputs": [],
   "source": [
    "results_RF = pd.DataFrame(grid_result_RF.cv_results_['params'])"
   ]
  },
  {
   "cell_type": "code",
   "execution_count": 75,
   "metadata": {},
   "outputs": [],
   "source": [
    "results_RF['test_score'] = grid_result_RF.cv_results_['mean_test_score']"
   ]
  },
  {
   "cell_type": "code",
   "execution_count": 76,
   "metadata": {},
   "outputs": [
    {
     "data": {
      "text/plain": [
       "Index(['max_features', 'n_estimators', 'test_score'], dtype='object')"
      ]
     },
     "execution_count": 76,
     "metadata": {},
     "output_type": "execute_result"
    }
   ],
   "source": [
    "results_RF.columns"
   ]
  },
  {
   "cell_type": "markdown",
   "metadata": {},
   "source": [
    "<a id=\"SVM\"></a>\n",
    "## Support Vector Machine"
   ]
  },
  {
   "cell_type": "markdown",
   "metadata": {},
   "source": [
    "The Support Vector Algorithm is tuned with parameters \"kernal\" and \"C\". We define 2- fold cross validation. The below snippet depicts splitting the \"Bank_model\" dataframe as a 70 : 30 split, with 70% training data and 30% test data. Our dataset now consists of 750 training observations and 250 test observations.\n",
    "\n",
    "This number of samples for the SVM algorithm is taken as 1000 in order to reduce the run-time of the cross-validation."
   ]
  },
  {
   "cell_type": "code",
   "execution_count": 78,
   "metadata": {},
   "outputs": [],
   "source": [
    "from sklearn.model_selection import train_test_split\n",
    "from sklearn import svm\n",
    "from sklearn import metrics\n",
    "from sklearn.model_selection import StratifiedKFold, GridSearchCV, RepeatedStratifiedKFold\n",
    "from sklearn.metrics import classification_report"
   ]
  },
  {
   "cell_type": "code",
   "execution_count": 79,
   "metadata": {},
   "outputs": [],
   "source": [
    "tuned_parameters = [{'kernel': ['rbf'], 'C': [1, 10, 100, 1000]},\n",
    "                    {'kernel': ['linear'], 'C': [1, 10, 100, 1000]}]"
   ]
  },
  {
   "cell_type": "code",
   "execution_count": 80,
   "metadata": {},
   "outputs": [],
   "source": [
    "n_samples1 = 1000\n",
    "\n",
    "Bank_sample1 = pd.DataFrame(Bank_model).sample(n=n_samples1, random_state=8).values\n",
    "Bank_target_sample1 = pd.DataFrame(Bank_model_target).sample(n=n_samples1, random_state=8).values\n",
    "\n",
    "from sklearn.model_selection import train_test_split\n",
    "\n",
    "X_train, X_test, Y_train, Y_test = train_test_split(Bank_sample1,Bank_target_sample1, test_size = 0.30, random_state = 8);\n"
   ]
  },
  {
   "cell_type": "code",
   "execution_count": 81,
   "metadata": {},
   "outputs": [
    {
     "name": "stdout",
     "output_type": "stream",
     "text": [
      "Classification report:\n",
      "\n",
      "              precision    recall  f1-score   support\n",
      "\n",
      "           0       0.89      0.97      0.93       261\n",
      "           1       0.47      0.21      0.29        39\n",
      "\n",
      "    accuracy                           0.87       300\n",
      "   macro avg       0.68      0.59      0.61       300\n",
      "weighted avg       0.84      0.87      0.84       300\n",
      "\n",
      "\n"
     ]
    }
   ],
   "source": [
    "cv = RepeatedStratifiedKFold(n_splits=3, random_state=8)\n",
    "clf = GridSearchCV(svm.SVC(), tuned_parameters, scoring='roc_auc')\n",
    "clf.fit(X_train, Y_train)\n",
    "print(\"Classification report:\")\n",
    "print()\n",
    "y_true, y_pred = Y_test, clf.predict(X_test)\n",
    "print(classification_report(y_true, y_pred))\n",
    "print()"
   ]
  },
  {
   "cell_type": "code",
   "execution_count": 82,
   "metadata": {},
   "outputs": [
    {
     "data": {
      "text/plain": [
       "{'C': 1000, 'kernel': 'linear'}"
      ]
     },
     "execution_count": 82,
     "metadata": {},
     "output_type": "execute_result"
    }
   ],
   "source": [
    "clf.best_params_"
   ]
  },
  {
   "cell_type": "code",
   "execution_count": 83,
   "metadata": {},
   "outputs": [],
   "source": [
    "def get_search_results(gs):\n",
    "\n",
    "    def model_result(scores, params):\n",
    "        scores = {'mean_score': np.mean(scores),\n",
    "             'std_score': np.std(scores),\n",
    "             'min_score': np.min(scores),\n",
    "             'max_score': np.max(scores)}\n",
    "        return pd.Series({**params,**scores})\n",
    "\n",
    "    models = []\n",
    "    scores = []\n",
    "\n",
    "    for i in range(gs.n_splits_):\n",
    "        key = f\"split{i}_test_score\"\n",
    "        r = gs.cv_results_[key]        \n",
    "        scores.append(r.reshape(-1,1))\n",
    "\n",
    "    all_scores = np.hstack(scores)\n",
    "    for p, s in zip(gs.cv_results_['params'], all_scores):\n",
    "        models.append((model_result(s, p)))\n",
    "\n",
    "    pipe_results = pd.concat(models, axis=1).T.sort_values(['mean_score'], ascending=False)\n",
    "\n",
    "    columns_first = ['mean_score', 'std_score', 'max_score', 'min_score']\n",
    "    columns = columns_first + [c for c in pipe_results.columns if c not in columns_first]\n",
    "\n",
    "    return pipe_results[columns]"
   ]
  },
  {
   "cell_type": "code",
   "execution_count": 86,
   "metadata": {},
   "outputs": [
    {
     "data": {
      "text/html": [
       "<div>\n",
       "<style scoped>\n",
       "    .dataframe tbody tr th:only-of-type {\n",
       "        vertical-align: middle;\n",
       "    }\n",
       "\n",
       "    .dataframe tbody tr th {\n",
       "        vertical-align: top;\n",
       "    }\n",
       "\n",
       "    .dataframe thead th {\n",
       "        text-align: right;\n",
       "    }\n",
       "</style>\n",
       "<table border=\"1\" class=\"dataframe\">\n",
       "  <thead>\n",
       "    <tr style=\"text-align: right;\">\n",
       "      <th></th>\n",
       "      <th>mean_score</th>\n",
       "      <th>std_score</th>\n",
       "      <th>max_score</th>\n",
       "      <th>min_score</th>\n",
       "      <th>C</th>\n",
       "      <th>kernel</th>\n",
       "    </tr>\n",
       "  </thead>\n",
       "  <tbody>\n",
       "    <tr>\n",
       "      <th>7</th>\n",
       "      <td>0.864673</td>\n",
       "      <td>0.0667609</td>\n",
       "      <td>0.956916</td>\n",
       "      <td>0.769841</td>\n",
       "      <td>1000</td>\n",
       "      <td>linear</td>\n",
       "    </tr>\n",
       "    <tr>\n",
       "      <th>0</th>\n",
       "      <td>0.82772</td>\n",
       "      <td>0.0862856</td>\n",
       "      <td>0.939909</td>\n",
       "      <td>0.701393</td>\n",
       "      <td>1</td>\n",
       "      <td>rbf</td>\n",
       "    </tr>\n",
       "    <tr>\n",
       "      <th>1</th>\n",
       "      <td>0.816222</td>\n",
       "      <td>0.0832167</td>\n",
       "      <td>0.929138</td>\n",
       "      <td>0.705027</td>\n",
       "      <td>10</td>\n",
       "      <td>rbf</td>\n",
       "    </tr>\n",
       "    <tr>\n",
       "      <th>4</th>\n",
       "      <td>0.813413</td>\n",
       "      <td>0.0657152</td>\n",
       "      <td>0.899455</td>\n",
       "      <td>0.710478</td>\n",
       "      <td>1</td>\n",
       "      <td>linear</td>\n",
       "    </tr>\n",
       "    <tr>\n",
       "      <th>5</th>\n",
       "      <td>0.806098</td>\n",
       "      <td>0.0531334</td>\n",
       "      <td>0.87765</td>\n",
       "      <td>0.728044</td>\n",
       "      <td>10</td>\n",
       "      <td>linear</td>\n",
       "    </tr>\n",
       "  </tbody>\n",
       "</table>\n",
       "</div>"
      ],
      "text/plain": [
       "  mean_score  std_score max_score min_score     C  kernel\n",
       "7   0.864673  0.0667609  0.956916  0.769841  1000  linear\n",
       "0    0.82772  0.0862856  0.939909  0.701393     1     rbf\n",
       "1   0.816222  0.0832167  0.929138  0.705027    10     rbf\n",
       "4   0.813413  0.0657152  0.899455  0.710478     1  linear\n",
       "5   0.806098  0.0531334   0.87765  0.728044    10  linear"
      ]
     },
     "execution_count": 86,
     "metadata": {},
     "output_type": "execute_result"
    }
   ],
   "source": [
    "results_SVM= get_search_results(clf)\n",
    "results_SVM.head()"
   ]
  },
  {
   "cell_type": "markdown",
   "metadata": {},
   "source": [
    "From the results of the tuned SVM model, we observe an accuracy score of 0.86, with the best results coming from C=1000 and for kernel linear. The results of the test are stored in a dataframe \"results_SVM\", with features including number of C and kernal along with the test scores obtained."
   ]
  },
  {
   "cell_type": "markdown",
   "metadata": {},
   "source": [
    "<a id=\"Performance\"></a>\n",
    "# Performance Comparison"
   ]
  },
  {
   "cell_type": "markdown",
   "metadata": {},
   "source": [
    "The performance of the best models from all the 5 different algorithm were compared to get the best models out of them. However, as the dataset was biased, we have taken into consideration the AUC score to shortlist the best model. Below are results obtained from teh algorithms:\n",
    "KNN - 0.58\n",
    "Decision Tree - 0.48\n",
    "Logistic Regression - 0.73\n",
    "Random Forest Classifier - 0.71\n",
    "SVM - 0.86 "
   ]
  },
  {
   "cell_type": "code",
   "execution_count": 87,
   "metadata": {},
   "outputs": [
    {
     "data": {
      "text/plain": [
       "0.5794282346006484"
      ]
     },
     "execution_count": 87,
     "metadata": {},
     "output_type": "execute_result"
    }
   ],
   "source": [
    "from sklearn.model_selection import cross_val_score\n",
    "from sklearn.model_selection import StratifiedKFold, GridSearchCV\n",
    "\n",
    "crossval_method_ttest = StratifiedKFold(n_splits=3, random_state=8)\n",
    "\n",
    "crossval_results_KNN = cross_val_score(estimator=grid_KNN.best_estimator_,\n",
    "                                 X=X_test,\n",
    "                                 y=Y_test, \n",
    "                                 cv=crossval_method_ttest, \n",
    "                                 n_jobs=-2,\n",
    "                                 scoring='roc_auc')\n",
    "crossval_results_KNN.mean()"
   ]
  },
  {
   "cell_type": "code",
   "execution_count": 88,
   "metadata": {},
   "outputs": [
    {
     "data": {
      "text/plain": [
       "0.4804008252284115"
      ]
     },
     "execution_count": 88,
     "metadata": {},
     "output_type": "execute_result"
    }
   ],
   "source": [
    "crossval_results_DT = cross_val_score(estimator=grid_DT.best_estimator_,\n",
    "                                X=X_test,\n",
    "                                y=Y_test, \n",
    "                                cv=crossval_method_ttest, \n",
    "                                n_jobs=-2,\n",
    "                                scoring='roc_auc')\n",
    "crossval_results_DT.mean()"
   ]
  },
  {
   "cell_type": "code",
   "execution_count": 89,
   "metadata": {},
   "outputs": [
    {
     "data": {
      "text/plain": [
       "0.732581596924682"
      ]
     },
     "execution_count": 89,
     "metadata": {},
     "output_type": "execute_result"
    }
   ],
   "source": [
    "cv_results_LR = cross_val_score(estimator=model,\n",
    "                                X=Bank_sample,\n",
    "                                y=Bank_target_sample, \n",
    "                                cv=cv, \n",
    "                                n_jobs=-1,\n",
    "                                scoring='roc_auc')\n",
    "cv_results_LR.mean()"
   ]
  },
  {
   "cell_type": "code",
   "execution_count": 90,
   "metadata": {},
   "outputs": [
    {
     "data": {
      "text/plain": [
       "0.7140361891086452"
      ]
     },
     "execution_count": 90,
     "metadata": {},
     "output_type": "execute_result"
    }
   ],
   "source": [
    "cv_results_RF = cross_val_score(estimator=estimator,\n",
    "                                X=Bank_sample,\n",
    "                                y=Bank_target_sample, \n",
    "                                cv=cv, \n",
    "                                n_jobs=-1,\n",
    "                                scoring='roc_auc')\n",
    "cv_results_RF.mean()"
   ]
  },
  {
   "cell_type": "code",
   "execution_count": 91,
   "metadata": {},
   "outputs": [
    {
     "data": {
      "text/plain": [
       "0.8594059282293364"
      ]
     },
     "execution_count": 91,
     "metadata": {},
     "output_type": "execute_result"
    }
   ],
   "source": [
    "import warnings\n",
    "warnings.filterwarnings(\"ignore\")\n",
    "from sklearn.model_selection import cross_val_score\n",
    "\n",
    "cv_method_ttest = StratifiedKFold(n_splits=3, random_state=8)\n",
    "\n",
    "cv_results_SVM = cross_val_score(estimator=clf.best_estimator_,\n",
    "                                 X=X_train,\n",
    "                                 y=Y_train, \n",
    "                                 cv=cv_method_ttest, \n",
    "                                 n_jobs=-2,\n",
    "                                 scoring='roc_auc')\n",
    "cv_results_SVM.mean()"
   ]
  },
  {
   "cell_type": "markdown",
   "metadata": {},
   "source": [
    "<a id=\"Limitations\"></a>\n",
    "# Limitations & Proposed Solutions\n",
    "\n",
    "While accuracy is always considered to best factor while choosing a model, in this case, it will not be an ideal parameter in deciding the model. The reason for this is the bias in the dataset. The observations which will not subscribe to the plan are considerably more as compared to the observations which have a chance of subscribing. Due to this, the models will always predict the non subscribing observations better than the ones which have chances of subscribing. If we look at it from the perspective of profits that will impact the bank, we can conclude that the bank will be more interested in the ones that have chances of subscribing rather than the ones that might not be interested in taking the plan. Thus, AUC values will be given a high priority than the accuracy.<br>\n",
    "\n",
    "Thus, although the best model was decided according to values obtained, an ideal scenario would be to have an unbiased dataset to obtain better datasets."
   ]
  },
  {
   "cell_type": "markdown",
   "metadata": {},
   "source": [
    "<a id=\"Summary\"></a>\n",
    "# Summary & Conclusion\n",
    "\n",
    "Based on the above discussion, we can conclude that the SVM model with parameters C=1000 and kernal=linear is the best suitable model for this dataset. The precision and recall values obtained for this model are .84 and .87.\n",
    "As mentioned above, if the dataset was not biased with more number of 'No' values, a better prediction from each of the models could have been achieved."
   ]
  },
  {
   "cell_type": "markdown",
   "metadata": {},
   "source": [
    "<a id=\"References\"></a>\n",
    "# References\n",
    "\n",
    "1. Data Preparation for Machine Learning | www.featureranking.com. www.featureranking.com. (2020). Retrieved from https://www.featureranking.com/tutorials/machine-learning-tutorials/data-preparation-for-machine-learning/#2.3.\n",
    "2. SK Part 2: Feature Selection and Ranking | www.featureranking.com. www.featureranking.com. (2020). Retrieved from https://www.featureranking.com/tutorials/machine-learning-tutorials/sk-part-2-feature-selection-and-ranking/#Feature-Selection-Using-Random-Forest-Importance.\n",
    "3. SK Part 3: Cross-Validation and Hyperparameter Tuning | www.featureranking.com. www.featureranking.com. (2020). Retrieved from https://www.featureranking.com/tutorials/machine-learning-tutorials/sk-part-3-cross-validation-and-hyperparameter-tuning/#KNN-Hyperparameter-Tuning-and-Visualization-.\n",
    "4. SK Part 5: Advanced Topics: Pipelines, Statistical Model Comparison, and Model Deployment | www.featureranking.com. www.featureranking.com. (2020). Retrieved from https://www.featureranking.com/tutorials/machine-learning-tutorials/sk-part-5-advanced-topics-pipelines-statistical-model-comparison-and-model-deployment/.\n",
    "5. Case Study: Predicting Income Status | www.featureranking.com. www.featureranking.com. (2020). Retrieved from https://www.featureranking.com/tutorials/machine-learning-tutorials/case-study-predicting-income-status/#5.\n",
    "6. markdown?, H., Verma, A., & Marcelino, P. (2020). How to reference a IPython notebook cell in markdown?. Stack Overflow. Retrieved from https://stackoverflow.com/questions/28080066/how-to-reference-a-ipython-notebook-cell-in-markdown.\n",
    "7. Brownlee, J. (2020). Tune Hyperparameters for Classification Machine Learning Algorithms. Machine Learning Mastery. Retrieved from https://machinelearningmastery.com/hyperparameters-for-classification-machine-learning-algorithms/.\n",
    "8. seaborn.pairplot — seaborn 0.10.1 documentation. Seaborn.pydata.org. (2020). Retrieved from https://seaborn.pydata.org/generated/seaborn.pairplot.html.\n",
    "9. Setting figure size using seaborn and matplotlib — Drawing from Data. Drawing from Data. (2020). Retrieved from https://www.drawingfromdata.com/setting-figure-size-using-seaborn-and-matplotlib.\n",
    "10. Visualizing statistical relationships — seaborn 0.10.1 documentation. Seaborn.pydata.org. (2020). Retrieved from https://seaborn.pydata.org/tutorial/relational.html.\n",
    "11. Plotly Express Arguments. Plotly.com. (2020). Retrieved from https://plotly.com/python/px-arguments/.\n",
    "12. Line Charts. Plotly.com. (2020). Retrieved from https://plotly.com/python/line-charts/.\n",
    "13. sklearn.svm.SVC — scikit-learn 0.23.1 documentation. Scikit-learn.org. (2020). Retrieved from https://scikit-learn.org/stable/modules/generated/sklearn.svm.SVC.html#sklearn.svm.SVC.\n",
    "14. SVM Hyper-parameter Tuning using GridSearchCV. Medium. (2020). Retrieved from https://towardsdatascience.com/svm-hyper-parameter-tuning-using-gridsearchcv-49c0bc55ce29."
   ]
  },
  {
   "cell_type": "code",
   "execution_count": null,
   "metadata": {},
   "outputs": [],
   "source": []
  }
 ],
 "metadata": {
  "kernelspec": {
   "display_name": "Python 3",
   "language": "python",
   "name": "python3"
  },
  "language_info": {
   "codemirror_mode": {
    "name": "ipython",
    "version": 3
   },
   "file_extension": ".py",
   "mimetype": "text/x-python",
   "name": "python",
   "nbconvert_exporter": "python",
   "pygments_lexer": "ipython3",
   "version": "3.7.6"
  }
 },
 "nbformat": 4,
 "nbformat_minor": 2
}
