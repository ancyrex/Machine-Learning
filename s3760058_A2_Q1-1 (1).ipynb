{
  "cells": [
    {
      "metadata": {},
      "cell_type": "markdown",
      "source": "# Assignment Honour Code\nI solemnly swear that I have not discussed my assignment solutions with anyone in any way and the solutions I am submitting are my own personal work.\n\nFull Name: Ancy Rex"
    },
    {
      "metadata": {},
      "cell_type": "markdown",
      "source": "# QUESTION 1"
    },
    {
      "metadata": {},
      "cell_type": "markdown",
      "source": "## Loading the data"
    },
    {
      "metadata": {
        "trusted": true
      },
      "cell_type": "code",
      "source": "import warnings\nwarnings.filterwarnings(\"ignore\")\n\nimport numpy as np\nimport pandas as pd\npd.set_option('display.max_columns', None) \nimport requests\n\n# loading the data from data file\ndata_pf = './data/A2_Q1.csv'\ndata1 = pd.read_csv(data_pf)\ndata1=pd.DataFrame(data1)\n# new dataset created for working\ndata1_copy =pd.DataFrame(data1.copy())\ndata1_copy.head(10)",
      "execution_count": 1,
      "outputs": [
        {
          "output_type": "execute_result",
          "execution_count": 1,
          "data": {
            "text/html": "<div>\n<style scoped>\n    .dataframe tbody tr th:only-of-type {\n        vertical-align: middle;\n    }\n\n    .dataframe tbody tr th {\n        vertical-align: top;\n    }\n\n    .dataframe thead th {\n        text-align: right;\n    }\n</style>\n<table border=\"1\" class=\"dataframe\">\n  <thead>\n    <tr style=\"text-align: right;\">\n      <th></th>\n      <th>ID</th>\n      <th>Age</th>\n      <th>Education</th>\n      <th>Marital_Status</th>\n      <th>Occupation</th>\n      <th>Annual_Income</th>\n    </tr>\n  </thead>\n  <tbody>\n    <tr>\n      <th>0</th>\n      <td>1</td>\n      <td>39</td>\n      <td>bachelors</td>\n      <td>never married</td>\n      <td>professional</td>\n      <td>high</td>\n    </tr>\n    <tr>\n      <th>1</th>\n      <td>2</td>\n      <td>50</td>\n      <td>doctorate</td>\n      <td>married</td>\n      <td>professional</td>\n      <td>mid</td>\n    </tr>\n    <tr>\n      <th>2</th>\n      <td>3</td>\n      <td>18</td>\n      <td>high school</td>\n      <td>never married</td>\n      <td>agriculture</td>\n      <td>low</td>\n    </tr>\n    <tr>\n      <th>3</th>\n      <td>4</td>\n      <td>30</td>\n      <td>bachelors</td>\n      <td>married</td>\n      <td>professional</td>\n      <td>mid</td>\n    </tr>\n    <tr>\n      <th>4</th>\n      <td>5</td>\n      <td>37</td>\n      <td>high school</td>\n      <td>married</td>\n      <td>agriculture</td>\n      <td>mid</td>\n    </tr>\n    <tr>\n      <th>5</th>\n      <td>6</td>\n      <td>23</td>\n      <td>high school</td>\n      <td>never married</td>\n      <td>agriculture</td>\n      <td>low</td>\n    </tr>\n    <tr>\n      <th>6</th>\n      <td>7</td>\n      <td>52</td>\n      <td>high school</td>\n      <td>divorced</td>\n      <td>transport</td>\n      <td>mid</td>\n    </tr>\n    <tr>\n      <th>7</th>\n      <td>8</td>\n      <td>40</td>\n      <td>doctorate</td>\n      <td>married</td>\n      <td>professional</td>\n      <td>high</td>\n    </tr>\n    <tr>\n      <th>8</th>\n      <td>9</td>\n      <td>46</td>\n      <td>bachelors</td>\n      <td>divorced</td>\n      <td>transport</td>\n      <td>mid</td>\n    </tr>\n    <tr>\n      <th>9</th>\n      <td>10</td>\n      <td>33</td>\n      <td>high school</td>\n      <td>married</td>\n      <td>transport</td>\n      <td>mid</td>\n    </tr>\n  </tbody>\n</table>\n</div>",
            "text/plain": "   ID  Age    Education Marital_Status    Occupation Annual_Income\n0   1   39    bachelors  never married  professional          high\n1   2   50    doctorate        married  professional           mid\n2   3   18  high school  never married   agriculture           low\n3   4   30    bachelors        married  professional           mid\n4   5   37  high school        married   agriculture           mid\n5   6   23  high school  never married   agriculture           low\n6   7   52  high school       divorced     transport           mid\n7   8   40    doctorate        married  professional          high\n8   9   46    bachelors       divorced     transport           mid\n9  10   33  high school        married     transport           mid"
          },
          "metadata": {}
        }
      ]
    },
    {
      "metadata": {},
      "cell_type": "markdown",
      "source": "## Part A"
    },
    {
      "metadata": {},
      "cell_type": "markdown",
      "source": "Computing the impurity of the column Annual Income which is the target feature in this dataset."
    },
    {
      "metadata": {
        "trusted": true
      },
      "cell_type": "code",
      "source": "def compute_impurity(feature, impurity_criterion):\n    \"\"\"\n    This function calculates impurity of a feature.\n    Supported impurity criteria: 'entropy', 'gini'\n    input: feature (this needs to be a Pandas series)\n    output: feature impurity\n    \"\"\"\n    probs = feature.value_counts(normalize=True)\n    \n    \n    if impurity_criterion == 'gini':\n        impurity = 1 - np.sum(np.square(probs))\n    else:\n        raise ValueError('Unknown impurity criterion')\n        \n    return(round(impurity, 3))\n\ntarget_entropy = compute_impurity(data1_copy['Annual_Income'], 'gini')\nprint('Imputrity of target using gini index:',target_entropy)",
      "execution_count": 2,
      "outputs": [
        {
          "output_type": "stream",
          "text": "Imputrity of target using gini index: 0.555\n",
          "name": "stdout"
        }
      ]
    },
    {
      "metadata": {},
      "cell_type": "markdown",
      "source": "The impurity of the target feature (Annual Income) from the dataset was computed using the gini index. The impurity of Annual Income was found to be 0.55."
    },
    {
      "metadata": {},
      "cell_type": "markdown",
      "source": "## Part B"
    },
    {
      "metadata": {},
      "cell_type": "markdown",
      "source": "In this particular dataset the Age column is a continuous column and so it was required to handle it before Gini Index split criterion. \n\nAge was changed to boolean features by defining threshold and using the threshold partitioned the column using the values of the continuous descriptive feature. The table was sorted using the target feature. The target feature ( Annual Income) has 3 values (low,mid,high).The average of the age where the annual income values change were considered be the threshold values. The age column was then divided to 4 thresholds ( >24, >27 ,>38 ,>42 ). Each threshold has 2 partitions each with set of instances that fall under or over the threshold. The following formulas were used for finding the Partition Gini Index , Remainder and Information Gain.\n<center><font size=\"2\"><br    /> Partition Gini Index = 1- $\\sum_{low,high,mid}P(AN.INC. = l)$</font></center>\n<center><font size=\"2\"><br    />Weight = ($\\frac{number of instances for each partition}{total number of instances}$)</font></center>\n\n<center><font size=\"2\"><br  />Remainder = (Weight of first partition * Partition Gini Index of first partition) + (Weight of second partition * Partition Gini Index of second partition)</font></center>\n\n<center><font size=\"2\"><br  />Information Gain = Target impurity - Remainder</font></center>\nIt was found that >24 has a greater information gain (0.202) compared to the other thresholds. Which makes it the root node in the decision tree."
    },
    {
      "metadata": {
        "trusted": true
      },
      "cell_type": "code",
      "source": "#age column handled \nage_pf = './data/Age_root.csv'\nage = pd.read_csv(age_pf)\nage = pd.DataFrame(age)\nage = age.replace(np.nan,'',regex=True)\nage",
      "execution_count": 3,
      "outputs": [
        {
          "output_type": "execute_result",
          "execution_count": 3,
          "data": {
            "text/html": "<div>\n<style scoped>\n    .dataframe tbody tr th:only-of-type {\n        vertical-align: middle;\n    }\n\n    .dataframe tbody tr th {\n        vertical-align: top;\n    }\n\n    .dataframe thead th {\n        text-align: right;\n    }\n</style>\n<table border=\"1\" class=\"dataframe\">\n  <thead>\n    <tr style=\"text-align: right;\">\n      <th></th>\n      <th>Split by Feature</th>\n      <th>Partition</th>\n      <th>Partition Gini Index</th>\n      <th>Remainder</th>\n      <th>Information Gain</th>\n    </tr>\n  </thead>\n  <tbody>\n    <tr>\n      <th>0</th>\n      <td>&gt; 24</td>\n      <td>D1</td>\n      <td>0.000</td>\n      <td>0.352</td>\n      <td>0.202</td>\n    </tr>\n    <tr>\n      <th>1</th>\n      <td></td>\n      <td>D2</td>\n      <td>0.415</td>\n      <td></td>\n      <td></td>\n    </tr>\n    <tr>\n      <th>2</th>\n      <td>&gt; 27</td>\n      <td>D3</td>\n      <td>0.480</td>\n      <td>0.36</td>\n      <td>0.195</td>\n    </tr>\n    <tr>\n      <th>3</th>\n      <td></td>\n      <td>D4</td>\n      <td>0.320</td>\n      <td></td>\n      <td></td>\n    </tr>\n    <tr>\n      <th>4</th>\n      <td>&gt; 38</td>\n      <td>D5</td>\n      <td>0.570</td>\n      <td>0.53</td>\n      <td>0.025</td>\n    </tr>\n    <tr>\n      <th>5</th>\n      <td></td>\n      <td>D6</td>\n      <td>0.468</td>\n      <td></td>\n      <td></td>\n    </tr>\n    <tr>\n      <th>6</th>\n      <td>&gt; 42</td>\n      <td>D7</td>\n      <td>0.631</td>\n      <td>0.473</td>\n      <td>0.081</td>\n    </tr>\n    <tr>\n      <th>7</th>\n      <td></td>\n      <td>D8</td>\n      <td>0.000</td>\n      <td></td>\n      <td></td>\n    </tr>\n  </tbody>\n</table>\n</div>",
            "text/plain": "  Split by Feature Partition  Partition Gini Index Remainder Information Gain\n0             > 24        D1                 0.000     0.352            0.202\n1                         D2                 0.415                           \n2             > 27        D3                 0.480      0.36            0.195\n3                         D4                 0.320                           \n4             > 38        D5                 0.570      0.53            0.025\n5                         D6                 0.468                           \n6             > 42        D7                 0.631     0.473            0.081\n7                         D8                 0.000                           "
          },
          "metadata": {}
        }
      ]
    },
    {
      "metadata": {},
      "cell_type": "markdown",
      "source": "The function comp_feature_information_gain is a function that consists of calculating the partition impurity, weights of each partition, remainder and information gain ."
    },
    {
      "metadata": {
        "trusted": true
      },
      "cell_type": "code",
      "source": "def comp_feature_information_gain(df, target, descriptive_feature, split_criterion):\n    \"\"\"\n    This function calculates information gain for splitting on \n    a particular descriptive feature for a given dataset\n    and a given impurity criteria.\n    Supported split criterion: 'entropy', 'gini'\n    \"\"\"\n    \n    print('target feature:', target)\n    print('descriptive_feature:', descriptive_feature)\n    print('split criterion:', split_criterion)\n            \n    target_entropy = compute_impurity(data1_copy[target], split_criterion)\n\n    # we define two lists below:\n    # entropy_list to store the entropy of each partition\n    # weight_list to store the relative number of observations in each partition\n    entropy_list = list()\n    weight_list = list()\n    \n    # loop over each level of the descriptive feature\n    # to partition the dataset with respect to that level\n    # and compute the entropy and the weight of the level's partition\n    for level in data1_copy[descriptive_feature].unique():\n        data1_copy_feature_level = data1_copy[data1_copy[descriptive_feature] == level]\n        entropy_level = compute_impurity(data1_copy_feature_level[target], split_criterion)\n        entropy_list.append(round(entropy_level, 3))\n        weight_level = len(data1_copy_feature_level) / len(data1_copy)\n        weight_list.append(round(weight_level, 3))\n\n    print('impurity of partitions:', entropy_list)\n    print('weights of partitions:', weight_list)\n\n    feature_remaining_impurity = np.sum(np.array(entropy_list) * np.array(weight_list))\n    print('remaining impurity:', feature_remaining_impurity)\n    \n    information_gain = target_entropy - feature_remaining_impurity\n    print('information gain:', information_gain)\n    \n    print('====================')\n\n    return(information_gain)",
      "execution_count": 4,
      "outputs": []
    },
    {
      "metadata": {},
      "cell_type": "markdown",
      "source": "The function above was called to obtain the descriptive feature to use it for gini index criteria."
    },
    {
      "metadata": {
        "trusted": true
      },
      "cell_type": "code",
      "source": "#gini index criteria\nsplit_criteria = 'gini'\nfor feature in data1_copy.drop(columns=['Annual_Income','ID','Age']).columns:\n    feature_info_gain = comp_feature_information_gain(data1_copy, 'Annual_Income', feature, split_criteria)",
      "execution_count": 5,
      "outputs": [
        {
          "output_type": "stream",
          "text": "target feature: Annual_Income\ndescriptive_feature: Education\nsplit criterion: gini\nimpurity of partitions: [0.531, 0.375, 0.625]\nweights of partitions: [0.4, 0.2, 0.4]\nremaining impurity: 0.5374000000000001\ninformation gain: 0.01759999999999995\n====================\ntarget feature: Annual_Income\ndescriptive_feature: Marital_Status\nsplit criterion: gini\nimpurity of partitions: [0.611, 0.42, 0.375]\nweights of partitions: [0.3, 0.5, 0.2]\nremaining impurity: 0.4683\ninformation gain: 0.08670000000000005\n====================\ntarget feature: Annual_Income\ndescriptive_feature: Occupation\nsplit criterion: gini\nimpurity of partitions: [0.5, 0.5, 0.278]\nweights of partitions: [0.4, 0.3, 0.3]\nremaining impurity: 0.4334\ninformation gain: 0.12160000000000004\n====================\n",
          "name": "stdout"
        }
      ]
    },
    {
      "metadata": {
        "trusted": true
      },
      "cell_type": "markdown",
      "source": "## Part C"
    },
    {
      "metadata": {},
      "cell_type": "markdown",
      "source": "Here the descriptive feature Education is considered as the root node and Annual Income as the target. The education feature has values such as high school,bachelors and doctorate. The probability of annual income values in each of the education feature values are found.\n\nThe levels in education feature was taken to display the corresponding data partition of education. The probability of values (low,mid,high)in annual incomes where found in each of these values . \nfor example: When considering the level bachelors in education. The probability of low,mid and high income was found by the count of(low/mid/high)income/total count of data partition.\nThis was done for all levels of education"
    },
    {
      "metadata": {
        "trusted": true
      },
      "cell_type": "code",
      "source": "# probability of anuual income values in different levels of education\nfor level in data1_copy['Education'].unique():\n    print('level name:', level)\n    df_feature_level = data1_copy[(data1_copy['Education'] == level)]\n    print('corresponding data partition:')\n    print(df_feature_level)\n    df_feature_low = df_feature_level[(data1_copy['Annual_Income'] == 'low')]\n    low_pro =(len(df_feature_low))/(len(df_feature_level))\n    print('Low probability:',round(low_pro,3))\n    df_feature_mid = df_feature_level[(data1_copy['Annual_Income'] == 'mid')]\n    mid_pro =(len(df_feature_mid))/(len(df_feature_level))\n    print('Mid probability:',round(mid_pro,3))\n    df_feature_high = df_feature_level[(data1_copy['Annual_Income'] == 'high')]\n    high_pro =(len(df_feature_high))/(len(df_feature_level))\n    print('high probability:',round(high_pro,3))\n    print('====================')",
      "execution_count": 6,
      "outputs": [
        {
          "output_type": "stream",
          "text": "level name: bachelors\ncorresponding data partition:\n    ID  Age  Education Marital_Status    Occupation Annual_Income\n0    1   39  bachelors  never married  professional          high\n3    4   30  bachelors        married  professional           mid\n8    9   46  bachelors       divorced     transport           mid\n12  13   23  bachelors  never married   agriculture           low\n14  15   35  bachelors        married   agriculture           mid\n15  16   29  bachelors  never married   agriculture           mid\n17  18   37  bachelors        married  professional           mid\n19  20   25  bachelors        married     transport          high\nLow probability: 0.125\nMid probability: 0.625\nhigh probability: 0.25\n====================\nlevel name: doctorate\ncorresponding data partition:\n    ID  Age  Education Marital_Status    Occupation Annual_Income\n1    2   50  doctorate        married  professional           mid\n7    8   40  doctorate        married  professional          high\n11  12   45  doctorate        married  professional           mid\n16  17   44  doctorate       divorced     transport           mid\nLow probability: 0.0\nMid probability: 0.75\nhigh probability: 0.25\n====================\nlevel name: high school\ncorresponding data partition:\n    ID  Age    Education Marital_Status    Occupation Annual_Income\n2    3   18  high school  never married   agriculture           low\n4    5   37  high school        married   agriculture           mid\n5    6   23  high school  never married   agriculture           low\n6    7   52  high school       divorced     transport           mid\n9   10   33  high school        married     transport           mid\n10  11   36  high school  never married     transport           mid\n13  14   25  high school        married  professional          high\n18  19   39  high school       divorced  professional          high\nLow probability: 0.25\nMid probability: 0.5\nhigh probability: 0.25\n====================\n",
          "name": "stdout"
        }
      ]
    },
    {
      "metadata": {},
      "cell_type": "markdown",
      "source": "## Resulting Dataframe"
    },
    {
      "metadata": {},
      "cell_type": "markdown",
      "source": "df_split was constructed to hold the values of the decriptive features in the dataset. The age columns is divivded into 4 threshold named(Age > 24,Age > 27,Age > 38 and Age > 42) . The remainder and information gain of each feature is displayed. From the dataframe we notice that Age > 24 has the largest information gain with value 0.20 ,thus making it the root node in the decision tree."
    },
    {
      "metadata": {
        "trusted": true
      },
      "cell_type": "code",
      "source": "# construction of df_split dataframe\ndf_splits = pd.DataFrame(columns=['Split', 'Remainder', 'Information_Gain','Is_Optimal'])\ndf_splits.loc[len(df_splits)] = ['Age > 24',0.352,0.202, 'True']\ndf_splits.loc[len(df_splits)] = ['Age > 27',0.360,0.195, 'False']\ndf_splits.loc[len(df_splits)] = ['Age > 38',0.530,0.025, 'False']\ndf_splits.loc[len(df_splits)] = ['Age > 42',0.473,0.081, 'False']\ndf_splits.loc[len(df_splits)] = ['Education',0.473,0.0175,'False']\ndf_splits.loc[len(df_splits)] = ['Marital_Status',0.468,0.0867,'False']\ndf_splits.loc[len(df_splits)] = ['Occupation', 0.433, 0.121,'False']\n\ndf_splits.round(3)",
      "execution_count": 7,
      "outputs": [
        {
          "output_type": "execute_result",
          "execution_count": 7,
          "data": {
            "text/html": "<div>\n<style scoped>\n    .dataframe tbody tr th:only-of-type {\n        vertical-align: middle;\n    }\n\n    .dataframe tbody tr th {\n        vertical-align: top;\n    }\n\n    .dataframe thead th {\n        text-align: right;\n    }\n</style>\n<table border=\"1\" class=\"dataframe\">\n  <thead>\n    <tr style=\"text-align: right;\">\n      <th></th>\n      <th>Split</th>\n      <th>Remainder</th>\n      <th>Information_Gain</th>\n      <th>Is_Optimal</th>\n    </tr>\n  </thead>\n  <tbody>\n    <tr>\n      <th>0</th>\n      <td>Age &gt; 24</td>\n      <td>0.352</td>\n      <td>0.202</td>\n      <td>True</td>\n    </tr>\n    <tr>\n      <th>1</th>\n      <td>Age &gt; 27</td>\n      <td>0.360</td>\n      <td>0.195</td>\n      <td>False</td>\n    </tr>\n    <tr>\n      <th>2</th>\n      <td>Age &gt; 38</td>\n      <td>0.530</td>\n      <td>0.025</td>\n      <td>False</td>\n    </tr>\n    <tr>\n      <th>3</th>\n      <td>Age &gt; 42</td>\n      <td>0.473</td>\n      <td>0.081</td>\n      <td>False</td>\n    </tr>\n    <tr>\n      <th>4</th>\n      <td>Education</td>\n      <td>0.473</td>\n      <td>0.018</td>\n      <td>False</td>\n    </tr>\n    <tr>\n      <th>5</th>\n      <td>Marital_Status</td>\n      <td>0.468</td>\n      <td>0.087</td>\n      <td>False</td>\n    </tr>\n    <tr>\n      <th>6</th>\n      <td>Occupation</td>\n      <td>0.433</td>\n      <td>0.121</td>\n      <td>False</td>\n    </tr>\n  </tbody>\n</table>\n</div>",
            "text/plain": "            Split  Remainder  Information_Gain Is_Optimal\n0        Age > 24      0.352             0.202       True\n1        Age > 27      0.360             0.195      False\n2        Age > 38      0.530             0.025      False\n3        Age > 42      0.473             0.081      False\n4       Education      0.473             0.018      False\n5  Marital_Status      0.468             0.087      False\n6      Occupation      0.433             0.121      False"
          },
          "metadata": {}
        }
      ]
    },
    {
      "metadata": {},
      "cell_type": "markdown",
      "source": "df_prediction was constructed to hold the values of the of low , mid and high income probabilities in each level of the education feature. The annual income with the highest probability is put as the leaf_prediction. In this case all the levels in education has the highest mid income probability and thus it would be the leaf_prediction for all levels.\n"
    },
    {
      "metadata": {
        "trusted": true
      },
      "cell_type": "code",
      "source": "# construction of df_prediction dataframe\ndf_prediction = pd.DataFrame(columns=['Leaf_Condition', 'Low_Income_Prob', 'Mid_Income_Prob','High_Income_Prob','Leaf_Prediction'])\ndf_prediction.loc[len(df_prediction)] = ['Education == bachelors',0.125,0.625,0.25,'mid']\ndf_prediction.loc[len(df_prediction)] = ['Education == doctorate',0.0,0.75,0.25,'mid']\ndf_prediction.loc[len(df_prediction)] = ['Education == high school', 0.25,0.5,0.25,'mid']\n\n\ndf_prediction",
      "execution_count": 8,
      "outputs": [
        {
          "output_type": "execute_result",
          "execution_count": 8,
          "data": {
            "text/html": "<div>\n<style scoped>\n    .dataframe tbody tr th:only-of-type {\n        vertical-align: middle;\n    }\n\n    .dataframe tbody tr th {\n        vertical-align: top;\n    }\n\n    .dataframe thead th {\n        text-align: right;\n    }\n</style>\n<table border=\"1\" class=\"dataframe\">\n  <thead>\n    <tr style=\"text-align: right;\">\n      <th></th>\n      <th>Leaf_Condition</th>\n      <th>Low_Income_Prob</th>\n      <th>Mid_Income_Prob</th>\n      <th>High_Income_Prob</th>\n      <th>Leaf_Prediction</th>\n    </tr>\n  </thead>\n  <tbody>\n    <tr>\n      <th>0</th>\n      <td>Education == bachelors</td>\n      <td>0.125</td>\n      <td>0.625</td>\n      <td>0.25</td>\n      <td>mid</td>\n    </tr>\n    <tr>\n      <th>1</th>\n      <td>Education == doctorate</td>\n      <td>0.000</td>\n      <td>0.750</td>\n      <td>0.25</td>\n      <td>mid</td>\n    </tr>\n    <tr>\n      <th>2</th>\n      <td>Education == high school</td>\n      <td>0.250</td>\n      <td>0.500</td>\n      <td>0.25</td>\n      <td>mid</td>\n    </tr>\n  </tbody>\n</table>\n</div>",
            "text/plain": "             Leaf_Condition  Low_Income_Prob  Mid_Income_Prob  \\\n0    Education == bachelors            0.125            0.625   \n1    Education == doctorate            0.000            0.750   \n2  Education == high school            0.250            0.500   \n\n   High_Income_Prob Leaf_Prediction  \n0              0.25             mid  \n1              0.25             mid  \n2              0.25             mid  "
          },
          "metadata": {}
        }
      ]
    }
  ],
  "metadata": {
    "kernelspec": {
      "name": "python36",
      "display_name": "Python 3.6",
      "language": "python"
    },
    "language_info": {
      "mimetype": "text/x-python",
      "nbconvert_exporter": "python",
      "name": "python",
      "pygments_lexer": "ipython3",
      "version": "3.6.6",
      "file_extension": ".py",
      "codemirror_mode": {
        "version": 3,
        "name": "ipython"
      }
    }
  },
  "nbformat": 4,
  "nbformat_minor": 2
}