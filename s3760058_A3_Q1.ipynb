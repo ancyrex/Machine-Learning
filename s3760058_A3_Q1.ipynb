{
  "cells": [
    {
      "metadata": {
        "collapsed": true
      },
      "cell_type": "markdown",
      "source": "# Assignment Honour Code\n\nI solemnly swear that I have not discussed my assignment solutions with anyone in any way and the solutions I am submitting are my own personal work.\n\nFull Name: Ancy Rex"
    },
    {
      "metadata": {},
      "cell_type": "markdown",
      "source": "# QUESTION 1"
    },
    {
      "metadata": {},
      "cell_type": "markdown",
      "source": "### Loading the Data"
    },
    {
      "metadata": {
        "trusted": true
      },
      "cell_type": "code",
      "source": "import warnings\nwarnings.filterwarnings(\"ignore\")\n\nimport numpy as np\nimport pandas as pd\npd.set_option('display.max_columns', None) \nimport requests\nimport matplotlib.pyplot as plt\n\n# loading the data from data file\ntrain_pf = './data/A3_Q1_train.csv'\ntrain_data = pd.read_csv(train_pf)\ntrain_data=pd.DataFrame(train_data)\n# new dataset created for working\ntrain_copy =pd.DataFrame(train_data.copy())\ntrain_copy.head(10)",
      "execution_count": 1,
      "outputs": [
        {
          "output_type": "execute_result",
          "execution_count": 1,
          "data": {
            "text/html": "<div>\n<style scoped>\n    .dataframe tbody tr th:only-of-type {\n        vertical-align: middle;\n    }\n\n    .dataframe tbody tr th {\n        vertical-align: top;\n    }\n\n    .dataframe thead th {\n        text-align: right;\n    }\n</style>\n<table border=\"1\" class=\"dataframe\">\n  <thead>\n    <tr style=\"text-align: right;\">\n      <th></th>\n      <th>row_id</th>\n      <th>age</th>\n      <th>education_years</th>\n      <th>workclass</th>\n      <th>marital_status</th>\n      <th>occupation</th>\n      <th>annual_income</th>\n    </tr>\n  </thead>\n  <tbody>\n    <tr>\n      <th>0</th>\n      <td>1</td>\n      <td>48</td>\n      <td>14</td>\n      <td>Local-gov</td>\n      <td>Divorced</td>\n      <td>Prof-specialty</td>\n      <td>high_income</td>\n    </tr>\n    <tr>\n      <th>1</th>\n      <td>2</td>\n      <td>23</td>\n      <td>13</td>\n      <td>Local-gov</td>\n      <td>Never-married</td>\n      <td>Prof-specialty</td>\n      <td>low_income</td>\n    </tr>\n    <tr>\n      <th>2</th>\n      <td>3</td>\n      <td>45</td>\n      <td>13</td>\n      <td>Local-gov</td>\n      <td>Never-married</td>\n      <td>Prof-specialty</td>\n      <td>low_income</td>\n    </tr>\n    <tr>\n      <th>3</th>\n      <td>4</td>\n      <td>51</td>\n      <td>13</td>\n      <td>Federal-gov</td>\n      <td>Married-civ-spouse</td>\n      <td>Exec-managerial</td>\n      <td>low_income</td>\n    </tr>\n    <tr>\n      <th>4</th>\n      <td>5</td>\n      <td>51</td>\n      <td>14</td>\n      <td>Local-gov</td>\n      <td>Married-civ-spouse</td>\n      <td>Prof-specialty</td>\n      <td>high_income</td>\n    </tr>\n    <tr>\n      <th>5</th>\n      <td>6</td>\n      <td>21</td>\n      <td>9</td>\n      <td>Local-gov</td>\n      <td>Never-married</td>\n      <td>Prof-specialty</td>\n      <td>low_income</td>\n    </tr>\n    <tr>\n      <th>6</th>\n      <td>7</td>\n      <td>44</td>\n      <td>15</td>\n      <td>Federal-gov</td>\n      <td>Divorced</td>\n      <td>Prof-specialty</td>\n      <td>high_income</td>\n    </tr>\n    <tr>\n      <th>7</th>\n      <td>8</td>\n      <td>30</td>\n      <td>13</td>\n      <td>Local-gov</td>\n      <td>Never-married</td>\n      <td>Prof-specialty</td>\n      <td>low_income</td>\n    </tr>\n    <tr>\n      <th>8</th>\n      <td>9</td>\n      <td>55</td>\n      <td>13</td>\n      <td>Federal-gov</td>\n      <td>Married-civ-spouse</td>\n      <td>Exec-managerial</td>\n      <td>high_income</td>\n    </tr>\n    <tr>\n      <th>9</th>\n      <td>10</td>\n      <td>34</td>\n      <td>10</td>\n      <td>State-gov</td>\n      <td>Divorced</td>\n      <td>Adm-clerical</td>\n      <td>low_income</td>\n    </tr>\n  </tbody>\n</table>\n</div>",
            "text/plain": "   row_id  age  education_years    workclass      marital_status  \\\n0       1   48               14    Local-gov            Divorced   \n1       2   23               13    Local-gov       Never-married   \n2       3   45               13    Local-gov       Never-married   \n3       4   51               13  Federal-gov  Married-civ-spouse   \n4       5   51               14    Local-gov  Married-civ-spouse   \n5       6   21                9    Local-gov       Never-married   \n6       7   44               15  Federal-gov            Divorced   \n7       8   30               13    Local-gov       Never-married   \n8       9   55               13  Federal-gov  Married-civ-spouse   \n9      10   34               10    State-gov            Divorced   \n\n        occupation annual_income  \n0   Prof-specialty   high_income  \n1   Prof-specialty    low_income  \n2   Prof-specialty    low_income  \n3  Exec-managerial    low_income  \n4   Prof-specialty   high_income  \n5   Prof-specialty    low_income  \n6   Prof-specialty   high_income  \n7   Prof-specialty    low_income  \n8  Exec-managerial   high_income  \n9     Adm-clerical    low_income  "
          },
          "metadata": {}
        }
      ]
    },
    {
      "metadata": {
        "trusted": true
      },
      "cell_type": "markdown",
      "source": "### PART A ( Data Preparation )"
    },
    {
      "metadata": {},
      "cell_type": "markdown",
      "source": "##### TASK 1"
    },
    {
      "metadata": {},
      "cell_type": "markdown",
      "source": "Transforming numerical columns such as education_years and age into categorical features using equal-width binning. The 3 bins used to transform both these columns were 'low', 'mid' and 'high'. After transformation the dataset contains 5 categorical comlumns."
    },
    {
      "metadata": {
        "trusted": true
      },
      "cell_type": "code",
      "source": "# Transforming education_years into categorical column\ntrain_copy['education_years']= pd.cut(train_copy['education_years'],3,labels=[\"low\",\"mid\",\"high\"])\n\n# Transforming education_years into categorical column\ntrain_copy['age']= pd.cut(train_copy['age'],3,labels=[\"low\",\"mid\",\"high\"])\n\n# Dataset renamed to df_all_cat\ndf_all_cat=pd.DataFrame(train_copy)",
      "execution_count": 2,
      "outputs": []
    },
    {
      "metadata": {
        "trusted": true
      },
      "cell_type": "code",
      "source": "# so that we can see all the columns\npd.set_option('display.max_columns', None) \nprint(df_all_cat.shape)\ndf_all_cat.head()\n###\n# please run below in a separate cell!!!\nfor col in df_all_cat.columns.tolist():  \n    print(col + ':')\n    print(df_all_cat[col].value_counts())\n    print('********')",
      "execution_count": 3,
      "outputs": [
        {
          "output_type": "stream",
          "text": "(500, 7)\nrow_id:\n500    1\n171    1\n158    1\n159    1\n160    1\n161    1\n162    1\n163    1\n164    1\n165    1\n166    1\n167    1\n168    1\n169    1\n170    1\n172    1\n187    1\n173    1\n174    1\n175    1\n176    1\n177    1\n178    1\n179    1\n180    1\n181    1\n182    1\n183    1\n184    1\n185    1\n      ..\n315    1\n343    1\n316    1\n317    1\n318    1\n319    1\n320    1\n321    1\n322    1\n323    1\n324    1\n325    1\n326    1\n327    1\n328    1\n329    1\n330    1\n331    1\n332    1\n333    1\n334    1\n335    1\n336    1\n337    1\n338    1\n339    1\n340    1\n341    1\n342    1\n1      1\nName: row_id, Length: 500, dtype: int64\n********\nage:\nmid     230\nlow     140\nhigh    130\nName: age, dtype: int64\n********\neducation_years:\nhigh    304\nmid     193\nlow       3\nName: education_years, dtype: int64\n********\nworkclass:\nLocal-gov      225\nState-gov      148\nFederal-gov    127\nName: workclass, dtype: int64\n********\nmarital_status:\nMarried-civ-spouse    230\nNever-married         155\nDivorced              115\nName: marital_status, dtype: int64\n********\noccupation:\nProf-specialty     224\nAdm-clerical       159\nExec-managerial    117\nName: occupation, dtype: int64\n********\nannual_income:\nlow_income     320\nhigh_income    180\nName: annual_income, dtype: int64\n********\n",
          "name": "stdout"
        }
      ]
    },
    {
      "metadata": {},
      "cell_type": "markdown",
      "source": "#### TASK 2"
    },
    {
      "metadata": {},
      "cell_type": "markdown",
      "source": "One-hot encoding was done on the dataset after equal-width binning. The columns annual_income which is the target column and row_id was dropped to perform encoding on the dataset."
    },
    {
      "metadata": {
        "trusted": true
      },
      "cell_type": "code",
      "source": "# dropping of annual_income and row_id\ndf_encoding = df_all_cat.drop(['annual_income','row_id'],axis=1)",
      "execution_count": 4,
      "outputs": []
    },
    {
      "metadata": {
        "trusted": true
      },
      "cell_type": "code",
      "source": "# get the list of categorical descriptive features\ncategorical_cols = df_encoding.columns[df_encoding.dtypes==object].tolist()\n\n# if a categorical descriptive feature has only 2 levels,\n# define only one binary variable\nfor col in categorical_cols:\n    n = len(df_encoding[col].unique())\n    if (n == 2):\n        df_encoding[col] = pd.get_dummies(df_encoding[col], drop_first=True)\n\n# for other categorical features (with > 2 levels), \n# use regular one-hot-encoding \n# if a feature is numeric, it will be untouched\ndf_all_cat_ohe = pd.get_dummies(df_encoding)\n",
      "execution_count": 5,
      "outputs": []
    },
    {
      "metadata": {},
      "cell_type": "markdown",
      "source": "The values in the target column was later replaced with binary values. low_income and high_income was replaced with 0 and 1 respectively."
    },
    {
      "metadata": {
        "trusted": true
      },
      "cell_type": "code",
      "source": "# replacing binary values for low_income and high_income\ntarget = df_all_cat.pop('annual_income')\ntarget_encoded = pd.Series(target).replace({'low_income':0,'high_income':1}).values",
      "execution_count": 6,
      "outputs": []
    },
    {
      "metadata": {},
      "cell_type": "markdown",
      "source": "All the categorical columns were encoded. Before fitting any model the dataset df_all_cat_ohe was scaled using MinMax scaling. Each of the descriptive feature was scaled to be a value between 0 and 1."
    },
    {
      "metadata": {
        "trusted": true
      },
      "cell_type": "code",
      "source": "from sklearn import preprocessing\n\n# MinMax scaling on df_all_cat_ohe dataset\ndf_all_cat_ohe = preprocessing.MinMaxScaler().fit_transform(df_all_cat_ohe)\ndf_all_cat_ohe = pd.DataFrame(data = df_all_cat_ohe)\n",
      "execution_count": 7,
      "outputs": []
    },
    {
      "metadata": {
        "trusted": true
      },
      "cell_type": "code",
      "source": "# shape and few columns of df_all_cat_ohe dataframe was displayed\nprint(df_all_cat_ohe.shape)\ndf_all_cat_ohe.head()",
      "execution_count": 8,
      "outputs": [
        {
          "output_type": "stream",
          "text": "(500, 15)\n",
          "name": "stdout"
        },
        {
          "output_type": "execute_result",
          "execution_count": 8,
          "data": {
            "text/html": "<div>\n<style scoped>\n    .dataframe tbody tr th:only-of-type {\n        vertical-align: middle;\n    }\n\n    .dataframe tbody tr th {\n        vertical-align: top;\n    }\n\n    .dataframe thead th {\n        text-align: right;\n    }\n</style>\n<table border=\"1\" class=\"dataframe\">\n  <thead>\n    <tr style=\"text-align: right;\">\n      <th></th>\n      <th>0</th>\n      <th>1</th>\n      <th>2</th>\n      <th>3</th>\n      <th>4</th>\n      <th>5</th>\n      <th>6</th>\n      <th>7</th>\n      <th>8</th>\n      <th>9</th>\n      <th>10</th>\n      <th>11</th>\n      <th>12</th>\n      <th>13</th>\n      <th>14</th>\n    </tr>\n  </thead>\n  <tbody>\n    <tr>\n      <th>0</th>\n      <td>0.0</td>\n      <td>0.0</td>\n      <td>1.0</td>\n      <td>0.0</td>\n      <td>0.0</td>\n      <td>1.0</td>\n      <td>0.0</td>\n      <td>1.0</td>\n      <td>0.0</td>\n      <td>1.0</td>\n      <td>0.0</td>\n      <td>0.0</td>\n      <td>0.0</td>\n      <td>0.0</td>\n      <td>1.0</td>\n    </tr>\n    <tr>\n      <th>1</th>\n      <td>1.0</td>\n      <td>0.0</td>\n      <td>0.0</td>\n      <td>0.0</td>\n      <td>0.0</td>\n      <td>1.0</td>\n      <td>0.0</td>\n      <td>1.0</td>\n      <td>0.0</td>\n      <td>0.0</td>\n      <td>0.0</td>\n      <td>1.0</td>\n      <td>0.0</td>\n      <td>0.0</td>\n      <td>1.0</td>\n    </tr>\n    <tr>\n      <th>2</th>\n      <td>0.0</td>\n      <td>1.0</td>\n      <td>0.0</td>\n      <td>0.0</td>\n      <td>0.0</td>\n      <td>1.0</td>\n      <td>0.0</td>\n      <td>1.0</td>\n      <td>0.0</td>\n      <td>0.0</td>\n      <td>0.0</td>\n      <td>1.0</td>\n      <td>0.0</td>\n      <td>0.0</td>\n      <td>1.0</td>\n    </tr>\n    <tr>\n      <th>3</th>\n      <td>0.0</td>\n      <td>0.0</td>\n      <td>1.0</td>\n      <td>0.0</td>\n      <td>0.0</td>\n      <td>1.0</td>\n      <td>1.0</td>\n      <td>0.0</td>\n      <td>0.0</td>\n      <td>0.0</td>\n      <td>1.0</td>\n      <td>0.0</td>\n      <td>0.0</td>\n      <td>1.0</td>\n      <td>0.0</td>\n    </tr>\n    <tr>\n      <th>4</th>\n      <td>0.0</td>\n      <td>0.0</td>\n      <td>1.0</td>\n      <td>0.0</td>\n      <td>0.0</td>\n      <td>1.0</td>\n      <td>0.0</td>\n      <td>1.0</td>\n      <td>0.0</td>\n      <td>0.0</td>\n      <td>1.0</td>\n      <td>0.0</td>\n      <td>0.0</td>\n      <td>0.0</td>\n      <td>1.0</td>\n    </tr>\n  </tbody>\n</table>\n</div>",
            "text/plain": "    0    1    2    3    4    5    6    7    8    9    10   11   12   13   14\n0  0.0  0.0  1.0  0.0  0.0  1.0  0.0  1.0  0.0  1.0  0.0  0.0  0.0  0.0  1.0\n1  1.0  0.0  0.0  0.0  0.0  1.0  0.0  1.0  0.0  0.0  0.0  1.0  0.0  0.0  1.0\n2  0.0  1.0  0.0  0.0  0.0  1.0  0.0  1.0  0.0  0.0  0.0  1.0  0.0  0.0  1.0\n3  0.0  0.0  1.0  0.0  0.0  1.0  1.0  0.0  0.0  0.0  1.0  0.0  0.0  1.0  0.0\n4  0.0  0.0  1.0  0.0  0.0  1.0  0.0  1.0  0.0  0.0  1.0  0.0  0.0  0.0  1.0"
          },
          "metadata": {}
        }
      ]
    },
    {
      "metadata": {},
      "cell_type": "markdown",
      "source": "### PART B ( Bernoulli NB )"
    },
    {
      "metadata": {},
      "cell_type": "markdown",
      "source": "The Bernoulli NB model was trained using the train data with default parameters. The accuracy of the Bernoulli NB model was computed. "
    },
    {
      "metadata": {
        "trusted": true
      },
      "cell_type": "code",
      "source": "# X and Y was intialised to data and replaced target respectively\nX = df_all_cat_ohe\nY = target_encoded\n\n# Bernoulli NB model fitting\nfrom sklearn.naive_bayes import BernoulliNB\nclf = BernoulliNB()\nclf.fit(X, Y)\nBernoulliNB()\n\n# accuracy of the Bernoulli NB model\nprint(\"Accuracy of Bernoulli NB is : \",clf.score(X, Y))",
      "execution_count": 9,
      "outputs": [
        {
          "output_type": "stream",
          "text": "Accuracy of Bernoulli NB is :  0.83\n",
          "name": "stdout"
        }
      ]
    },
    {
      "metadata": {},
      "cell_type": "markdown",
      "source": "After implementing Bernoulli NB , where the df_all_cat_ohe data was used to train the model and we obtained an accuracy of 0.83."
    },
    {
      "metadata": {},
      "cell_type": "markdown",
      "source": "### PART C ( Gaussian NB )"
    },
    {
      "metadata": {},
      "cell_type": "markdown",
      "source": "The Gaussian NB model was trained using the train data with default parameters. The accuracy of the Gaussian NB model was computed. "
    },
    {
      "metadata": {
        "trusted": true
      },
      "cell_type": "code",
      "source": "# Data and Target was intialised to data and replaced target respectively\nData = df_all_cat_ohe\nTarget = target_encoded\n\nnp.unique(Target,return_counts = True)",
      "execution_count": 10,
      "outputs": [
        {
          "output_type": "execute_result",
          "execution_count": 10,
          "data": {
            "text/plain": "(array([0, 1]), array([320, 180]))"
          },
          "metadata": {}
        }
      ]
    },
    {
      "metadata": {
        "trusted": true
      },
      "cell_type": "code",
      "source": "from sklearn.naive_bayes import GaussianNB\n\n# Gaussian NB model fitting\nclf_gaussian = GaussianNB(var_smoothing=1e-09)\nclf_gaussian.fit(Data, Target)\n\nprint(\"Accuracy of Gaussian NB is : \",clf_gaussian.score(Data, Target))\n",
      "execution_count": 11,
      "outputs": [
        {
          "output_type": "stream",
          "text": "Accuracy of Gaussian NB is :  0.728\n",
          "name": "stdout"
        }
      ]
    },
    {
      "metadata": {},
      "cell_type": "markdown",
      "source": "After implementing Gaussian NB , where the df_all_cat_ohe data was used to train the model and we obtained an accuracy of 0.728."
    },
    {
      "metadata": {},
      "cell_type": "markdown",
      "source": "### Part D ( Tuning your Models )"
    },
    {
      "metadata": {},
      "cell_type": "markdown",
      "source": "Fine-tunning the hyperparameters of both Bernoulli and Gaussian NB models were done.  The tuning results were displayed using plots."
    },
    {
      "metadata": {},
      "cell_type": "markdown",
      "source": "#### TASK 1 : Tuning"
    },
    {
      "metadata": {},
      "cell_type": "markdown",
      "source": "The paramters of both Bernoulli and gaussian models were fine-tuned in this task."
    },
    {
      "metadata": {
        "trusted": true
      },
      "cell_type": "code",
      "source": "import sklearn.metrics as metrics ",
      "execution_count": 12,
      "outputs": []
    },
    {
      "metadata": {},
      "cell_type": "markdown",
      "source": "##### Tuning the alpha parameter of the Bernoulli NB model"
    },
    {
      "metadata": {
        "trusted": true
      },
      "cell_type": "markdown",
      "source": "The classifiers were tuned based on their paramters, in the case of Bernoulli NB the alpha paramter. A 'for loop' was used to loop through the parameter using a range of values. The values were then inserted into a dataframe with columns as range of parameter values and corresponding score values."
    },
    {
      "metadata": {
        "trusted": true
      },
      "cell_type": "code",
      "source": "# creating a result dataset for plotting the score values\nBernoulli_results = pd.DataFrame(columns=['alpha', 'accuracy'])\n\n# for loop for looping through the paramter using a range of values\nfor alpha in (0,1):\n    classifier_bernoulli = BernoulliNB(alpha=alpha)\n    classifier_bernoulli.fit(X,Y)\n    predict_bernoulli = classifier_bernoulli.predict(X)\n    score_bernoulli = classifier_bernoulli.score(X,Y)\n    cv_score_bernoulli = metrics.accuracy_score(Y,predict_bernoulli)\n    print(\"Accuracy of Bernoulli NB is :\",score_bernoulli)\n    Bernoulli_results = Bernoulli_results.append(pd.DataFrame({'alpha':alpha, 'accuracy':cv_score_bernoulli},index=[alpha]))\n",
      "execution_count": 13,
      "outputs": [
        {
          "output_type": "stream",
          "text": "Accuracy of Bernoulli NB is : 0.83\nAccuracy of Bernoulli NB is : 0.83\n",
          "name": "stdout"
        }
      ]
    },
    {
      "metadata": {},
      "cell_type": "markdown",
      "source": "The optimal accuracy for Bernoulli NB was obtained for both alpha value 0 and 1,as an accuracy of 0.83."
    },
    {
      "metadata": {},
      "cell_type": "markdown",
      "source": "##### Tuning the var_smoothing parameter of the Gaussian NB model"
    },
    {
      "metadata": {},
      "cell_type": "markdown",
      "source": "The classifiers were tuned based on their paramters, in the case of Gaussian NB the var_smoothing paramter. A 'for loop' was used to loop through the paramter using a range of values. The values were then inserted into a dataframe with columns as range of parameter values and corresponding score values."
    },
    {
      "metadata": {
        "trusted": true
      },
      "cell_type": "code",
      "source": "# creating a result dataset for plotting the score values\nGaussian_results = pd.DataFrame(columns=['var_smoothing', 'accuracy'])\n\n# for loop for looping through the paramter using a range of values\nfor i in range(0,10):\n    classifier_gaussian = GaussianNB(var_smoothing=10**(-i))\n    classifier_gaussian.fit(Data,Target)\n    predict_gaussian = classifier_gaussian.predict(Data)\n    score_gaussian = classifier_gaussian.score(Data, Target)\n    cv_score_Gaussian = metrics.accuracy_score(Target,predict_gaussian)\n    print(\"Accuracy of Gaussian NB for :\",10**(-i),\"is :\",score_gaussian)\n    Gaussian_results = Gaussian_results.append(pd.DataFrame({'var_smoothing':(10**(-i)), 'accuracy':cv_score_Gaussian},index = [i]))\n",
      "execution_count": 14,
      "outputs": [
        {
          "output_type": "stream",
          "text": "Accuracy of Gaussian NB for : 1 is : 0.832\nAccuracy of Gaussian NB for : 0.1 is : 0.83\nAccuracy of Gaussian NB for : 0.01 is : 0.828\nAccuracy of Gaussian NB for : 0.001 is : 0.826\nAccuracy of Gaussian NB for : 0.0001 is : 0.824\nAccuracy of Gaussian NB for : 1e-05 is : 0.812\nAccuracy of Gaussian NB for : 1e-06 is : 0.8\nAccuracy of Gaussian NB for : 1e-07 is : 0.798\nAccuracy of Gaussian NB for : 1e-08 is : 0.75\nAccuracy of Gaussian NB for : 1e-09 is : 0.728\n",
          "name": "stdout"
        }
      ]
    },
    {
      "metadata": {},
      "cell_type": "markdown",
      "source": "The optimal accuracy for Gaussian NB was obtained for the var_smoothing value 1, which has an accuracy of 0.832."
    },
    {
      "metadata": {
        "trusted": true
      },
      "cell_type": "markdown",
      "source": "#### TASK 2 : Plotting"
    },
    {
      "metadata": {},
      "cell_type": "markdown",
      "source": "The tuning results were then displayed using plot with appropriate axes labels and titles."
    },
    {
      "metadata": {},
      "cell_type": "markdown",
      "source": "##### Plotting for Bernoulli NB model"
    },
    {
      "metadata": {},
      "cell_type": "markdown",
      "source": "The tuning results of Bernoulli NB model was displayed using a plot with x axis labeling alpha paramter values and y labels the mean cv score values."
    },
    {
      "metadata": {
        "trusted": true
      },
      "cell_type": "code",
      "source": "# the dataframe that contains the alpha parameter values with test score values\nBernoulli_results",
      "execution_count": 15,
      "outputs": [
        {
          "output_type": "execute_result",
          "execution_count": 15,
          "data": {
            "text/html": "<div>\n<style scoped>\n    .dataframe tbody tr th:only-of-type {\n        vertical-align: middle;\n    }\n\n    .dataframe tbody tr th {\n        vertical-align: top;\n    }\n\n    .dataframe thead th {\n        text-align: right;\n    }\n</style>\n<table border=\"1\" class=\"dataframe\">\n  <thead>\n    <tr style=\"text-align: right;\">\n      <th></th>\n      <th>alpha</th>\n      <th>accuracy</th>\n    </tr>\n  </thead>\n  <tbody>\n    <tr>\n      <th>0</th>\n      <td>0</td>\n      <td>0.83</td>\n    </tr>\n    <tr>\n      <th>1</th>\n      <td>1</td>\n      <td>0.83</td>\n    </tr>\n  </tbody>\n</table>\n</div>",
            "text/plain": "  alpha  accuracy\n0     0      0.83\n1     1      0.83"
          },
          "metadata": {}
        }
      ]
    },
    {
      "metadata": {
        "trusted": true
      },
      "cell_type": "code",
      "source": "# plot used to display the tuning result of Bernoulli NB model\nplt.plot(Bernoulli_results['alpha'],Bernoulli_results['accuracy'])\nplt.title(\"Performance Comparison of Bernoulli NB\")\nplt.xlabel('alpha')\nplt.ylabel('accuracy')\nplt.show()",
      "execution_count": 16,
      "outputs": [
        {
          "output_type": "display_data",
          "data": {
            "image/png": "[encoded data removed]",
            "text/plain": "<Figure size 432x288 with 1 Axes>"
          },
          "metadata": {
            "needs_background": "light"
          }
        }
      ]
    },
    {
      "metadata": {},
      "cell_type": "markdown",
      "source": "##### Plotting for Gaussian NB model"
    },
    {
      "metadata": {},
      "cell_type": "markdown",
      "source": "The tuning results of Gaussian NB model was displayed using a plot with x axis labeling var_smoothing paramter values and y labels the mean cv score values."
    },
    {
      "metadata": {
        "trusted": true
      },
      "cell_type": "code",
      "source": "# the dataframe that contains the var_smoothing parameter values with test score values\nGaussian_results",
      "execution_count": 17,
      "outputs": [
        {
          "output_type": "execute_result",
          "execution_count": 17,
          "data": {
            "text/html": "<div>\n<style scoped>\n    .dataframe tbody tr th:only-of-type {\n        vertical-align: middle;\n    }\n\n    .dataframe tbody tr th {\n        vertical-align: top;\n    }\n\n    .dataframe thead th {\n        text-align: right;\n    }\n</style>\n<table border=\"1\" class=\"dataframe\">\n  <thead>\n    <tr style=\"text-align: right;\">\n      <th></th>\n      <th>var_smoothing</th>\n      <th>accuracy</th>\n    </tr>\n  </thead>\n  <tbody>\n    <tr>\n      <th>0</th>\n      <td>1</td>\n      <td>0.832</td>\n    </tr>\n    <tr>\n      <th>1</th>\n      <td>0.1</td>\n      <td>0.830</td>\n    </tr>\n    <tr>\n      <th>2</th>\n      <td>0.01</td>\n      <td>0.828</td>\n    </tr>\n    <tr>\n      <th>3</th>\n      <td>0.001</td>\n      <td>0.826</td>\n    </tr>\n    <tr>\n      <th>4</th>\n      <td>0.0001</td>\n      <td>0.824</td>\n    </tr>\n    <tr>\n      <th>5</th>\n      <td>1e-05</td>\n      <td>0.812</td>\n    </tr>\n    <tr>\n      <th>6</th>\n      <td>1e-06</td>\n      <td>0.800</td>\n    </tr>\n    <tr>\n      <th>7</th>\n      <td>1e-07</td>\n      <td>0.798</td>\n    </tr>\n    <tr>\n      <th>8</th>\n      <td>1e-08</td>\n      <td>0.750</td>\n    </tr>\n    <tr>\n      <th>9</th>\n      <td>1e-09</td>\n      <td>0.728</td>\n    </tr>\n  </tbody>\n</table>\n</div>",
            "text/plain": "  var_smoothing  accuracy\n0             1     0.832\n1           0.1     0.830\n2          0.01     0.828\n3         0.001     0.826\n4        0.0001     0.824\n5         1e-05     0.812\n6         1e-06     0.800\n7         1e-07     0.798\n8         1e-08     0.750\n9         1e-09     0.728"
          },
          "metadata": {}
        }
      ]
    },
    {
      "metadata": {
        "trusted": true
      },
      "cell_type": "code",
      "source": "# plot used to display the tuning result of Gaussian NB model\nplt.plot(Gaussian_results['var_smoothing'],Gaussian_results['accuracy'])\nplt.title(\"Performance Comparison of Gaussian NB\")\nplt.xlabel('var.smoothing')\nplt.ylabel('accuracy')\nplt.show()",
      "execution_count": 18,
      "outputs": [
        {
          "output_type": "display_data",
          "data": {
            "image/png": "[encoded data removed]",
            "text/plain": "<Figure size 432x288 with 1 Axes>"
          },
          "metadata": {
            "needs_background": "light"
          }
        }
      ]
    },
    {
      "metadata": {},
      "cell_type": "markdown",
      "source": "### Part E ( Hybrid NB )"
    },
    {
      "metadata": {},
      "cell_type": "markdown",
      "source": "Implementing Hybrid NB using Bernoulli NB for categorical descriptive features and Gaussian NB for numerical descriptive features. \nThe data was encoded using one-hot encoding after the target and id column of the data was dropped. Then the model was trained using the training data and the accuracy of the hybrid model was computed."
    },
    {
      "metadata": {
        "trusted": true
      },
      "cell_type": "code",
      "source": "# dropping the target and id columns\ndf_hybrid_nb = train_data.drop(['annual_income','row_id'],axis=1)",
      "execution_count": 19,
      "outputs": []
    },
    {
      "metadata": {
        "trusted": true
      },
      "cell_type": "code",
      "source": "# get the list of categorical descriptive features\ncategorical_cols = df_hybrid_nb.columns[df_hybrid_nb.dtypes==object].tolist()\n\n# if a categorical descriptive feature has only 2 levels,\n# define only one binary variable\nfor col in categorical_cols:\n    n = len(df_hybrid_nb[col].unique())\n    if (n == 2):\n        df_hybrid_nb[col] = pd.get_dummies(df_hybrid_nb[col], drop_first=True)\n\n# for other categorical features (with > 2 levels), \n# use regular one-hot-encoding \n# if a feature is numeric, it will be untouched\ndf_hybrid_nb = pd.get_dummies(df_hybrid_nb)\n",
      "execution_count": 20,
      "outputs": []
    },
    {
      "metadata": {
        "trusted": true
      },
      "cell_type": "code",
      "source": "# Data and Target was intialised to encoded data and replaced target respectively\nData_hybrid = df_hybrid_nb\nTarget_hybrid = target_encoded\n\nfrom sklearn.naive_bayes import GaussianNB, BernoulliNB\nfrom sklearn.ensemble import VotingClassifier\n\n# Bernoulli and Gaussian NB model\nbernoulli_classifier = BernoulliNB()\ngaussian_classifier = GaussianNB()\n\n# model was trained using the training data and the accuracy was computed\nclassifier_est = VotingClassifier(estimators = [('bnb',bernoulli_classifier),('gnb',gaussian_classifier)],voting = 'hard')\nclassifier_est = classifier_est.fit(Data_hybrid,Target_hybrid)\npredict_classifier = classifier_est.predict(Data_hybrid)\nprint(\"Hybrid NB has an Accuracy: \",metrics.accuracy_score(Target_hybrid,predict_classifier))",
      "execution_count": 21,
      "outputs": [
        {
          "output_type": "stream",
          "text": "Hybrid NB has an Accuracy:  0.832\n",
          "name": "stdout"
        }
      ]
    },
    {
      "metadata": {},
      "cell_type": "markdown",
      "source": "After implementing Hybrid NB using Bernoulli NB and Gaussian NB, where the df_hybrid_nb data was used to train the model and obtain an accuracy of 0.832 ."
    },
    {
      "metadata": {},
      "cell_type": "markdown",
      "source": "### Part F ( Wrapping Up )"
    },
    {
      "metadata": {},
      "cell_type": "markdown",
      "source": "Data was summarised using df_summary. df_summary has two columns , method and accuracy, where each method with its respective accuracy were displayed."
    },
    {
      "metadata": {
        "trusted": true
      },
      "cell_type": "code",
      "source": "df_summary = pd.DataFrame(columns=['method','accuracy'])\ndf_summary.loc[len(df_summary)] = ['Bernoulli NB',0.83]\ndf_summary.loc[len(df_summary)] = ['Gaussian NB',0.728]\ndf_summary.loc[len(df_summary)] = ['Tuned Bernoulli NB',0.83]\ndf_summary.loc[len(df_summary)] = ['Tuned Gaussian NB',0.832]\ndf_summary.loc[len(df_summary)] = ['Hybrid NB',0.832]",
      "execution_count": 22,
      "outputs": []
    },
    {
      "metadata": {
        "trusted": true
      },
      "cell_type": "code",
      "source": "df_summary",
      "execution_count": 23,
      "outputs": [
        {
          "output_type": "execute_result",
          "execution_count": 23,
          "data": {
            "text/html": "<div>\n<style scoped>\n    .dataframe tbody tr th:only-of-type {\n        vertical-align: middle;\n    }\n\n    .dataframe tbody tr th {\n        vertical-align: top;\n    }\n\n    .dataframe thead th {\n        text-align: right;\n    }\n</style>\n<table border=\"1\" class=\"dataframe\">\n  <thead>\n    <tr style=\"text-align: right;\">\n      <th></th>\n      <th>method</th>\n      <th>accuracy</th>\n    </tr>\n  </thead>\n  <tbody>\n    <tr>\n      <th>0</th>\n      <td>Bernoulli NB</td>\n      <td>0.830</td>\n    </tr>\n    <tr>\n      <th>1</th>\n      <td>Gaussian NB</td>\n      <td>0.728</td>\n    </tr>\n    <tr>\n      <th>2</th>\n      <td>Tuned Bernoulli NB</td>\n      <td>0.830</td>\n    </tr>\n    <tr>\n      <th>3</th>\n      <td>Tuned Gaussian NB</td>\n      <td>0.832</td>\n    </tr>\n    <tr>\n      <th>4</th>\n      <td>Hybrid NB</td>\n      <td>0.832</td>\n    </tr>\n  </tbody>\n</table>\n</div>",
            "text/plain": "               method  accuracy\n0        Bernoulli NB     0.830\n1         Gaussian NB     0.728\n2  Tuned Bernoulli NB     0.830\n3   Tuned Gaussian NB     0.832\n4           Hybrid NB     0.832"
          },
          "metadata": {}
        }
      ]
    },
    {
      "metadata": {
        "trusted": true
      },
      "cell_type": "markdown",
      "source": "(i) Whether hyper-parameter tuning improves the performance of the Bernoulli and Gaussian NB models respectively. \n\n  The untuned Bernoulli Model had an accuracy of 0.83 well the tuned Bernoulli model where classifiers were tuned based on the alpha paramters, also provided the same accuracy of 0.83. The untuned and tuned Bernoulli models had similar accuracy levels and so in the case of Bernoulii NB model the performance had not improved after tuning the hyper-parameters.\n        \n   In the case of Gaussian model, untuned Gaussian model had an accuracy of 0.728 well the tuned Gaussian Model where classifiers were tuned based on the var_smoothing paramters, provided the optimal accuracy of 0.832 for var_smoothing value 1. The untuned and tuned Gaussian models had difference in their  accuracy levels and so in the case of Gaussian NB model the performance had improved after tuning the hyper-parameters."
    },
    {
      "metadata": {},
      "cell_type": "markdown",
      "source": "(ii) Whether your Hybrid NB model has more predictive power than the (untuned) Bernoulli and Gaussian NB models respectively.\n\n  The untuned Bernoulli and Gaussian NB models after training with the encoded training data gave an accuracy of 0.83 and 0.728 respectively. The hybrid model that combined both these models together using Bernoulli NB for categorical descriptive features and Gaussian NB for numerical descriptive features gave an accuracy of 0.832. Thus proving that the hybrid NB model has more predictive power than untuned Bernoulli and Gaussian NB models."
    }
  ],
  "metadata": {
    "kernelspec": {
      "name": "python36",
      "display_name": "Python 3.6",
      "language": "python"
    },
    "language_info": {
      "mimetype": "text/x-python",
      "nbconvert_exporter": "python",
      "name": "python",
      "pygments_lexer": "ipython3",
      "version": "3.6.6",
      "file_extension": ".py",
      "codemirror_mode": {
        "version": 3,
        "name": "ipython"
      }
    }
  },
  "nbformat": 4,
  "nbformat_minor": 2
}